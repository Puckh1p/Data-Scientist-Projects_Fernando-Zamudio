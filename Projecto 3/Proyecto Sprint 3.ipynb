{
 "cells": [
  {
   "cell_type": "markdown",
   "metadata": {},
   "source": [
    "# ¡Hola Fernando! 😊\n",
    "\n",
    "Mi nombre es **Alejandro Castellanos** y hoy tengo el placer de ser el revisor de tu proyecto.\n",
    "\n",
    "Voy a revisar todo tu código con detalle, buscando tanto los puntos fuertes como aquellos en los que podrías mejorar. Te dejaré comentarios a lo largo del notebook, destacando lo que has hecho bien y sugiriendo ajustes donde sea necesario. Si encuentro algún error, no te preocupes, te lo haré saber de forma clara y te daré información útil para que puedas corregirlo en la próxima iteración. Si en algún punto tienes comentarios, siéntete libre de dejarlos también.\n",
    "\n",
    "\n",
    "Encontrarás mis comentarios específicos dentro de cajas verdes, amarillas o rojas, es muy importante que no muevas, modifiques o borres mis comentarios, con el fin de tener un seguimiento adecuado de tu proceso:\n",
    "\n",
    "\n",
    "<div class=\"alert alert-block alert-success\">\n",
    "<b>Comentario del revisor</b> <a class=“tocSkip”></a>\n",
    "Si todo está perfecto.\n",
    "</div>\n",
    "\n",
    "<div class=\"alert alert-block alert-warning\">\n",
    "<b>Comentario del revisor</b> <a class=“tocSkip”></a>\n",
    "Si tu código está bien pero se puede mejorar o hay algún detalle que le hace falta.\n",
    "</div>\n",
    "\n",
    "<div class=\"alert alert-block alert-danger\">\n",
    "<b>Comentario del revisor</b> <a class=“tocSkip”></a>\n",
    "Si de pronto hace falta algo o existe algún problema con tu código o conclusiones.\n",
    "</div>\n",
    "\n",
    "Puedes responderme de esta forma:\n",
    "<div class=\"alert alert-block alert-info\">\n",
    "<b>Respuesta del estudiante</b> <a class=“tocSkip”></a>\n",
    "</div>\n",
    "\n",
    "A continuación te dejaré un comentario general con mi valoración del proyecto. **¡Mi objetivo es que sigas aprendiendo y mejorando con cada paso!**"
   ]
  },
  {
   "cell_type": "markdown",
   "metadata": {},
   "source": [
    "---"
   ]
  },
  {
   "cell_type": "markdown",
   "metadata": {},
   "source": [
    "<div class=\"alert alert-block alert-success\">\n",
    "<b>Comentario General del revisor (1ra Iteración)</b> <a class=“tocSkip”></a>\n",
    "\n",
    "Fernando has cumplido satisfactoriamente con todos los objetivos del proyecto. Tu análisis exploratorio de datos fue realmente sobresaliente, demostrando una notable capacidad para examinar y ajustar la información de acuerdo con las indicaciones propuestas. El desarrollo de tu prueba de hipótesis fue correcta, pues lograste extraer información crucial y significativa sobre los patrones de consumo musical entre usuarios de diferentes ciudades. \n",
    "\n",
    "Tu habilidad para analizar e interpretar datos refleja un buen nivel de comprensión de la información obtenida en el contexto del caso de estudio, lo cual es fundamental para complementar tu trabajo y darle mayor valor a los datos con los que estás trabajando. \n",
    "\n",
    "Te deseo éxitos en tu próximo Sprint 🚀\n",
    "\n",
    "*Estado del proyecto:* **Aprobado**\n",
    "\n",
    "</div>"
   ]
  },
  {
   "cell_type": "markdown",
   "metadata": {},
   "source": [
    "---"
   ]
  },
  {
   "cell_type": "markdown",
   "metadata": {
    "id": "E0vqbgi9ay0H"
   },
   "source": [
    "# Déjame escuchar la música"
   ]
  },
  {
   "cell_type": "markdown",
   "metadata": {
    "id": "fhq_eyov_Zcs"
   },
   "source": [
    "# Contenido <a id='back'></a>\n",
    "\n",
    "* [Introducción](#intro)\n",
    "* [Etapa 1. Descripción de los datos](#data_review)\n",
    "    * [Conclusiones](#data_review_conclusions)\n",
    "* [Etapa 2. Preprocesamiento de datos](#data_preprocessing)\n",
    "    * [2.1 Estilo del encabezado](#header_style)\n",
    "    * [2.2 Valores ausentes](#missing_values)\n",
    "    * [2.3 Duplicados](#duplicates)\n",
    "    * [2.4 Conclusiones](#data_preprocessing_conclusions)\n",
    "* [Etapa 3. Prueba de hipótesis](#hypothesis)\n",
    "    * [3.1 Hipótesis 1: actividad de los usuarios y las usuarias en las dos ciudades](#activity)\n",
    "* [Conclusiones](#end)"
   ]
  },
  {
   "cell_type": "markdown",
   "metadata": {
    "id": "VUC88oWjTJw2"
   },
   "source": [
    "## Introducción <a id='intro'></a>\n",
    "Como analista de datos, tu trabajo consiste en analizar datos para extraer información valiosa y tomar decisiones basadas en ellos. Esto implica diferentes etapas, como la descripción general de los datos, el preprocesamiento y la prueba de hipótesis.\n",
    "\n",
    "Siempre que investigamos, necesitamos formular hipótesis que después podamos probar. A veces aceptamos estas hipótesis; otras veces, las rechazamos. Para tomar las decisiones correctas, una empresa debe ser capaz de entender si está haciendo las suposiciones correctas.\n",
    "\n",
    "En este proyecto, compararás las preferencias musicales de las ciudades de Springfield y Shelbyville. Estudiarás datos reales de transmisión de música online para probar la hipótesis a continuación y comparar el comportamiento de los usuarios y las usuarias de estas dos ciudades.\n",
    "\n",
    "### Objetivo:\n",
    "Prueba la hipótesis:\n",
    "1. La actividad de los usuarios y las usuarias difiere según el día de la semana y dependiendo de la ciudad.\n",
    "\n",
    "\n",
    "### Etapas\n",
    "Los datos del comportamiento del usuario se almacenan en el archivo `/datasets/music_project_en.csv`. No hay ninguna información sobre la calidad de los datos, así que necesitarás examinarlos antes de probar la hipótesis.\n",
    "\n",
    "Primero, evaluarás la calidad de los datos y verás si los problemas son significativos. Entonces, durante el preprocesamiento de datos, tomarás en cuenta los problemas más críticos.\n",
    "\n",
    "Tu proyecto consistirá en tres etapas:\n",
    " 1. Descripción de los datos.\n",
    " 2. Preprocesamiento de datos.\n",
    " 3. Prueba de hipótesis.\n",
    "\n",
    "\n",
    "\n",
    "\n",
    "\n",
    "\n"
   ]
  },
  {
   "cell_type": "markdown",
   "metadata": {
    "id": "hDt6pg-Rw-1U"
   },
   "source": [
    "[Volver a Contenidos](#back)"
   ]
  },
  {
   "cell_type": "markdown",
   "metadata": {
    "id": "Ml1hmfXC_Zcs"
   },
   "source": [
    "## Etapa 1. Descripción de los datos <a id='data_review'></a>\n",
    "\n",
    "Abre los datos y examínalos."
   ]
  },
  {
   "cell_type": "markdown",
   "metadata": {
    "id": "57eAOGIz_Zcs"
   },
   "source": [
    "Necesitarás `pandas`, así que impórtalo."
   ]
  },
  {
   "cell_type": "code",
   "execution_count": 1,
   "metadata": {
    "id": "AXN7PHPN_Zcs"
   },
   "outputs": [],
   "source": [
    "# Importar pandas\n",
    "import pandas as pd"
   ]
  },
  {
   "cell_type": "markdown",
   "metadata": {
    "id": "SG23P8tt_Zcs"
   },
   "source": [
    "Lee el archivo `music_project_en.csv` de la carpeta `/datasets/` y guárdalo en la variable `df`:"
   ]
  },
  {
   "cell_type": "code",
   "execution_count": 2,
   "metadata": {
    "id": "fFVu7vqh_Zct"
   },
   "outputs": [],
   "source": [
    "# Leer el archivo y almacenarlo en df\n",
    "import pandas as pd\n",
    "\n",
    "df = pd.read_csv ('/datasets/music_project_en.csv')"
   ]
  },
  {
   "cell_type": "markdown",
   "metadata": {
    "id": "rDoOMd3uTqnZ"
   },
   "source": [
    "Muestra las 10 primeras filas de la tabla:"
   ]
  },
  {
   "cell_type": "code",
   "execution_count": 3,
   "metadata": {
    "id": "oWTVX3gW_Zct"
   },
   "outputs": [
    {
     "name": "stdout",
     "output_type": "stream",
     "text": [
      "     userID                        Track            artist   genre  \\\n",
      "0  FFB692EC            Kamigata To Boots  The Mass Missile    rock   \n",
      "1  55204538  Delayed Because of Accident  Andreas Rönnberg    rock   \n",
      "2    20EC38            Funiculì funiculà       Mario Lanza     pop   \n",
      "3  A3DD03C9        Dragons in the Sunset        Fire + Ice    folk   \n",
      "4  E2DC1FAE                  Soul People        Space Echo   dance   \n",
      "5  842029A1                       Chains          Obladaet  rusrap   \n",
      "6  4CB90AA5                         True      Roman Messer   dance   \n",
      "7  F03E1C1F             Feeling This Way   Polina Griffith   dance   \n",
      "8  8FA1D3BE                     L’estate       Julia Dalia  ruspop   \n",
      "9  E772D5C0                    Pessimist               NaN   dance   \n",
      "\n",
      "        City        time        Day  \n",
      "0  Shelbyville  20:28:33  Wednesday  \n",
      "1  Springfield  14:07:09     Friday  \n",
      "2  Shelbyville  20:58:07  Wednesday  \n",
      "3  Shelbyville  08:37:09     Monday  \n",
      "4  Springfield  08:34:34     Monday  \n",
      "5  Shelbyville  13:09:41     Friday  \n",
      "6  Springfield  13:00:07  Wednesday  \n",
      "7  Springfield  20:47:49  Wednesday  \n",
      "8  Springfield  09:17:40     Friday  \n",
      "9  Shelbyville  21:20:49  Wednesday  \n"
     ]
    }
   ],
   "source": [
    "# Obtener las 10 primeras filas de la tabla df\n",
    "import pandas as pd\n",
    "\n",
    "df = pd.read_csv ('/datasets/music_project_en.csv')\n",
    "\n",
    "print(df.head(10)) #Con head podemos imprimir las primeras 10 filas de la tabla"
   ]
  },
  {
   "cell_type": "markdown",
   "metadata": {
    "id": "EO73Kwic_Zct"
   },
   "source": [
    "Obtén la información general sobre la tabla con un comando. Conoces el método que muestra la información general que necesitamos."
   ]
  },
  {
   "cell_type": "code",
   "execution_count": 4,
   "metadata": {
    "id": "DSf2kIb-_Zct"
   },
   "outputs": [
    {
     "name": "stdout",
     "output_type": "stream",
     "text": [
      "<class 'pandas.core.frame.DataFrame'>\n",
      "RangeIndex: 65079 entries, 0 to 65078\n",
      "Data columns (total 7 columns):\n",
      " #   Column    Non-Null Count  Dtype \n",
      "---  ------    --------------  ----- \n",
      " 0     userID  65079 non-null  object\n",
      " 1   Track     63736 non-null  object\n",
      " 2   artist    57512 non-null  object\n",
      " 3   genre     63881 non-null  object\n",
      " 4     City    65079 non-null  object\n",
      " 5   time      65079 non-null  object\n",
      " 6   Day       65079 non-null  object\n",
      "dtypes: object(7)\n",
      "memory usage: 3.5+ MB\n"
     ]
    }
   ],
   "source": [
    "# Obtener la información general sobre nuestros datos\n",
    "import pandas as pd\n",
    "\n",
    "df = pd.read_csv ('/datasets/music_project_en.csv')\n",
    "\n",
    "df.info()"
   ]
  },
  {
   "cell_type": "markdown",
   "metadata": {
    "id": "TaQ2Iwbr_Zct"
   },
   "source": [
    "Estas son nuestras observaciones sobre la tabla. Contiene siete columnas. Almacenan los mismos tipos de datos: `object`.\n",
    "\n",
    "Según la documentación:\n",
    "- `' userID'`: identificador del usuario o la usuaria;\n",
    "- `'Track'`: título de la canción;\n",
    "- `'artist'`: nombre del artista;\n",
    "- `'genre'`: género de la pista;\n",
    "- `'City'`: ciudad del usuario o la usuaria;\n",
    "- `'time'`: la hora exacta en la que se reprodujo la canción;\n",
    "- `'Day'`: día de la semana.\n",
    "\n",
    "Podemos ver tres problemas con el estilo en los encabezados de la tabla:\n",
    "1. Algunos encabezados están en mayúsculas, otros en minúsculas.\n",
    "2. Hay espacios en algunos encabezados.\n",
    "3. `Encabezados con varias palabras por lo que se necesita usar snake_case`.\n",
    "\n",
    "\n"
   ]
  },
  {
   "cell_type": "markdown",
   "metadata": {
    "id": "MCB6-dXG_Zct"
   },
   "source": [
    "### Escribe observaciones de tu parte. Estas son algunas de las preguntas que pueden ser útiles: <a id='data_review_conclusions'></a>\n",
    "\n",
    "`1.   ¿Qué tipo de datos tenemos a nuestra disposición en las filas? ¿Y cómo podemos entender lo que almacenan las columnas?`\n",
    "Tenemos un tipo de dato \"object\" en todas nuestras columnas. Gracias a los nombres de las columnas podemos entender lo que almacenan\n",
    "\n",
    "`2.   ¿Hay suficientes datos para proporcionar respuestas a nuestra hipótesis o necesitamos más información?`\n",
    "Diría que si, ya que solo estamos comparando la ciudad de Springfield y Shelbyville. Si fueran de más ciudades en este caso si necesitariamos más información.\n",
    "\n",
    "`3.   ¿Notaste algún problema en los datos, como valores ausentes, duplicados o tipos de datos incorrectos?`\n",
    "En las columnas de Track, Artist y Genre podemos notar que hay valores ausente. De momento no se visualizan datos duplicados ni tampoco datos incorrectos\n"
   ]
  },
  {
   "cell_type": "markdown",
   "metadata": {
    "id": "3eL__vcwViOi"
   },
   "source": [
    "[Volver a Contenidos](#back)"
   ]
  },
  {
   "cell_type": "markdown",
   "metadata": {},
   "source": [
    "<div class=\"alert alert-block alert-success\">\n",
    "<b>Comentario del revisor (1ra Iteración)</b> <a class=“tocSkip”></a>\n",
    "\n",
    "¡Excelente trabajo al importar la librería `pandas` y cargar el dataset del proyecto! Además, has hecho un muy buen uso de la función `info`. En cuanto a la función `head`, te recomiendo no utilizarla dentro de un `print`, ya que esto elimina las ventajas visuales que ofrecen los notebooks de Jupyter. En su lugar, basta con usar `df.head()` directamente.\n",
    "\n",
    "Por otro lado, tus observaciones sobre los datos son muy acertadas, esto te permitirá organizar tus ideas de forma clara y tener una visión estructurada del trabajo que realizarás con los datos. Esta estrategia te ayudará a mantener el foco y avanzar de manera eficiente hacia tus objetivos.     \n",
    "    \n",
    "</div>"
   ]
  },
  {
   "cell_type": "markdown",
   "metadata": {
    "id": "SjYF6Ub9_Zct"
   },
   "source": [
    "## Etapa 2. Preprocesamiento de datos <a id='data_preprocessing'></a>\n",
    "\n",
    "El objetivo aquí es preparar los datos para que sean analizados.\n",
    "El primer paso es resolver cualquier problema con los encabezados. Luego podemos avanzar a los valores ausentes y duplicados. Empecemos.\n",
    "\n",
    "Corrige el formato en los encabezados de la tabla.\n"
   ]
  },
  {
   "cell_type": "markdown",
   "metadata": {
    "id": "dIaKXr29_Zct"
   },
   "source": [
    "### Estilo del encabezado <a id='header_style'></a>\n",
    "Muestra los encabezados de la tabla (los nombres de las columnas):"
   ]
  },
  {
   "cell_type": "code",
   "execution_count": 5,
   "metadata": {
    "id": "oKOTdF_Q_Zct"
   },
   "outputs": [
    {
     "name": "stdout",
     "output_type": "stream",
     "text": [
      "Index(['  userID', 'Track', 'artist', 'genre', '  City  ', 'time', 'Day'], dtype='object')\n"
     ]
    }
   ],
   "source": [
    "# Muestra los nombres de las columnas\n",
    "print(df.columns)"
   ]
  },
  {
   "cell_type": "markdown",
   "metadata": {
    "id": "zj5534cv_Zct"
   },
   "source": [
    "Cambia los encabezados de la tabla de acuerdo con las reglas del buen estilo:\n",
    "* Todos los caracteres deben ser minúsculas.\n",
    "* Elimina los espacios.\n",
    "* Si el nombre tiene varias palabras, utiliza snake_case."
   ]
  },
  {
   "cell_type": "markdown",
   "metadata": {
    "id": "Xu0zkfe5zNJe"
   },
   "source": [
    "Anteriormente, aprendiste acerca de la forma automática de cambiar el nombre de las columnas. Vamos a aplicarla ahora. Utiliza el bucle for para iterar sobre los nombres de las columnas y poner todos los caracteres en minúsculas. Cuando hayas terminado, vuelve a mostrar los encabezados de la tabla:"
   ]
  },
  {
   "cell_type": "code",
   "execution_count": 6,
   "metadata": {
    "id": "6I_RwwMhzM4e"
   },
   "outputs": [
    {
     "name": "stdout",
     "output_type": "stream",
     "text": [
      "Index(['  userid', 'track', 'artist', 'genre', '  city  ', 'time', 'day'], dtype='object')\n"
     ]
    }
   ],
   "source": [
    "# Bucle en los encabezados poniendo todo en minúsculas\n",
    "new_columns_name_lower = []\n",
    "\n",
    "#Iniciaremos un bucle para  poner todos los encabezados en minusculas\n",
    "for old_name in df.columns:\n",
    "    new_lowered_name = old_name.lower()\n",
    "    new_columns_name_lower.append(new_lowered_name)\n",
    "    \n",
    "df.columns = new_columns_name_lower\n",
    "print(df.columns)"
   ]
  },
  {
   "cell_type": "markdown",
   "metadata": {
    "id": "pweIRxjSzPYW"
   },
   "source": [
    "Ahora, utilizando el mismo método, elimina los espacios al principio y al final de los nombres de las columnas e imprime los nombres de las columnas nuevamente:"
   ]
  },
  {
   "cell_type": "code",
   "execution_count": 7,
   "metadata": {
    "id": "vVQXbFyJzSYl"
   },
   "outputs": [
    {
     "name": "stdout",
     "output_type": "stream",
     "text": [
      "Index(['userid', 'track', 'artist', 'genre', 'city', 'time', 'day'], dtype='object')\n"
     ]
    }
   ],
   "source": [
    "new_columns_name_strip = []\n",
    "\n",
    "for old_name in df.columns:\n",
    "    name_shipped = old_name.strip()\n",
    "    new_columns_name_strip.append(name_shipped)\n",
    "    \n",
    "df.columns = new_columns_name_strip\n",
    "print(df.columns)"
   ]
  },
  {
   "cell_type": "markdown",
   "metadata": {
    "id": "yCb8MW1JzURd"
   },
   "source": [
    "Necesitamos aplicar la regla de snake_case a la columna `userid`. Debe ser `user_id`. Cambia el nombre de esta columna y muestra los nombres de todas las columnas cuando hayas terminado."
   ]
  },
  {
   "cell_type": "code",
   "execution_count": 8,
   "metadata": {
    "id": "ISlFqs5y_Zct"
   },
   "outputs": [
    {
     "name": "stdout",
     "output_type": "stream",
     "text": [
      "Index(['user_id', 'track', 'artist', 'genre', 'city', 'time', 'day'], dtype='object')\n"
     ]
    }
   ],
   "source": [
    "# Cambiar el nombre de la columna \"userid\"\n",
    "new_column_shake = {'userid':'user_id'}\n",
    "\n",
    "df.rename(columns = new_column_shake, inplace = True)\n",
    "print(df.columns)"
   ]
  },
  {
   "cell_type": "markdown",
   "metadata": {
    "id": "1dqbh00J_Zct"
   },
   "source": [
    "Comprueba el resultado. Muestra los encabezados una vez más:"
   ]
  },
  {
   "cell_type": "code",
   "execution_count": 9,
   "metadata": {
    "id": "d4NOAmTW_Zct"
   },
   "outputs": [
    {
     "name": "stdout",
     "output_type": "stream",
     "text": [
      "Index(['user_id', 'track', 'artist', 'genre', 'city', 'time', 'day'], dtype='object')\n"
     ]
    }
   ],
   "source": [
    "# Comprobar el resultado: la lista de encabezados\n",
    "print(df.columns)"
   ]
  },
  {
   "cell_type": "markdown",
   "metadata": {
    "id": "xYJk6ksJVpOl"
   },
   "source": [
    "[Volver a Contenidos](#back)"
   ]
  },
  {
   "cell_type": "markdown",
   "metadata": {},
   "source": [
    "<div class=\"alert alert-block alert-success\">\n",
    "<b>Comentario del revisor (1ra Iteración)</b> <a class=“tocSkip”></a>\n",
    "\n",
    "Excelente trabajo ajustando el estilo de los encabezados del dataset. Esta tarea es esencial para garantizar claridad y consistencia en el análisis de datos. Además, facilita la manipulación y reduce errores al trabajar con información estructurada.\n",
    "\n",
    "</div>"
   ]
  },
  {
   "cell_type": "markdown",
   "metadata": {
    "id": "5ISfbcfY_Zct"
   },
   "source": [
    "### Valores ausentes <a id='missing_values'></a>\n",
    " Primero, encuentra el número de valores ausentes en la tabla. Debes utilizar dos métodos en una secuencia para obtener el número de valores ausentes."
   ]
  },
  {
   "cell_type": "code",
   "execution_count": 10,
   "metadata": {
    "id": "RskX29qr_Zct"
   },
   "outputs": [
    {
     "name": "stdout",
     "output_type": "stream",
     "text": [
      "user_id       0\n",
      "track      1343\n",
      "artist     7567\n",
      "genre      1198\n",
      "city          0\n",
      "time          0\n",
      "day           0\n",
      "dtype: int64\n"
     ]
    }
   ],
   "source": [
    "# Calcular el número de valores ausentes\n",
    "print(df.isna().sum())"
   ]
  },
  {
   "cell_type": "markdown",
   "metadata": {
    "id": "qubhgnlO_Zct"
   },
   "source": [
    "No todos los valores ausentes afectan a la investigación. Por ejemplo, los valores ausentes en `track` y `artist` no son cruciales. Simplemente puedes reemplazarlos con valores predeterminados como el string `'unknown'` (desconocido).\n",
    "\n",
    "Pero los valores ausentes en `'genre'` pueden afectar la comparación entre las preferencias musicales de Springfield y Shelbyville. En la vida real, sería útil saber las razones por las cuales hay datos ausentes e intentar recuperarlos. Pero no tenemos esa oportunidad en este proyecto. Así que tendrás que:\n",
    "* rellenar estos valores ausentes con un valor predeterminado;\n",
    "* evaluar cuánto podrían afectar los valores ausentes a tus cómputos;"
   ]
  },
  {
   "cell_type": "markdown",
   "metadata": {
    "id": "fSv2laPA_Zct"
   },
   "source": [
    "Reemplazar los valores ausentes en las columnas `'track'`, `'artist'` y `'genre'` con el string `'unknown'`. Como mostramos anteriormente en las lecciones, la mejor forma de hacerlo es crear una lista que almacene los nombres de las columnas donde se necesita el reemplazo. Luego, utiliza esta lista e itera sobre las columnas donde se necesita el reemplazo haciendo el propio reemplazo."
   ]
  },
  {
   "cell_type": "code",
   "execution_count": 11,
   "metadata": {
    "id": "KplB5qWs_Zct"
   },
   "outputs": [
    {
     "name": "stdout",
     "output_type": "stream",
     "text": [
      "user_id    0\n",
      "track      0\n",
      "artist     0\n",
      "genre      0\n",
      "city       0\n",
      "time       0\n",
      "day        0\n",
      "dtype: int64\n"
     ]
    }
   ],
   "source": [
    "# Bucle en los encabezados reemplazando los valores ausentes con 'unknown'\n",
    "column_to_replace = ['track', 'artist', 'genre']\n",
    "\n",
    "for col in column_to_replace:\n",
    "    df[col].fillna('unknow', inplace = True)\n",
    "    \n",
    "print(df.isna().sum())"
   ]
  },
  {
   "cell_type": "markdown",
   "metadata": {
    "id": "Ilsm-MZo_Zct"
   },
   "source": [
    "Ahora comprueba el resultado para asegurarte de que después del reemplazo no haya valores ausentes en el conjunto de datos. Para hacer esto, cuenta los valores ausentes nuevamente."
   ]
  },
  {
   "cell_type": "code",
   "execution_count": 12,
   "metadata": {
    "id": "Tq4nYRX4_Zct"
   },
   "outputs": [
    {
     "name": "stdout",
     "output_type": "stream",
     "text": [
      "user_id    0\n",
      "track      0\n",
      "artist     0\n",
      "genre      0\n",
      "city       0\n",
      "time       0\n",
      "day        0\n",
      "dtype: int64\n"
     ]
    }
   ],
   "source": [
    "# Contar valores ausentes\n",
    "print(df.isna().sum())"
   ]
  },
  {
   "cell_type": "markdown",
   "metadata": {
    "id": "74ZIBmq9VrsK"
   },
   "source": [
    "[Volver a Contenidos](#back)"
   ]
  },
  {
   "cell_type": "markdown",
   "metadata": {},
   "source": [
    "<div class=\"alert alert-block alert-success\">\n",
    "<b>Comentario del revisor (1ra Iteración)</b> <a class=“tocSkip”></a>\n",
    "\n",
    "Buen trabajo al reemplazar los valores faltantes por `unknown` Esta práctica es fundamental para manejar datos incompletos, ya que permite evitar errores durante el análisis y mantener la integridad del dataset. Además, asignar un valor como  `unknown` asegura que los datos sean procesables y facilita identificar y manejar la información faltante en etapas posteriores.\n",
    "\n",
    "\n",
    "</div>"
   ]
  },
  {
   "cell_type": "markdown",
   "metadata": {
    "id": "BWKRtBJ3_Zct"
   },
   "source": [
    "### Duplicados <a id='duplicates'></a>\n",
    "Encuentra el número de duplicados explícitos en la tabla. Una vez más, debes aplicar dos métodos en una secuencia para obtener la cantidad de duplicados explícitos."
   ]
  },
  {
   "cell_type": "code",
   "execution_count": 13,
   "metadata": {
    "id": "36eES_S0_Zct"
   },
   "outputs": [
    {
     "name": "stdout",
     "output_type": "stream",
     "text": [
      "3826\n"
     ]
    }
   ],
   "source": [
    "# Contar duplicados explícitos\n",
    "print(df.duplicated().sum())"
   ]
  },
  {
   "cell_type": "markdown",
   "metadata": {
    "id": "Ot25h6XR_Zct"
   },
   "source": [
    "Ahora, elimina todos los duplicados. Para ello, llama al método que hace exactamente esto."
   ]
  },
  {
   "cell_type": "code",
   "execution_count": 14,
   "metadata": {
    "id": "exFHq6tt_Zct"
   },
   "outputs": [
    {
     "name": "stdout",
     "output_type": "stream",
     "text": [
      "0\n"
     ]
    }
   ],
   "source": [
    "# Eliminar duplicados explícitos\n",
    "df = df.drop_duplicates().reset_index(drop = True)\n",
    "print(df.duplicated().sum())"
   ]
  },
  {
   "cell_type": "markdown",
   "metadata": {
    "id": "Im2YwBEG_Zct"
   },
   "source": [
    "Comprobemos ahora si eliminamos con éxito todos los duplicados. Cuenta los duplicados explícitos una vez más para asegurarte de haberlos eliminado todos:"
   ]
  },
  {
   "cell_type": "code",
   "execution_count": 15,
   "metadata": {
    "id": "-8PuNWQ0_Zct"
   },
   "outputs": [
    {
     "name": "stdout",
     "output_type": "stream",
     "text": [
      "0\n"
     ]
    }
   ],
   "source": [
    "# Comprobar de nuevo si hay duplicados\n",
    "\n",
    "print(df.duplicated().sum())"
   ]
  },
  {
   "cell_type": "markdown",
   "metadata": {},
   "source": [
    "<div class=\"alert alert-block alert-success\">\n",
    "<b>Comentario del revisor (1ra Iteración)</b> <a class=“tocSkip”></a>\n",
    "\n",
    "\n",
    "Perfecto Fernando, has identificando y eliminando los datos duplicados. Esta tarea es esencial para garantizar la calidad del dataset, evitando sesgos y asegurando resultados más precisos en el análisis.\n",
    "    \n",
    "</div>"
   ]
  },
  {
   "cell_type": "markdown",
   "metadata": {
    "id": "QlFBsxAr_Zct"
   },
   "source": [
    "Ahora queremos deshacernos de los duplicados implícitos en la columna `genre`. Por ejemplo, el nombre de un género se puede escribir de varias formas. Dichos errores también pueden afectar al resultado."
   ]
  },
  {
   "cell_type": "markdown",
   "metadata": {
    "id": "eSjWwsOh_Zct"
   },
   "source": [
    "Para hacerlo, primero mostremos una lista de nombres de género únicos, ordenados en orden alfabético. Para ello:\n",
    "* Extrae la columna `genre` del DataFrame.\n",
    "* Llama al método que devolverá todos los valores únicos en la columna extraída.\n"
   ]
  },
  {
   "cell_type": "code",
   "execution_count": 16,
   "metadata": {
    "id": "JIUcqzZN_Zct"
   },
   "outputs": [
    {
     "name": "stdout",
     "output_type": "stream",
     "text": [
      "['acid' 'acoustic' 'action' 'adult' 'africa' 'afrikaans' 'alternative'\n",
      " 'ambient' 'americana' 'animated' 'anime' 'arabesk' 'arabic' 'arena'\n",
      " 'argentinetango' 'art' 'audiobook' 'avantgarde' 'axé' 'baile' 'balkan'\n",
      " 'beats' 'bigroom' 'black' 'bluegrass' 'blues' 'bollywood' 'bossa'\n",
      " 'brazilian' 'breakbeat' 'breaks' 'broadway' 'cantautori' 'cantopop'\n",
      " 'canzone' 'caribbean' 'caucasian' 'celtic' 'chamber' 'children' 'chill'\n",
      " 'chinese' 'choral' 'christian' 'christmas' 'classical' 'classicmetal'\n",
      " 'club' 'colombian' 'comedy' 'conjazz' 'contemporary' 'country' 'cuban'\n",
      " 'dance' 'dancehall' 'dancepop' 'dark' 'death' 'deep' 'deutschrock'\n",
      " 'deutschspr' 'dirty' 'disco' 'dnb' 'documentary' 'downbeat' 'downtempo'\n",
      " 'drum' 'dub' 'dubstep' 'eastern' 'easy' 'electronic' 'electropop' 'emo'\n",
      " 'entehno' 'epicmetal' 'estrada' 'ethnic' 'eurofolk' 'european'\n",
      " 'experimental' 'extrememetal' 'fado' 'film' 'fitness' 'flamenco' 'folk'\n",
      " 'folklore' 'folkmetal' 'folkrock' 'folktronica' 'forró' 'frankreich'\n",
      " 'französisch' 'french' 'funk' 'future' 'gangsta' 'garage' 'german'\n",
      " 'ghazal' 'gitarre' 'glitch' 'gospel' 'gothic' 'grime' 'grunge' 'gypsy'\n",
      " 'handsup' \"hard'n'heavy\" 'hardcore' 'hardstyle' 'hardtechno' 'hip'\n",
      " 'hip-hop' 'hiphop' 'historisch' 'holiday' 'hop' 'horror' 'house' 'idm'\n",
      " 'independent' 'indian' 'indie' 'indipop' 'industrial' 'inspirational'\n",
      " 'instrumental' 'international' 'irish' 'jam' 'japanese' 'jazz' 'jewish'\n",
      " 'jpop' 'jungle' 'k-pop' 'karadeniz' 'karaoke' 'kayokyoku' 'korean'\n",
      " 'laiko' 'latin' 'latino' 'leftfield' 'local' 'lounge' 'loungeelectronic'\n",
      " 'lovers' 'malaysian' 'mandopop' 'marschmusik' 'meditative'\n",
      " 'mediterranean' 'melodic' 'metal' 'metalcore' 'mexican' 'middle'\n",
      " 'minimal' 'miscellaneous' 'modern' 'mood' 'mpb' 'muslim' 'native'\n",
      " 'neoklassik' 'neue' 'new' 'newage' 'newwave' 'nu' 'nujazz' 'numetal'\n",
      " 'oceania' 'old' 'opera' 'orchestral' 'other' 'piano' 'pop'\n",
      " 'popelectronic' 'popeurodance' 'post' 'posthardcore' 'postrock' 'power'\n",
      " 'progmetal' 'progressive' 'psychedelic' 'punjabi' 'punk' 'quebecois'\n",
      " 'ragga' 'ram' 'rancheras' 'rap' 'rave' 'reggae' 'reggaeton' 'regional'\n",
      " 'relax' 'religious' 'retro' 'rhythm' 'rnb' 'rnr' 'rock' 'rockabilly'\n",
      " 'romance' 'roots' 'ruspop' 'rusrap' 'rusrock' 'salsa' 'samba' 'schlager'\n",
      " 'self' 'sertanejo' 'shoegazing' 'showtunes' 'singer' 'ska' 'slow'\n",
      " 'smooth' 'soul' 'soulful' 'sound' 'soundtrack' 'southern' 'specialty'\n",
      " 'speech' 'spiritual' 'sport' 'stonerrock' 'surf' 'swing' 'synthpop'\n",
      " 'sängerportrait' 'tango' 'tanzorchester' 'taraftar' 'tech' 'techno'\n",
      " 'thrash' 'top' 'traditional' 'tradjazz' 'trance' 'tribal' 'trip'\n",
      " 'triphop' 'tropical' 'türk' 'türkçe' 'unknow' 'urban' 'uzbek' 'variété'\n",
      " 'vi' 'videogame' 'vocal' 'western' 'world' 'worldbeat' 'ïîï']\n",
      "<bound method IndexOpsMixin.nunique of 0              rock\n",
      "1              rock\n",
      "2               pop\n",
      "3              folk\n",
      "4             dance\n",
      "            ...    \n",
      "61248           rnb\n",
      "61249           hip\n",
      "61250    industrial\n",
      "61251          rock\n",
      "61252       country\n",
      "Name: genre, Length: 61253, dtype: object>\n"
     ]
    }
   ],
   "source": [
    "# Inspeccionar los nombres de géneros únicos\n",
    "unique_values = df['genre'].unique()\n",
    "unique_values.sort() #No devuelve el resultado en orden alfabetico y se usa sort()\n",
    "\n",
    "print(unique_values)\n",
    "print(df['genre'].nunique)"
   ]
  },
  {
   "cell_type": "markdown",
   "metadata": {
    "id": "qej-Qmuo_Zct"
   },
   "source": [
    "Busca en la lista para encontrar duplicados implícitos del género `hiphop`. Estos pueden ser nombres escritos incorrectamente o nombres alternativos para el mismo género.\n",
    "\n",
    "Verás los siguientes duplicados implícitos:\n",
    "* `hip`\n",
    "* `hop`\n",
    "* `hip-hop`\n",
    "\n",
    "Para deshacerte de ellos, crea una función llamada `replace_wrong_genres()` con dos parámetros:\n",
    "* `wrong_genres=`: esta es una lista que contiene todos los valores que necesitas reemplazar.\n",
    "* `correct_genre=`: este es un string que vas a utilizar como reemplazo.\n",
    "\n",
    "Como resultado, la función debería corregir los nombres en la columna `'genre'` de la tabla `df`, es decir, remplazar cada valor de la lista `wrong_genres` por el valor en `correct_genre`.\n",
    "\n",
    "Dentro del cuerpo de la función, utiliza un bucle `'for'` para iterar sobre la lista de géneros incorrectos, extrae la columna `'genre'` y aplica el método `replace` para hacer correcciones."
   ]
  },
  {
   "cell_type": "code",
   "execution_count": 17,
   "metadata": {
    "id": "ErNDkmns_Zct"
   },
   "outputs": [],
   "source": [
    "def replace_wrong_genres(wrong_genres,correct_genre):\n",
    "    for value in wrong_genres:\n",
    "        df['genre'] = df['genre'].replace(value,correct_genre)\n",
    "    return df"
   ]
  },
  {
   "cell_type": "markdown",
   "metadata": {
    "id": "aDoBJxbA_Zct"
   },
   "source": [
    "Ahora, llama a `replace_wrong_genres()` y pásale tales argumentos para que retire los duplicados implícitos (`hip`, `hop` y `hip-hop`) y los reemplace por `hiphop`:"
   ]
  },
  {
   "cell_type": "code",
   "execution_count": 18,
   "metadata": {
    "id": "YN5i2hpmSo09"
   },
   "outputs": [],
   "source": [
    "duplicates_value = ['hip','hop','hip-hop']# Eliminar duplicados implícitos\n",
    "correct_value = 'hiphop'\n",
    "\n",
    "df = replace_wrong_genres(duplicates_value,correct_value)"
   ]
  },
  {
   "cell_type": "markdown",
   "metadata": {
    "id": "zQKF16_RG15m"
   },
   "source": [
    "Asegúrate de que los nombres duplicados han sido eliminados. Muestra la lista de valores únicos de la columna `'genre'` una vez más:"
   ]
  },
  {
   "cell_type": "code",
   "execution_count": 19,
   "metadata": {
    "id": "wvixALnFG15m"
   },
   "outputs": [
    {
     "name": "stdout",
     "output_type": "stream",
     "text": [
      "['acid' 'acoustic' 'action' 'adult' 'africa' 'afrikaans' 'alternative'\n",
      " 'ambient' 'americana' 'animated' 'anime' 'arabesk' 'arabic' 'arena'\n",
      " 'argentinetango' 'art' 'audiobook' 'avantgarde' 'axé' 'baile' 'balkan'\n",
      " 'beats' 'bigroom' 'black' 'bluegrass' 'blues' 'bollywood' 'bossa'\n",
      " 'brazilian' 'breakbeat' 'breaks' 'broadway' 'cantautori' 'cantopop'\n",
      " 'canzone' 'caribbean' 'caucasian' 'celtic' 'chamber' 'children' 'chill'\n",
      " 'chinese' 'choral' 'christian' 'christmas' 'classical' 'classicmetal'\n",
      " 'club' 'colombian' 'comedy' 'conjazz' 'contemporary' 'country' 'cuban'\n",
      " 'dance' 'dancehall' 'dancepop' 'dark' 'death' 'deep' 'deutschrock'\n",
      " 'deutschspr' 'dirty' 'disco' 'dnb' 'documentary' 'downbeat' 'downtempo'\n",
      " 'drum' 'dub' 'dubstep' 'eastern' 'easy' 'electronic' 'electropop' 'emo'\n",
      " 'entehno' 'epicmetal' 'estrada' 'ethnic' 'eurofolk' 'european'\n",
      " 'experimental' 'extrememetal' 'fado' 'film' 'fitness' 'flamenco' 'folk'\n",
      " 'folklore' 'folkmetal' 'folkrock' 'folktronica' 'forró' 'frankreich'\n",
      " 'französisch' 'french' 'funk' 'future' 'gangsta' 'garage' 'german'\n",
      " 'ghazal' 'gitarre' 'glitch' 'gospel' 'gothic' 'grime' 'grunge' 'gypsy'\n",
      " 'handsup' \"hard'n'heavy\" 'hardcore' 'hardstyle' 'hardtechno' 'hiphop'\n",
      " 'historisch' 'holiday' 'horror' 'house' 'idm' 'independent' 'indian'\n",
      " 'indie' 'indipop' 'industrial' 'inspirational' 'instrumental'\n",
      " 'international' 'irish' 'jam' 'japanese' 'jazz' 'jewish' 'jpop' 'jungle'\n",
      " 'k-pop' 'karadeniz' 'karaoke' 'kayokyoku' 'korean' 'laiko' 'latin'\n",
      " 'latino' 'leftfield' 'local' 'lounge' 'loungeelectronic' 'lovers'\n",
      " 'malaysian' 'mandopop' 'marschmusik' 'meditative' 'mediterranean'\n",
      " 'melodic' 'metal' 'metalcore' 'mexican' 'middle' 'minimal'\n",
      " 'miscellaneous' 'modern' 'mood' 'mpb' 'muslim' 'native' 'neoklassik'\n",
      " 'neue' 'new' 'newage' 'newwave' 'nu' 'nujazz' 'numetal' 'oceania' 'old'\n",
      " 'opera' 'orchestral' 'other' 'piano' 'pop' 'popelectronic' 'popeurodance'\n",
      " 'post' 'posthardcore' 'postrock' 'power' 'progmetal' 'progressive'\n",
      " 'psychedelic' 'punjabi' 'punk' 'quebecois' 'ragga' 'ram' 'rancheras'\n",
      " 'rap' 'rave' 'reggae' 'reggaeton' 'regional' 'relax' 'religious' 'retro'\n",
      " 'rhythm' 'rnb' 'rnr' 'rock' 'rockabilly' 'romance' 'roots' 'ruspop'\n",
      " 'rusrap' 'rusrock' 'salsa' 'samba' 'schlager' 'self' 'sertanejo'\n",
      " 'shoegazing' 'showtunes' 'singer' 'ska' 'slow' 'smooth' 'soul' 'soulful'\n",
      " 'sound' 'soundtrack' 'southern' 'specialty' 'speech' 'spiritual' 'sport'\n",
      " 'stonerrock' 'surf' 'swing' 'synthpop' 'sängerportrait' 'tango'\n",
      " 'tanzorchester' 'taraftar' 'tech' 'techno' 'thrash' 'top' 'traditional'\n",
      " 'tradjazz' 'trance' 'tribal' 'trip' 'triphop' 'tropical' 'türk' 'türkçe'\n",
      " 'unknow' 'urban' 'uzbek' 'variété' 'vi' 'videogame' 'vocal' 'western'\n",
      " 'world' 'worldbeat' 'ïîï']\n",
      "266\n"
     ]
    }
   ],
   "source": [
    "# Comprobación de duplicados implícitos\n",
    "uniq_values = df['genre'].unique()\n",
    "uniq_values.sort()\n",
    "print(uniq_values)# Comprobación de duplicados implícitos\n",
    "print(df['genre'].nunique())"
   ]
  },
  {
   "cell_type": "markdown",
   "metadata": {
    "id": "ALgNbvF3VtPA"
   },
   "source": [
    "[Volver a Contenidos](#back)"
   ]
  },
  {
   "cell_type": "markdown",
   "metadata": {
    "id": "jz6a9-7HQUDd"
   },
   "source": [
    "### Tus observaciones <a id='data_preprocessing_conclusions'></a>\n",
    "\n",
    "`Para poder determinar si los datos son duplicados primero debes distinguir o conocer todos los generos que están en la lista, ya que puede que haya más duplicados pero solo tengan puesto el nombre de manera diferente como en el caso de hiphop. La documentación nos debería decir si hay generos distintos o duplicados y poder hacer el reemplazo de manera correcta. En este caso buscamos duplicados que tengan una mala escritura como lo era el caso de hiphop `"
   ]
  },
  {
   "cell_type": "markdown",
   "metadata": {
    "id": "eK1es74rVujj"
   },
   "source": [
    "[Volver a Contenidos](#back)"
   ]
  },
  {
   "cell_type": "markdown",
   "metadata": {},
   "source": [
    "<div class=\"alert alert-block alert-success\">\n",
    "<b>Comentario del revisor (1ra Iteración)</b> <a class=“tocSkip”></a>\n",
    "\n",
    "Excelente trabajo manejando los datos duplicados implícitos unificando los términos. Esta tarea es clave para asegurar la consistencia y precisión del dataset, evitando interpretaciones erróneas. Además, unificar términos facilita el análisis y mejora la calidad de los resultados obtenidos en procesos posteriores. Posiblemente podemos hacer el mismo procedimiento para otros géneros y de esta forma simplificar aún más los datos.\n",
    "\n",
    "</div>"
   ]
  },
  {
   "cell_type": "markdown",
   "metadata": {
    "id": "WttZHXH0SqKk"
   },
   "source": [
    "## Etapa 3. Prueba de hipótesis <a id='hypothesis'></a>"
   ]
  },
  {
   "cell_type": "markdown",
   "metadata": {
    "id": "Im936VVi_Zcu"
   },
   "source": [
    "### Hipótesis: comparar el comportamiento del usuario o la usuaria en las dos ciudades <a id='activity'></a>"
   ]
  },
  {
   "cell_type": "markdown",
   "metadata": {
    "id": "nwt_MuaL_Zcu"
   },
   "source": [
    "La hipótesis afirma que existen diferencias en la forma en que los usuarios y las usuarias de Springfield y Shelbyville consumen música. Para comprobar esto, usa los datos de tres días de la semana: lunes, miércoles y viernes.\n",
    "\n",
    "* Agrupa a los usuarios y las usuarias por ciudad.\n",
    "* Compara el número de canciones que cada grupo reprodujo el lunes, el miércoles y el viernes.\n"
   ]
  },
  {
   "cell_type": "markdown",
   "metadata": {
    "id": "8Dw_YMmT_Zcu"
   },
   "source": [
    "Realiza cada cálculo por separado.\n",
    "\n",
    "El primer paso es evaluar la actividad del usuario en cada ciudad. Recuerda las etapas dividir-aplicar-combinar de las que hablamos anteriormente en la lección. Tu objetivo ahora es agrupar los datos por ciudad, aplicar el método apropiado para contar durante la etapa de aplicación y luego encontrar la cantidad de canciones reproducidas en cada grupo especificando la columna para obtener el recuento.\n",
    "\n",
    "A continuación se muestra un ejemplo de cómo debería verse el resultado final:\n",
    "`df.groupby(by='....')['column'].method()`Realiza cada cálculo por separado.\n",
    "\n",
    "Para evaluar la actividad de los usuarios y las usuarias en cada ciudad, agrupa los datos por ciudad y encuentra la cantidad de canciones reproducidas en cada grupo.\n",
    "\n"
   ]
  },
  {
   "cell_type": "code",
   "execution_count": 31,
   "metadata": {
    "id": "0_Qs96oh_Zcu"
   },
   "outputs": [
    {
     "name": "stdout",
     "output_type": "stream",
     "text": [
      "             user_id  track  artist  genre   time    day\n",
      "city                                                    \n",
      "Shelbyville    18512  18512   18512  18512  18512  18512\n",
      "Springfield    42741  42741   42741  42741  42741  42741\n"
     ]
    }
   ],
   "source": [
    "# Contar las canciones reproducidas en cada ciudad\n",
    "plays_per_city = df.groupby(by = 'city').count()\n",
    "print(plays_per_city)"
   ]
  },
  {
   "cell_type": "markdown",
   "metadata": {
    "id": "t_Qx-3NewAnK"
   },
   "source": [
    "`Podemos observar que hay más reproducciones en la ciudad de Springfield a diferencia de Shelbyville`"
   ]
  },
  {
   "cell_type": "markdown",
   "metadata": {},
   "source": [
    "<div class=\"alert alert-block alert-success\">\n",
    "<b>Comentario del revisor (1ra Iteración)</b> <a class=“tocSkip”></a>\n",
    "\n",
    "Correcto Fernando, de manera general, la ciudad de Springfield tiene más reproducciones \n",
    "\n",
    "<div class=\"alert alert-block alert-warning\">\n",
    "<b>Comentario del revisor (1ra Iteración)</b> <a class=“tocSkip”></a>\n",
    "\n",
    "Si queremos evitar redundancia en la información que se muestra, puedes hacer el conteo de una sola columna asi:\n",
    "    \n",
    "    plays_per_city = df.groupby(by = 'city')[\"track\"].count()\n",
    "\n",
    "</div>\n",
    "</div>"
   ]
  },
  {
   "cell_type": "markdown",
   "metadata": {
    "id": "dzli3w8o_Zcu"
   },
   "source": [
    "Ahora agrupemos los datos por día de la semana y encontremos el número de canciones reproducidas el lunes, miércoles y viernes. Utiliza el mismo método que antes, pero ahora necesitamos una agrupación diferente.\n"
   ]
  },
  {
   "cell_type": "code",
   "execution_count": 21,
   "metadata": {
    "id": "uZMKjiJz_Zcu"
   },
   "outputs": [
    {
     "name": "stdout",
     "output_type": "stream",
     "text": [
      "           user_id  track  artist  genre   city   time\n",
      "day                                                   \n",
      "Friday       21840  21840   21840  21840  21840  21840\n",
      "Monday       21354  21354   21354  21354  21354  21354\n",
      "Wednesday    18059  18059   18059  18059  18059  18059\n"
     ]
    }
   ],
   "source": [
    "# Calcular las canciones reproducidas en cada uno de los tres días\n",
    "plays_per_day = df.groupby(by = 'day').count()\n",
    "print(plays_per_day)"
   ]
  },
  {
   "cell_type": "markdown",
   "metadata": {
    "id": "cC2tNrlL_Zcu"
   },
   "source": [
    "`Como podemos ver el día lunes son los dias de más canciones reproducidas`"
   ]
  },
  {
   "cell_type": "markdown",
   "metadata": {},
   "source": [
    "<div class=\"alert alert-block alert-success\">\n",
    "<b>Comentario del revisor (1ra Iteración)</b> <a class=“tocSkip”></a>\n",
    "\n",
    "Buen trabajo, es correcto lo que mencionas sobre los días lunes, aunque esta información combina los datos de todas las ciudades, valdría la pena analizar cada ciudad de manera individual para evaluar si el comportamiento es similar.\n",
    "\n",
    "</div>"
   ]
  },
  {
   "cell_type": "markdown",
   "metadata": {
    "id": "POzs8bGa_Zcu"
   },
   "source": [
    "Ya sabes cómo contar entradas agrupándolas por ciudad o día. Ahora necesitas escribir una función que pueda contar entradas según ambos criterios simultáneamente.\n",
    "\n",
    "Crea la función `number_tracks()` para calcular el número de canciones reproducidas en un determinado día **y** ciudad. La función debe aceptar dos parámetros:\n",
    "\n",
    "- `day`: un día de la semana para filtrar. Por ejemplo, `'Monday'` (lunes).\n",
    "- `city`: una ciudad para filtrar. Por ejemplo, `'Springfield'`.\n",
    "\n",
    "Dentro de la función, aplicarás un filtrado consecutivo con indexación lógica.\n",
    "\n",
    "Primero filtra los datos por día y luego filtra la tabla resultante por ciudad.\n",
    "\n",
    "Después de filtrar los datos por dos criterios, cuenta el número de valores de la columna 'user_id' en la tabla resultante. Este recuento representa el número de entradas que estás buscando. Guarda el resultado en una nueva variable y devuélvelo desde la función."
   ]
  },
  {
   "cell_type": "code",
   "execution_count": 22,
   "metadata": {
    "id": "Nz3GdQB1_Zcu"
   },
   "outputs": [],
   "source": [
    "# Declara la función number_tracks() con dos parámetros: day= y city=.\n",
    "def number_tracks(day,city):\n",
    "    plays_per_day_city = df[df['day'] == day] # Almacena las filas del DataFrame donde el valor en la columna 'day' es igual al parámetro day=\n",
    "    plays_per_day_city = plays_per_day_city[plays_per_day_city['city'] == city]# Filtra las filas donde el valor en la columna 'city' es igual al parámetro city=\n",
    "    plays_count = plays_per_day_city['user_id'].count()# Extrae la columna 'user_id' de la tabla filtrada y aplica el método count()\n",
    "    return plays_count\n",
    "\n",
    "    # Devolve el número de valores de la columna 'user_id'"
   ]
  },
  {
   "cell_type": "markdown",
   "metadata": {},
   "source": [
    "<div class=\"alert alert-block alert-success\">\n",
    "<b>Comentario del revisor (1ra Iteración)</b> <a class=“tocSkip”></a>\n",
    "\n",
    "Excelente trabajo al crear una función para filtrar los datos. Esto no solo hace más eficiente la búsqueda de información específica, sino que también mejora la reutilización y claridad del código. Implementar funciones para estas tareas es fundamental para optimizar procesos y garantizar un análisis más ágil y organizado\n",
    "\n",
    "</div>"
   ]
  },
  {
   "cell_type": "markdown",
   "metadata": {
    "id": "ytf7xFrFJQ2r"
   },
   "source": [
    "Llama a `number_tracks()` seis veces, cambiando los valores de los parámetros para que recuperes los datos de ambas ciudades para cada uno de los tres días."
   ]
  },
  {
   "cell_type": "code",
   "execution_count": 23,
   "metadata": {
    "id": "rJcRATNQ_Zcu"
   },
   "outputs": [
    {
     "name": "stdout",
     "output_type": "stream",
     "text": [
      "15740\n"
     ]
    }
   ],
   "source": [
    "# El número de canciones reproducidas en Springfield el lunes\n",
    "print(number_tracks('Monday','Springfield'))"
   ]
  },
  {
   "cell_type": "code",
   "execution_count": 24,
   "metadata": {
    "id": "hq_ncZ5T_Zcu"
   },
   "outputs": [
    {
     "name": "stdout",
     "output_type": "stream",
     "text": [
      "0\n"
     ]
    }
   ],
   "source": [
    "# El número de canciones reproducidas en Shelbyville el lunes\n",
    "print(number_tracks('Mondey','Shelbyville'))"
   ]
  },
  {
   "cell_type": "code",
   "execution_count": 25,
   "metadata": {
    "id": "_NTy2VPU_Zcu"
   },
   "outputs": [
    {
     "name": "stdout",
     "output_type": "stream",
     "text": [
      "11056\n"
     ]
    }
   ],
   "source": [
    "# El número de canciones reproducidas en Springfield el miércoles\n",
    "print(number_tracks('Wednesday','Springfield'))"
   ]
  },
  {
   "cell_type": "code",
   "execution_count": 26,
   "metadata": {
    "id": "j2y3TAwo_Zcu"
   },
   "outputs": [
    {
     "name": "stdout",
     "output_type": "stream",
     "text": [
      "7003\n"
     ]
    }
   ],
   "source": [
    "# El número de canciones reproducidas en Shelbyville el miércoles\n",
    "print(number_tracks('Wednesday','Shelbyville'))"
   ]
  },
  {
   "cell_type": "code",
   "execution_count": 29,
   "metadata": {
    "id": "vYDw5u_K_Zcu"
   },
   "outputs": [
    {
     "name": "stdout",
     "output_type": "stream",
     "text": [
      "15945\n"
     ]
    }
   ],
   "source": [
    "# El número de canciones reproducidas en Springfield el viernes\n",
    "print(number_tracks('Friday','Springfield'))"
   ]
  },
  {
   "cell_type": "code",
   "execution_count": 28,
   "metadata": {
    "id": "8_yzFtW3_Zcu"
   },
   "outputs": [
    {
     "name": "stdout",
     "output_type": "stream",
     "text": [
      "5895\n"
     ]
    }
   ],
   "source": [
    "# El número de canciones reproducidas en Shelbyville el viernes\n",
    "print(number_tracks('Friday','Shelbyville'))"
   ]
  },
  {
   "cell_type": "markdown",
   "metadata": {},
   "source": [
    "<div class=\"alert alert-block alert-success\">\n",
    "<b>Comentario del revisor (1ra Iteración)</b> <a class=“tocSkip”></a>\n",
    "\n",
    "Perfecto, has usado correctamente la función `number_tracks` para encontrar la información filtrada y específica para cada caso.\n",
    "\n",
    "</div>"
   ]
  },
  {
   "cell_type": "markdown",
   "metadata": {
    "id": "-EgPIHYu_Zcu"
   },
   "source": [
    "**Conclusiones**\n",
    "\n",
    "`La hipotesis es correcta. Si nos basamos poniendo de manera descendente el número de canciones reproducidas por día podemos observar que en el caso de Springfield su día con más reproducciones es el día viernes, mientras que en el caso de Shelbyville su día es el miercoles`"
   ]
  },
  {
   "cell_type": "markdown",
   "metadata": {
    "id": "p7nFQajCVw5B"
   },
   "source": [
    "[Volver a Contenidos](#back)"
   ]
  },
  {
   "cell_type": "markdown",
   "metadata": {
    "id": "ykKQ0N65_Zcv"
   },
   "source": [
    "# Conclusiones <a id='end'></a>"
   ]
  },
  {
   "cell_type": "markdown",
   "metadata": {
    "id": "tjUwbHb3_Zcv"
   },
   "source": [
    "`Después de realizar el procesamiento de los datos podemos confirmar que la hipotesis es correcta, ya que los datos nos dan la respuesta a la tarea`"
   ]
  },
  {
   "cell_type": "markdown",
   "metadata": {},
   "source": [
    "<div class=\"alert alert-block alert-success\">\n",
    "<b>Comentario del revisor (1ra Iteración)</b> <a class=“tocSkip”></a>\n",
    "\n",
    "¡Excelente trabajo en las conclusiones! Si bien las comparativas generales sobre los datos son útiles, más adelante aprenderás a hacerlo con herramientas estadísticas, lo que te permitirá obtener resultados más precisos y respaldados por evidencia cuantitativa.\n",
    "\n",
    "</div>"
   ]
  },
  {
   "cell_type": "markdown",
   "metadata": {
    "id": "azLHu64yOIp7"
   },
   "source": [
    "### Nota\n",
    "En proyectos de investigación reales, la prueba de hipótesis estadística es más precisa y cuantitativa. También ten en cuenta que no siempre se pueden sacar conclusiones sobre una ciudad entera a partir de datos de una sola fuente.\n",
    "\n",
    "Aprenderás más sobre la prueba de hipótesis en el sprint de análisis estadístico de datos."
   ]
  },
  {
   "cell_type": "markdown",
   "metadata": {
    "id": "Ju4AHDSgV1FE"
   },
   "source": [
    "[Volver a Contenidos](#back)"
   ]
  }
 ],
 "metadata": {
  "ExecuteTimeLog": [
   {
    "duration": 299,
    "start_time": "2025-03-09T23:01:31.927Z"
   },
   {
    "duration": 115,
    "start_time": "2025-03-09T23:03:43.859Z"
   },
   {
    "duration": 186,
    "start_time": "2025-03-09T23:05:26.747Z"
   },
   {
    "duration": 107,
    "start_time": "2025-03-09T23:05:30.313Z"
   },
   {
    "duration": 3,
    "start_time": "2025-03-09T23:17:32.521Z"
   },
   {
    "duration": 112,
    "start_time": "2025-03-09T23:28:22.310Z"
   },
   {
    "duration": 14,
    "start_time": "2025-03-09T23:28:41.742Z"
   },
   {
    "duration": 4,
    "start_time": "2025-03-09T23:28:51.621Z"
   },
   {
    "duration": 399,
    "start_time": "2025-03-09T23:30:29.311Z"
   },
   {
    "duration": 32,
    "start_time": "2025-03-09T23:30:49.941Z"
   },
   {
    "duration": 4,
    "start_time": "2025-03-09T23:32:18.199Z"
   },
   {
    "duration": 58,
    "start_time": "2025-03-09T23:33:14.275Z"
   },
   {
    "duration": 11,
    "start_time": "2025-03-09T23:35:17.554Z"
   },
   {
    "duration": 12,
    "start_time": "2025-03-09T23:35:34.098Z"
   },
   {
    "duration": 13,
    "start_time": "2025-03-09T23:36:02.455Z"
   },
   {
    "duration": 4,
    "start_time": "2025-03-09T23:36:25.821Z"
   },
   {
    "duration": 7,
    "start_time": "2025-03-09T23:38:18.030Z"
   },
   {
    "duration": 4,
    "start_time": "2025-03-09T23:38:47.719Z"
   },
   {
    "duration": 4,
    "start_time": "2025-03-09T23:38:56.634Z"
   },
   {
    "duration": 4,
    "start_time": "2025-03-09T23:39:20.737Z"
   },
   {
    "duration": 3,
    "start_time": "2025-03-09T23:43:36.899Z"
   },
   {
    "duration": 29,
    "start_time": "2025-03-09T23:44:30.182Z"
   },
   {
    "duration": 13,
    "start_time": "2025-03-09T23:51:50.894Z"
   },
   {
    "duration": 35,
    "start_time": "2025-03-09T23:51:56.788Z"
   },
   {
    "duration": 19,
    "start_time": "2025-03-09T23:52:20.739Z"
   },
   {
    "duration": 158,
    "start_time": "2025-03-12T15:24:02.758Z"
   },
   {
    "duration": 12,
    "start_time": "2025-03-12T15:27:31.730Z"
   },
   {
    "duration": 11,
    "start_time": "2025-03-12T15:28:00.590Z"
   },
   {
    "duration": 11,
    "start_time": "2025-03-12T15:29:33.876Z"
   },
   {
    "duration": 328,
    "start_time": "2025-03-12T15:35:40.346Z"
   },
   {
    "duration": 111,
    "start_time": "2025-03-12T15:35:42.630Z"
   },
   {
    "duration": 95,
    "start_time": "2025-03-12T15:35:45.061Z"
   },
   {
    "duration": 112,
    "start_time": "2025-03-12T15:35:47.840Z"
   },
   {
    "duration": 3,
    "start_time": "2025-03-12T15:35:51.864Z"
   },
   {
    "duration": 4,
    "start_time": "2025-03-12T15:35:53.661Z"
   },
   {
    "duration": 4,
    "start_time": "2025-03-12T15:35:55.375Z"
   },
   {
    "duration": 6,
    "start_time": "2025-03-12T15:35:58.275Z"
   },
   {
    "duration": 4,
    "start_time": "2025-03-12T15:36:00.656Z"
   },
   {
    "duration": 22,
    "start_time": "2025-03-12T15:36:02.364Z"
   },
   {
    "duration": 27,
    "start_time": "2025-03-12T15:36:04.620Z"
   },
   {
    "duration": 19,
    "start_time": "2025-03-12T15:36:06.757Z"
   },
   {
    "duration": 40,
    "start_time": "2025-03-12T15:36:08.960Z"
   },
   {
    "duration": 41,
    "start_time": "2025-03-12T15:36:11.187Z"
   },
   {
    "duration": 12,
    "start_time": "2025-03-12T15:36:28.678Z"
   },
   {
    "duration": 79,
    "start_time": "2025-03-12T15:38:06.761Z"
   },
   {
    "duration": 42,
    "start_time": "2025-03-12T15:38:32.606Z"
   },
   {
    "duration": 14,
    "start_time": "2025-03-12T15:38:35.185Z"
   },
   {
    "duration": 79,
    "start_time": "2025-03-12T15:39:17.913Z"
   },
   {
    "duration": 4,
    "start_time": "2025-03-12T15:41:36.312Z"
   },
   {
    "duration": 12,
    "start_time": "2025-03-12T15:42:33.345Z"
   },
   {
    "duration": 13,
    "start_time": "2025-03-12T15:42:49.261Z"
   },
   {
    "duration": 12,
    "start_time": "2025-03-12T15:43:15.778Z"
   },
   {
    "duration": 7,
    "start_time": "2025-03-12T15:45:49.947Z"
   },
   {
    "duration": 7,
    "start_time": "2025-03-12T15:49:59.934Z"
   },
   {
    "duration": 3,
    "start_time": "2025-03-12T15:50:08.909Z"
   },
   {
    "duration": 3,
    "start_time": "2025-03-12T15:50:24.892Z"
   },
   {
    "duration": 13,
    "start_time": "2025-03-12T15:52:56.028Z"
   },
   {
    "duration": 26,
    "start_time": "2025-03-12T15:53:07.548Z"
   },
   {
    "duration": 12,
    "start_time": "2025-03-12T15:58:30.893Z"
   },
   {
    "duration": 9,
    "start_time": "2025-03-12T15:58:37.961Z"
   },
   {
    "duration": 18,
    "start_time": "2025-03-12T15:58:41.152Z"
   },
   {
    "duration": 17,
    "start_time": "2025-03-12T16:00:46.741Z"
   },
   {
    "duration": 13,
    "start_time": "2025-03-12T16:01:10.556Z"
   },
   {
    "duration": 3,
    "start_time": "2025-03-12T16:01:21.239Z"
   },
   {
    "duration": 17,
    "start_time": "2025-03-12T16:01:23.241Z"
   },
   {
    "duration": 19,
    "start_time": "2025-03-12T16:02:12.861Z"
   },
   {
    "duration": 17,
    "start_time": "2025-03-12T16:05:48.578Z"
   },
   {
    "duration": 3,
    "start_time": "2025-03-12T16:05:58.500Z"
   },
   {
    "duration": 17,
    "start_time": "2025-03-12T16:06:00.796Z"
   },
   {
    "duration": 305,
    "start_time": "2025-03-16T00:40:06.901Z"
   },
   {
    "duration": 116,
    "start_time": "2025-03-16T00:40:07.555Z"
   },
   {
    "duration": 99,
    "start_time": "2025-03-16T00:40:07.875Z"
   },
   {
    "duration": 120,
    "start_time": "2025-03-16T00:40:08.171Z"
   },
   {
    "duration": 3,
    "start_time": "2025-03-16T00:40:09.131Z"
   },
   {
    "duration": 4,
    "start_time": "2025-03-16T00:40:09.642Z"
   },
   {
    "duration": 3,
    "start_time": "2025-03-16T00:40:09.972Z"
   },
   {
    "duration": 4,
    "start_time": "2025-03-16T00:40:10.321Z"
   },
   {
    "duration": 3,
    "start_time": "2025-03-16T00:40:10.661Z"
   },
   {
    "duration": 19,
    "start_time": "2025-03-16T00:40:12.170Z"
   },
   {
    "duration": 27,
    "start_time": "2025-03-16T00:40:13.137Z"
   },
   {
    "duration": 19,
    "start_time": "2025-03-16T00:40:13.634Z"
   },
   {
    "duration": 42,
    "start_time": "2025-03-16T00:40:14.815Z"
   },
   {
    "duration": 85,
    "start_time": "2025-03-16T00:40:15.298Z"
   },
   {
    "duration": 39,
    "start_time": "2025-03-16T00:40:15.778Z"
   },
   {
    "duration": 7,
    "start_time": "2025-03-16T00:40:16.954Z"
   },
   {
    "duration": 2,
    "start_time": "2025-03-16T00:40:17.707Z"
   },
   {
    "duration": 184,
    "start_time": "2025-03-16T00:40:19.225Z"
   },
   {
    "duration": 13,
    "start_time": "2025-03-16T00:46:59.645Z"
   },
   {
    "duration": 3,
    "start_time": "2025-03-16T00:50:59.684Z"
   },
   {
    "duration": 11,
    "start_time": "2025-03-16T00:52:39.840Z"
   },
   {
    "duration": 13,
    "start_time": "2025-03-16T00:52:42.628Z"
   },
   {
    "duration": 3,
    "start_time": "2025-03-16T00:52:51.991Z"
   },
   {
    "duration": 9,
    "start_time": "2025-03-16T00:54:54.598Z"
   },
   {
    "duration": 10,
    "start_time": "2025-03-16T00:54:57.258Z"
   },
   {
    "duration": 8,
    "start_time": "2025-03-16T00:55:04.442Z"
   },
   {
    "duration": 7,
    "start_time": "2025-03-16T01:01:05.821Z"
   },
   {
    "duration": 10,
    "start_time": "2025-03-16T01:01:15.640Z"
   },
   {
    "duration": 161,
    "start_time": "2025-03-17T21:56:40.271Z"
   },
   {
    "duration": 12,
    "start_time": "2025-03-17T21:57:09.210Z"
   },
   {
    "duration": 4,
    "start_time": "2025-03-17T21:59:25.095Z"
   },
   {
    "duration": 18,
    "start_time": "2025-03-17T21:59:27.490Z"
   },
   {
    "duration": 17,
    "start_time": "2025-03-17T21:59:27.672Z"
   },
   {
    "duration": 16,
    "start_time": "2025-03-17T21:59:27.850Z"
   },
   {
    "duration": 42,
    "start_time": "2025-03-17T21:59:28.176Z"
   },
   {
    "duration": 16,
    "start_time": "2025-03-17T21:59:28.475Z"
   },
   {
    "duration": 292,
    "start_time": "2025-03-19T14:54:57.863Z"
   },
   {
    "duration": 110,
    "start_time": "2025-03-19T14:54:58.596Z"
   },
   {
    "duration": 101,
    "start_time": "2025-03-19T14:54:59.142Z"
   },
   {
    "duration": 114,
    "start_time": "2025-03-19T14:54:59.773Z"
   },
   {
    "duration": 4,
    "start_time": "2025-03-19T14:55:01.790Z"
   },
   {
    "duration": 3,
    "start_time": "2025-03-19T14:55:02.719Z"
   },
   {
    "duration": 3,
    "start_time": "2025-03-19T14:55:03.946Z"
   },
   {
    "duration": 4,
    "start_time": "2025-03-19T14:55:04.492Z"
   },
   {
    "duration": 3,
    "start_time": "2025-03-19T14:55:05.091Z"
   },
   {
    "duration": 18,
    "start_time": "2025-03-19T14:55:05.847Z"
   },
   {
    "duration": 25,
    "start_time": "2025-03-19T14:55:06.665Z"
   },
   {
    "duration": 19,
    "start_time": "2025-03-19T14:55:07.117Z"
   },
   {
    "duration": 43,
    "start_time": "2025-03-19T14:55:07.793Z"
   },
   {
    "duration": 81,
    "start_time": "2025-03-19T14:55:08.208Z"
   },
   {
    "duration": 39,
    "start_time": "2025-03-19T14:55:08.586Z"
   },
   {
    "duration": 7,
    "start_time": "2025-03-19T14:55:09.119Z"
   },
   {
    "duration": 3,
    "start_time": "2025-03-19T14:55:09.523Z"
   },
   {
    "duration": 8,
    "start_time": "2025-03-19T14:55:09.899Z"
   },
   {
    "duration": 11,
    "start_time": "2025-03-19T14:55:10.346Z"
   },
   {
    "duration": 25,
    "start_time": "2025-03-19T14:55:13.199Z"
   },
   {
    "duration": 23,
    "start_time": "2025-03-19T14:55:14.244Z"
   },
   {
    "duration": 3,
    "start_time": "2025-03-19T14:55:15.231Z"
   },
   {
    "duration": 14,
    "start_time": "2025-03-19T14:55:16.205Z"
   },
   {
    "duration": 7,
    "start_time": "2025-03-19T14:55:17.189Z"
   },
   {
    "duration": 11,
    "start_time": "2025-03-19T14:55:17.922Z"
   },
   {
    "duration": 11,
    "start_time": "2025-03-19T14:55:18.474Z"
   },
   {
    "duration": 10,
    "start_time": "2025-03-19T14:55:18.941Z"
   },
   {
    "duration": 11,
    "start_time": "2025-03-19T14:55:20.067Z"
   },
   {
    "duration": 308,
    "start_time": "2025-03-19T16:21:33.703Z"
   },
   {
    "duration": 101,
    "start_time": "2025-03-19T16:21:34.013Z"
   },
   {
    "duration": 114,
    "start_time": "2025-03-19T16:21:34.116Z"
   },
   {
    "duration": 122,
    "start_time": "2025-03-19T16:21:34.233Z"
   },
   {
    "duration": 3,
    "start_time": "2025-03-19T16:21:34.358Z"
   },
   {
    "duration": 4,
    "start_time": "2025-03-19T16:21:34.362Z"
   },
   {
    "duration": 4,
    "start_time": "2025-03-19T16:21:34.368Z"
   },
   {
    "duration": 5,
    "start_time": "2025-03-19T16:21:34.374Z"
   },
   {
    "duration": 28,
    "start_time": "2025-03-19T16:21:34.380Z"
   },
   {
    "duration": 25,
    "start_time": "2025-03-19T16:21:34.412Z"
   },
   {
    "duration": 30,
    "start_time": "2025-03-19T16:21:34.439Z"
   },
   {
    "duration": 44,
    "start_time": "2025-03-19T16:21:34.471Z"
   },
   {
    "duration": 42,
    "start_time": "2025-03-19T16:21:34.518Z"
   },
   {
    "duration": 98,
    "start_time": "2025-03-19T16:21:34.562Z"
   },
   {
    "duration": 45,
    "start_time": "2025-03-19T16:21:34.662Z"
   },
   {
    "duration": 9,
    "start_time": "2025-03-19T16:21:34.710Z"
   },
   {
    "duration": 3,
    "start_time": "2025-03-19T16:21:34.720Z"
   },
   {
    "duration": 7,
    "start_time": "2025-03-19T16:21:34.724Z"
   },
   {
    "duration": 10,
    "start_time": "2025-03-19T16:21:34.733Z"
   },
   {
    "duration": 22,
    "start_time": "2025-03-19T16:21:34.745Z"
   },
   {
    "duration": 55,
    "start_time": "2025-03-19T16:21:34.769Z"
   },
   {
    "duration": 3,
    "start_time": "2025-03-19T16:21:34.826Z"
   },
   {
    "duration": 14,
    "start_time": "2025-03-19T16:21:34.830Z"
   },
   {
    "duration": 7,
    "start_time": "2025-03-19T16:21:34.846Z"
   },
   {
    "duration": 11,
    "start_time": "2025-03-19T16:21:34.855Z"
   },
   {
    "duration": 41,
    "start_time": "2025-03-19T16:21:34.868Z"
   },
   {
    "duration": 12,
    "start_time": "2025-03-19T16:21:34.911Z"
   },
   {
    "duration": 13,
    "start_time": "2025-03-19T16:21:34.928Z"
   },
   {
    "duration": 14,
    "start_time": "2025-03-19T16:21:43.487Z"
   },
   {
    "duration": 9,
    "start_time": "2025-03-19T16:25:48.632Z"
   },
   {
    "duration": 30,
    "start_time": "2025-03-19T16:25:53.430Z"
   },
   {
    "duration": 4,
    "start_time": "2025-03-19T16:26:45.920Z"
   }
  ],
  "colab": {
   "collapsed_sections": [
    "E0vqbgi9ay0H",
    "VUC88oWjTJw2"
   ],
   "provenance": []
  },
  "kernelspec": {
   "display_name": "Python 3 (ipykernel)",
   "language": "python",
   "name": "python3"
  },
  "language_info": {
   "codemirror_mode": {
    "name": "ipython",
    "version": 3
   },
   "file_extension": ".py",
   "mimetype": "text/x-python",
   "name": "python",
   "nbconvert_exporter": "python",
   "pygments_lexer": "ipython3",
   "version": "3.9.19"
  },
  "toc": {
   "base_numbering": 1,
   "nav_menu": {},
   "number_sections": true,
   "sideBar": true,
   "skip_h1_title": true,
   "title_cell": "Table of Contents",
   "title_sidebar": "Contents",
   "toc_cell": false,
   "toc_position": {},
   "toc_section_display": true,
   "toc_window_display": false
  }
 },
 "nbformat": 4,
 "nbformat_minor": 1
}
