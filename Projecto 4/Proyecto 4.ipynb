{
 "cells": [
  {
   "cell_type": "markdown",
   "id": "fcf03f14",
   "metadata": {},
   "source": [
    "# ¡Hola Fernando!\n",
    "\n",
    "Mi nombre es Ezequiel Ferrario, soy code reviewer en Tripleten y tengo el agrado de revisar el proyecto que entregaste.\n",
    "\n",
    "Para simular la dinámica de un ambiente de trabajo, si veo algún error, en primer instancia solo los señalaré, dándote la oportunidad de encontrarlos y corregirlos por tu cuenta. En un trabajo real, el líder de tu equipo hará una dinámica similar. En caso de que no puedas resolver la tarea, te daré una información más precisa en la próxima revisión.\n",
    "\n",
    "Encontrarás mis comentarios más abajo - **por favor, no los muevas, no los modifiques ni los borres**.\n",
    "\n",
    "¿Cómo lo voy a hacer? Voy a leer detenidamente cada una de las implementaciones que has llevado a cabo para cumplir con lo solicitado. Verás los comentarios de esta forma:\n",
    "\n",
    "\n",
    "<div class=\"alert alert-block alert-success\">\n",
    "<b>Comentario del revisor</b> <a class=\"tocSkip\"></a>\n",
    "\n",
    "Si todo está perfecto.\n",
    "</div>\n",
    "\n",
    "\n",
    "<div class=\"alert alert-block alert-warning\">\n",
    "<b>Comentario del revisor</b> <a class=\"tocSkip\"></a>\n",
    "\n",
    "Si tu código está bien pero se puede mejorar o hay algún detalle que le hace falta. Se aceptan uno o dos comentarios de este tipo en el borrador, pero si hay más, deberá hacer las correcciones. Es como una tarea de prueba al solicitar un trabajo: muchos pequeños errores pueden hacer que un candidato sea rechazado.\n",
    "</div>\n",
    "\n",
    "<div class=\"alert alert-block alert-danger\">\n",
    "\n",
    "<b>Comentario del revisor</b> <a class=\"tocSkip\"></a>\n",
    "\n",
    "Si de pronto hace falta algo o existe algún problema con tu código o conclusiones.\n",
    "</div>\n",
    "\n",
    "Puedes responderme de esta forma:\n",
    "\n",
    "<div class=\"alert alert-block alert-info\">\n",
    "<b>Respuesta del estudiante</b> <a class=\"tocSkip\"></a>\n",
    "\n",
    "Hola, muchas gracias por tus comentarios y la revisión.        \n",
    "</div>\n",
    "\n",
    "¡Empecemos!"
   ]
  },
  {
   "cell_type": "markdown",
   "id": "480d45df-4ae2-4f58-983c-a8868a356229",
   "metadata": {},
   "source": [
    "# Respuesta del estudiante\n",
    "Hola, muchas gracias por los comentarios y la revisión. En teoria ya deberia de estar todo completamente corregido junto con sus respectivas conclusiones.\n",
    "Siempre pongo \"Conclusiones\" en grande para poder distinguir en donde se esta escribiendo"
   ]
  },
  {
   "cell_type": "markdown",
   "id": "b7e19961",
   "metadata": {},
   "source": [
    "---\n",
    "\n",
    "<div class=\"alert alert-block alert-danger\">\n",
    "<b>Comentario general #1</b> <a class=\"tocSkip\"></a>\n",
    "\n",
    "Fernando, el proyecto en si esta muy bien planteado.\n",
    "\n",
    "A su vez hay un error que sanear para poder seguir con la correccion, de igual manera por lo que veo estan todos los puntos completos.\n",
    "\n",
    "    \n",
    " Te deje una correccion para que puedas continuar tu trabajo.\n",
    "Si tenes alguna duda quedo a disposicion para resolverla, podes dejarmela comentada en el codigo o en markdown.\n",
    "\n",
    "Espero tu correccion, saludos.\n",
    "</div>\n",
    "\n",
    "---\n",
    "\n",
    "---\n",
    "\n",
    "<div class=\"alert alert-block alert-danger\">\n",
    "<b>Comentario general #2</b> <a class=\"tocSkip\"></a>\n",
    "\n",
    "Fernando,  manejaste muy bien varios puntos de excelente manera.\n",
    "\n",
    "Entendiste que hacer en cada punto y lograste una buena limpieza de los datasets.\n",
    "\n",
    "Luego aparece un error que deja la ejecucion del codigo y a partir de un punto el trabajo esta vacio.\n",
    "\n",
    "Si tenes alguna duda quedo a disposicion para resolverla.\n",
    "\n",
    "Espero la correccion, saludos.\n",
    "\n",
    "\n",
    "\n",
    "\n",
    "\n",
    "</div>\n",
    "\n",
    "---\n",
    "\n",
    "<div class=\"alert alert-block alert-danger\">\n",
    "\n",
    "<b>Comentario  general #3</b> <a class=\"tocSkip\"></a>\n",
    "\n",
    "Fernando, en este caso se mantienen las correcciones sobre los errores.\n",
    "</div>\n",
    "\n",
    "----\n",
    "<div class=\"alert alert-block alert-danger\">\n",
    "\n",
    "<b>Comentario  general #4</b> <a class=\"tocSkip\"></a>\n",
    "\n",
    "Fernando, corregiste todos los puntos marcados de excelente manera.\n",
    "\n",
    "Observo muy buenos graficos con conclusiones precisas y bien apuntadas.\n",
    "\n",
    "Asi restaria corregir 3 puntos para finalizar este buen proyecto (2 de conclusiones y uno de importacion.\n",
    "\n",
    "Saludos.</div>\n",
    "\n",
    "----\n",
    "\n",
    "<div class=\"alert alert-block alert-success\">\n",
    "\n",
    "<b>Comentario general #5</b> <a class=\"tocSkip\"></a>\n",
    "\n",
    "Fernando, manejaste todas las correcciones a la perfeccion por lo que finalizas asi un gran proyecto.\n",
    "\n",
    "ME encanto como quedaron tdas las extracciones y es asi que el trabajo pasa a estar **aprobado**.\n",
    "\n",
    "Exitos en lo que viene, saludos.\n",
    "</div>\n",
    "\n",
    "----"
   ]
  },
  {
   "cell_type": "markdown",
   "id": "3Xg_RQfnafXz",
   "metadata": {
    "id": "3Xg_RQfnafXz"
   },
   "source": [
    "# ¡Llena ese carrito!"
   ]
  },
  {
   "cell_type": "markdown",
   "id": "mhIvmmkW414q",
   "metadata": {
    "id": "mhIvmmkW414q"
   },
   "source": [
    "# Introducción\n",
    "\n",
    "Instacart es una plataforma de entregas de comestibles donde la clientela puede registrar un pedido y hacer que se lo entreguen, similar a Uber Eats y Door Dash.\n",
    "El conjunto de datos que te hemos proporcionado tiene modificaciones del original. Redujimos el tamaño del conjunto para que tus cálculos se hicieran más rápido e introdujimos valores ausentes y duplicados. Tuvimos cuidado de conservar las distribuciones de los datos originales cuando hicimos los cambios.\n",
    "\n",
    "Debes completar tres pasos. Para cada uno de ellos, escribe una breve introducción que refleje con claridad cómo pretendes resolver cada paso, y escribe párrafos explicatorios que justifiquen tus decisiones al tiempo que avanzas en tu solución.  También escribe una conclusión que resuma tus hallazgos y elecciones.\n"
   ]
  },
  {
   "cell_type": "markdown",
   "id": "3MbyzpOQZ5Or",
   "metadata": {
    "id": "3MbyzpOQZ5Or"
   },
   "source": [
    "## Diccionario de datos\n",
    "\n",
    "Hay cinco tablas en el conjunto de datos, y tendrás que usarlas todas para hacer el preprocesamiento de datos y el análisis exploratorio de datos. A continuación se muestra un diccionario de datos que enumera las columnas de cada tabla y describe los datos que contienen.\n",
    "\n",
    "- `instacart_orders.csv`: cada fila corresponde a un pedido en la aplicación Instacart.\n",
    "    - `'order_id'`: número de ID que identifica de manera única cada pedido.\n",
    "    - `'user_id'`: número de ID que identifica de manera única la cuenta de cada cliente.\n",
    "    - `'order_number'`: el número de veces que este cliente ha hecho un pedido.\n",
    "    - `'order_dow'`: día de la semana en que se hizo el pedido (0 si es domingo).\n",
    "    - `'order_hour_of_day'`: hora del día en que se hizo el pedido.\n",
    "    - `'days_since_prior_order'`: número de días transcurridos desde que este cliente hizo su pedido anterior.\n",
    "- `products.csv`: cada fila corresponde a un producto único que pueden comprar los clientes.\n",
    "    - `'product_id'`: número ID que identifica de manera única cada producto.\n",
    "    - `'product_name'`: nombre del producto.\n",
    "    - `'aisle_id'`: número ID que identifica de manera única cada categoría de pasillo de víveres.\n",
    "    - `'department_id'`: número ID que identifica de manera única cada departamento de víveres.\n",
    "- `order_products.csv`: cada fila corresponde a un artículo pedido en un pedido.\n",
    "    - `'order_id'`: número de ID que identifica de manera única cada pedido.\n",
    "    - `'product_id'`: número ID que identifica de manera única cada producto.\n",
    "    - `'add_to_cart_order'`: el orden secuencial en el que se añadió cada artículo en el carrito.\n",
    "    - `'reordered'`: 0 si el cliente nunca ha pedido este producto antes, 1 si lo ha pedido.\n",
    "- `aisles.csv`\n",
    "    - `'aisle_id'`: número ID que identifica de manera única cada categoría de pasillo de víveres.\n",
    "    - `'aisle'`: nombre del pasillo.\n",
    "- `departments.csv`\n",
    "    - `'department_id'`: número ID que identifica de manera única cada departamento de víveres.\n",
    "    - `'department'`: nombre del departamento."
   ]
  },
  {
   "cell_type": "markdown",
   "id": "n3Ha_cNSZ8lK",
   "metadata": {
    "id": "n3Ha_cNSZ8lK"
   },
   "source": [
    "# Paso 1. Descripción de los datos\n",
    "\n",
    "Lee los archivos de datos (`/datasets/instacart_orders.csv`, `/datasets/products.csv`, `/datasets/aisles.csv`, `/datasets/departments.csv` y `/datasets/order_products.csv`) con `pd.read_csv()` usando los parámetros adecuados para leer los datos correctamente. Verifica la información para cada DataFrame creado.\n"
   ]
  },
  {
   "cell_type": "markdown",
   "id": "OmlQPLlyaAfR",
   "metadata": {
    "id": "OmlQPLlyaAfR"
   },
   "source": [
    "## Plan de solución\n",
    "\n",
    "Escribe aquí tu plan de solución para el Paso 1. Descripción de los datos."
   ]
  },
  {
   "cell_type": "code",
   "execution_count": 1,
   "id": "fbf1adab",
   "metadata": {
    "id": "fbf1adab"
   },
   "outputs": [],
   "source": [
    "# importar librerías\n",
    "import pandas as pd"
   ]
  },
  {
   "cell_type": "code",
   "execution_count": 2,
   "id": "ad36396d",
   "metadata": {
    "id": "ad36396d"
   },
   "outputs": [],
   "source": [
    "orders = pd.read_csv('/datasets/instacart_orders.csv', sep = ';')\n",
    "products = pd.read_csv('/datasets/products.csv', sep = ';')\n",
    "aisles = pd.read_csv('/datasets/aisles.csv', sep = ';')\n",
    "departments = pd.read_csv('/datasets/departments.csv', sep = ';')\n",
    "orders_products = pd.read_csv('/datasets/order_products.csv', sep = ';')"
   ]
  },
  {
   "cell_type": "markdown",
   "id": "19dc8be1",
   "metadata": {},
   "source": [
    "<div class=\"alert alert-block alert-danger\">\n",
    "\n",
    "<b>Comentario del revisor</b> <a class=\"tocSkip\"></a>\n",
    "\n",
    "Esta celda dedicala exclusivamente a la carga de datasets, por lo que debes cargar **todos** los datasets existentes en esta celda. Esto debido a que constituye una buena practica, ya que al comienzo del notebook ya estaria todo ejecutado y ante cualquier cambio lo tenemos de facil acceso.</div>\n",
    "\n",
    "<div class=\"alert alert-block alert-success\">\n",
    "\n",
    "<b>Comentario del revisor #2</b> <a class=\"tocSkip\"></a>\n",
    "\n",
    "Corregido, muy bien.</div>"
   ]
  },
  {
   "cell_type": "markdown",
   "id": "3a14643f",
   "metadata": {},
   "source": [
    "<div class=\"alert alert-block alert-danger\">\n",
    "\n",
    "<b>Comentario del revisor</b> <a class=\"tocSkip\"></a>\n",
    "\n",
    "Ya importaste pandas.\n",
    "\n",
    "\n",
    "</div>\n",
    "\n",
    "<div class=\"alert alert-block alert-success\">\n",
    "\n",
    "<b>Comentario del revisor #2</b> <a class=\"tocSkip\"></a>\n",
    "\n",
    "Corregido.\n",
    "\n",
    "</div>"
   ]
  },
  {
   "cell_type": "markdown",
   "id": "46d9736d",
   "metadata": {},
   "source": [
    "<div class=\"alert alert-block alert-danger\">\n",
    "<b>Comentario del revisor</b> <a class=\"tocSkip\"></a>\n",
    "\n",
    "En este caso, nuestro proyecto se basa en archivos `csv` y estos son delimitados por un punto y coma (;). Al separarse asi, si no le agregamos el parametro:\n",
    "\n",
    "```\n",
    "sep=';'\n",
    "\n",
    "```\n",
    "\n",
    "Nos tomara que nos separa una coma -que es el delimitador por defecto- y no observaremos correctamente el dataset.</div>\n",
    "\n",
    "\n",
    "<div class=\"alert alert-block alert-success\">\n",
    "\n",
    "<b>Comentario del revisor #2</b> <a class=\"tocSkip\"></a>\n",
    "\n",
    "Corregido.\n",
    "\n",
    "</div>"
   ]
  },
  {
   "cell_type": "code",
   "execution_count": 3,
   "id": "ad6a1efa",
   "metadata": {
    "id": "ad6a1efa"
   },
   "outputs": [
    {
     "name": "stdout",
     "output_type": "stream",
     "text": [
      "<class 'pandas.core.frame.DataFrame'>\n",
      "RangeIndex: 478967 entries, 0 to 478966\n",
      "Data columns (total 6 columns):\n",
      " #   Column                  Non-Null Count   Dtype  \n",
      "---  ------                  --------------   -----  \n",
      " 0   order_id                478967 non-null  int64  \n",
      " 1   user_id                 478967 non-null  int64  \n",
      " 2   order_number            478967 non-null  int64  \n",
      " 3   order_dow               478967 non-null  int64  \n",
      " 4   order_hour_of_day       478967 non-null  int64  \n",
      " 5   days_since_prior_order  450148 non-null  float64\n",
      "dtypes: float64(1), int64(5)\n",
      "memory usage: 21.9 MB\n"
     ]
    }
   ],
   "source": [
    "orders.info()"
   ]
  },
  {
   "cell_type": "markdown",
   "id": "359a7d94",
   "metadata": {},
   "source": [
    "<div class=\"alert alert-block alert-danger\">\n",
    "\n",
    "<b>Comentario del revisor</b> <a class=\"tocSkip\"></a>\n",
    "\n",
    "Carga este dataset en la celda correspondiente (La del inicio). Esto es considerado una  buena practica ya que siempre queremos tener al principio todo cargado por si hay que hacer una modificacion en el futuro.</div>\n",
    "\n",
    "\n",
    "<div class=\"alert alert-block alert-success\">\n",
    "\n",
    "<b>Comentario del revisor #2</b> <a class=\"tocSkip\"></a>\n",
    "\n",
    "Corregido.\n",
    "\n",
    "</div>"
   ]
  },
  {
   "cell_type": "code",
   "execution_count": 4,
   "id": "5130e05e",
   "metadata": {
    "id": "5130e05e"
   },
   "outputs": [
    {
     "name": "stdout",
     "output_type": "stream",
     "text": [
      "<class 'pandas.core.frame.DataFrame'>\n",
      "RangeIndex: 49694 entries, 0 to 49693\n",
      "Data columns (total 4 columns):\n",
      " #   Column         Non-Null Count  Dtype \n",
      "---  ------         --------------  ----- \n",
      " 0   product_id     49694 non-null  int64 \n",
      " 1   product_name   48436 non-null  object\n",
      " 2   aisle_id       49694 non-null  int64 \n",
      " 3   department_id  49694 non-null  int64 \n",
      "dtypes: int64(3), object(1)\n",
      "memory usage: 1.5+ MB\n"
     ]
    }
   ],
   "source": [
    "products.info()"
   ]
  },
  {
   "cell_type": "markdown",
   "id": "f528124b",
   "metadata": {},
   "source": [
    "<div class=\"alert alert-block alert-danger\">\n",
    "\n",
    "<b>Comentario del revisor</b> <a class=\"tocSkip\"></a>\n",
    "\n",
    "Carga este dataset en la celda correspondiente (La del inicio). Esto es considerado una  buena practica ya que siempre queremos tener al principio todo cargado por si hay que hacer una modificacion en el futuro.</div>\n",
    "\n",
    "\n",
    "<div class=\"alert alert-block alert-success\">\n",
    "\n",
    "<b>Comentario del revisor #2</b> <a class=\"tocSkip\"></a>\n",
    "\n",
    "Corregido.\n",
    "\n",
    "</div>"
   ]
  },
  {
   "cell_type": "code",
   "execution_count": 5,
   "id": "d8370c05",
   "metadata": {
    "id": "d8370c05"
   },
   "outputs": [
    {
     "name": "stdout",
     "output_type": "stream",
     "text": [
      "<class 'pandas.core.frame.DataFrame'>\n",
      "RangeIndex: 134 entries, 0 to 133\n",
      "Data columns (total 2 columns):\n",
      " #   Column    Non-Null Count  Dtype \n",
      "---  ------    --------------  ----- \n",
      " 0   aisle_id  134 non-null    int64 \n",
      " 1   aisle     134 non-null    object\n",
      "dtypes: int64(1), object(1)\n",
      "memory usage: 2.2+ KB\n"
     ]
    }
   ],
   "source": [
    "aisles.info()"
   ]
  },
  {
   "cell_type": "markdown",
   "id": "28c45009",
   "metadata": {},
   "source": [
    "<div class=\"alert alert-block alert-danger\">\n",
    "\n",
    "<b>Comentario del revisor</b> <a class=\"tocSkip\"></a>\n",
    "\n",
    "Carga este dataset en la celda correspondiente (La del inicio). Esto es considerado una  buena practica ya que siempre queremos tener al principio todo cargado por si hay que hacer una modificacion en el futuro.</div>\n",
    "\n",
    "\n",
    "<div class=\"alert alert-block alert-success\">\n",
    "\n",
    "<b>Comentario del revisor #2</b> <a class=\"tocSkip\"></a>\n",
    "\n",
    "Corregido.\n",
    "\n",
    "</div>"
   ]
  },
  {
   "cell_type": "code",
   "execution_count": 6,
   "id": "59e2090f",
   "metadata": {
    "id": "59e2090f"
   },
   "outputs": [
    {
     "name": "stdout",
     "output_type": "stream",
     "text": [
      "<class 'pandas.core.frame.DataFrame'>\n",
      "RangeIndex: 21 entries, 0 to 20\n",
      "Data columns (total 2 columns):\n",
      " #   Column         Non-Null Count  Dtype \n",
      "---  ------         --------------  ----- \n",
      " 0   department_id  21 non-null     int64 \n",
      " 1   department     21 non-null     object\n",
      "dtypes: int64(1), object(1)\n",
      "memory usage: 464.0+ bytes\n"
     ]
    }
   ],
   "source": [
    "departments.info()"
   ]
  },
  {
   "cell_type": "markdown",
   "id": "ea876b5e",
   "metadata": {},
   "source": [
    "<div class=\"alert alert-block alert-danger\">\n",
    "\n",
    "<b>Comentario del revisor</b> <a class=\"tocSkip\"></a>\n",
    "\n",
    "Carga este dataset en la celda correspondiente (La del inicio). Esto es considerado una  buena practica ya que siempre queremos tener al principio todo cargado por si hay que hacer una modificacion en el futuro.</div>\n",
    "\n",
    "\n",
    "<div class=\"alert alert-block alert-success\">\n",
    "\n",
    "<b>Comentario del revisor #2</b> <a class=\"tocSkip\"></a>\n",
    "\n",
    "Corregido.\n",
    "\n",
    "</div>"
   ]
  },
  {
   "cell_type": "code",
   "execution_count": 7,
   "id": "6fc81694",
   "metadata": {
    "id": "6fc81694"
   },
   "outputs": [
    {
     "name": "stdout",
     "output_type": "stream",
     "text": [
      "<class 'pandas.core.frame.DataFrame'>\n",
      "RangeIndex: 4545007 entries, 0 to 4545006\n",
      "Data columns (total 4 columns):\n",
      " #   Column             Dtype  \n",
      "---  ------             -----  \n",
      " 0   order_id           int64  \n",
      " 1   product_id         int64  \n",
      " 2   add_to_cart_order  float64\n",
      " 3   reordered          int64  \n",
      "dtypes: float64(1), int64(3)\n",
      "memory usage: 138.7 MB\n"
     ]
    }
   ],
   "source": [
    "orders_products.info()"
   ]
  },
  {
   "cell_type": "markdown",
   "id": "71b3a11f",
   "metadata": {},
   "source": [
    "<div class=\"alert alert-block alert-danger\">\n",
    "\n",
    "<b>Comentario del revisor</b> <a class=\"tocSkip\"></a>\n",
    "\n",
    "Carga este dataset en la celda correspondiente (La del inicio). Esto es considerado una  buena practica ya que siempre queremos tener al principio todo cargado por si hay que hacer una modificacion en el futuro.</div>\n",
    "\n",
    "\n",
    "<div class=\"alert alert-block alert-success\">\n",
    "\n",
    "<b>Comentario del revisor #2</b> <a class=\"tocSkip\"></a>\n",
    "\n",
    "Corregido.\n",
    "\n",
    "</div>"
   ]
  },
  {
   "cell_type": "markdown",
   "id": "t75BD19oaR5f",
   "metadata": {
    "id": "t75BD19oaR5f"
   },
   "source": [
    "## Conclusiones\n",
    "\n",
    "Escribe aquí tus conclusiones intermedias sobre el Paso 1. Descripción de los datos.\n"
   ]
  },
  {
   "cell_type": "markdown",
   "id": "362e49b5",
   "metadata": {},
   "source": [
    "Podemos observar que cada archivo de datos tiene rangos ya sea, demasiados altos o demasiados bajos, en algunos pueden existir recuentos nulos o incluso que no cuenten con ellos.\n",
    "El validar la información antes de empezar con tu proceso de datos es muy importante para validar con cuantos valores trabajaremos."
   ]
  },
  {
   "cell_type": "markdown",
   "id": "aba932a9-a9a7-4c5d-a837-d47f5773fa9e",
   "metadata": {},
   "source": [
    "\n",
    "<div class=\"alert alert-block alert-success\">\n",
    "\n",
    "<b>Comentario del revisor #2</b> <a class=\"tocSkip\"></a>\n",
    "\n",
    "Buena epxloracion inicial.\n",
    "</div>"
   ]
  },
  {
   "cell_type": "markdown",
   "id": "8RJHqxVmaVsF",
   "metadata": {
    "id": "8RJHqxVmaVsF"
   },
   "source": [
    "# Paso 2. Preprocesamiento de los datos\n",
    "\n",
    "Preprocesa los datos de la siguiente manera:\n",
    "\n",
    "- Verifica y corrige los tipos de datos (por ejemplo, asegúrate de que las columnas de ID sean números enteros).\n",
    "- Identifica y completa los valores ausentes.\n",
    "- Identifica y elimina los valores duplicados.\n",
    "\n",
    "Asegúrate de explicar qué tipos de valores ausentes y duplicados encontraste, cómo los completaste o eliminaste y por qué usaste esos métodos. ¿Por qué crees que estos valores ausentes y duplicados pueden haber estado presentes en el conjunto de datos?"
   ]
  },
  {
   "cell_type": "markdown",
   "id": "p6poABZQaZYb",
   "metadata": {
    "id": "p6poABZQaZYb"
   },
   "source": [
    "## Plan de solución\n",
    "\n",
    "Escribe aquí tu plan para el Paso 2. Preprocesamiento de los datos."
   ]
  },
  {
   "cell_type": "markdown",
   "id": "3c7cd9d5",
   "metadata": {},
   "source": [
    "El plan de solución para este paso es limpiar de manera correcta los datos y filtrar los pedidos realizados el día miercoles a las 2:00am. Una vez haciendo esto hay que verificar que se hayan eliminado de manera correcta los datos duplicados"
   ]
  },
  {
   "cell_type": "markdown",
   "id": "07357848-dc64-4156-9cc3-01ff4365226d",
   "metadata": {
    "id": "07357848-dc64-4156-9cc3-01ff4365226d"
   },
   "source": [
    "## Encuentra y elimina los valores duplicados (y describe cómo tomaste tus decisiones)."
   ]
  },
  {
   "cell_type": "markdown",
   "id": "f179f0a9",
   "metadata": {
    "id": "f179f0a9"
   },
   "source": [
    "### `orders` data frame"
   ]
  },
  {
   "cell_type": "code",
   "execution_count": 8,
   "id": "b99297a5-405a-463d-8535-9adc3da4ad74",
   "metadata": {
    "id": "b99297a5-405a-463d-8535-9adc3da4ad74"
   },
   "outputs": [
    {
     "name": "stdout",
     "output_type": "stream",
     "text": [
      "        order_id  user_id  order_number  order_dow  order_hour_of_day  \\\n",
      "145574    794638    50898            24          3                  2   \n",
      "223105   2160484   107525            16          3                  2   \n",
      "230807   1918001   188546            14          3                  2   \n",
      "266232   1782114   106752             1          3                  2   \n",
      "273805   1112182   202304            84          3                  2   \n",
      "284038   2845099    31189            11          3                  2   \n",
      "311713   1021560    53767             3          3                  2   \n",
      "321100    408114    68324             4          3                  2   \n",
      "323900   1919531   191501            32          3                  2   \n",
      "345917   2232988    82565             1          3                  2   \n",
      "371905    391768    57671            19          3                  2   \n",
      "394347    467134    63189            21          3                  2   \n",
      "411408   1286742   183220            48          3                  2   \n",
      "415163   2282673    86751            49          3                  2   \n",
      "441599   2125197    14050            48          3                  2   \n",
      "\n",
      "        days_since_prior_order  \n",
      "145574                     2.0  \n",
      "223105                    30.0  \n",
      "230807                    16.0  \n",
      "266232                     NaN  \n",
      "273805                     6.0  \n",
      "284038                     7.0  \n",
      "311713                     9.0  \n",
      "321100                    18.0  \n",
      "323900                     7.0  \n",
      "345917                     NaN  \n",
      "371905                    10.0  \n",
      "394347                     2.0  \n",
      "411408                     4.0  \n",
      "415163                     2.0  \n",
      "441599                     3.0  \n",
      "Cantidad de duplicados: 15\n"
     ]
    }
   ],
   "source": [
    "duplicados = orders[orders.duplicated(subset=['order_id'])]\n",
    "print(duplicados)\n",
    "print(f\"Cantidad de duplicados: {duplicados.shape[0]}\")"
   ]
  },
  {
   "cell_type": "markdown",
   "id": "fff98526",
   "metadata": {},
   "source": [
    "<div class=\"alert alert-block alert-danger\">\n",
    "\n",
    "<b>Comentario del revisor</b> <a class=\"tocSkip\"></a>\n",
    "\n",
    "No importes pandas ya que lo has hecho al principio, no constituye una buena practica hacerla todo el tiempo.\n",
    "Otra cosa que no se debe hacer es cargar nuevamente el dataset(con el read). Ya que estaras todo el tiempo cancelando tu progreso con el mismo, en el momento que lo haces reinicias todos los cambios, por esto es que se carga solo al principio.\n",
    "\n",
    "Cuando hacemos un notebook lo que hacemos al principio se mantiene ejecutado a lo largo de todo el proyecto, por eso realizamos  por etapa el codigo y no todo en una sola celda.\n",
    "\n",
    "Si no estas observando los cambios esto es debido a que se pudo desconectar el notebook y dejar de leer las librerias y la carga del dataset, siempre que realicemos cambios o no nos funcione el dataset debemos correr todo el codigo (**Cell-> Run All**).\n",
    "</div>\n",
    "\n",
    "\n",
    "<div class=\"alert alert-block alert-success\">\n",
    "\n",
    "<b>Comentario del revisor #2</b> <a class=\"tocSkip\"></a>\n",
    "\n",
    "Corregido.\n",
    "\n",
    "</div>"
   ]
  },
  {
   "cell_type": "markdown",
   "id": "PEkwUX_gvt5A",
   "metadata": {
    "id": "PEkwUX_gvt5A"
   },
   "source": [
    "¿Tienes líneas duplicadas? Si sí, ¿qué tienen en común?"
   ]
  },
  {
   "cell_type": "code",
   "execution_count": 9,
   "id": "0d44de5d",
   "metadata": {
    "id": "0d44de5d"
   },
   "outputs": [
    {
     "name": "stdout",
     "output_type": "stream",
     "text": [
      "        order_id  user_id  order_number  order_dow  order_hour_of_day  \\\n",
      "4838     2766110   162084            41          3                  2   \n",
      "5156     2190225   138285            18          3                  2   \n",
      "15506     553049    58599            13          3                  2   \n",
      "18420     382357   120200            19          3                  2   \n",
      "24691     690242    77357             2          3                  2   \n",
      "...          ...      ...           ...        ...                ...   \n",
      "457013   3384021    14881             6          3                  2   \n",
      "458816    910166   164782            18          3                  2   \n",
      "459635   1680532   106435             6          3                  2   \n",
      "468324    222962    54979            59          3                  2   \n",
      "477526   2592344    46860            38          3                  2   \n",
      "\n",
      "        days_since_prior_order  \n",
      "4838                      16.0  \n",
      "5156                      11.0  \n",
      "15506                      7.0  \n",
      "18420                     11.0  \n",
      "24691                      9.0  \n",
      "...                        ...  \n",
      "457013                    30.0  \n",
      "458816                     4.0  \n",
      "459635                    21.0  \n",
      "468324                     3.0  \n",
      "477526                     3.0  \n",
      "\n",
      "[121 rows x 6 columns]\n"
     ]
    }
   ],
   "source": [
    "# Basándote en tus hallazgos,\n",
    "# Verifica todos los pedidos que se hicieron el miércoles a las 2:00 a.m.\n",
    "orders_am = orders.query('order_hour_of_day == 2 and order_dow == 3')\n",
    "\n",
    "print(orders_am)"
   ]
  },
  {
   "cell_type": "markdown",
   "id": "6b98abe9",
   "metadata": {},
   "source": [
    "<div class=\"alert alert-block alert-danger\">\n",
    "\n",
    "<b>Comentario del revisor</b> <a class=\"tocSkip\"></a>\n",
    "\n",
    "No importes pandas ya que lo has hecho al principio, no constituye una buena practica hacerla todo el tiempo.\n",
    "Otra cosa que no se debe hacer es cargar nuevamente el dataset(con el read). Ya que estaras todo el tiempo cancelando tu progreso con el mismo, en el momento que lo haces reinicias todos los cambios, por esto es que se carga solo al principio.\n",
    "\n",
    "Cuando hacemos un notebook lo que hacemos al principio se mantiene ejecutado a lo largo de todo el proyecto, por eso realizamos  por etapa el codigo y no todo en una sola celda.\n",
    "\n",
    "Si no estas observando los cambios esto es debido a que se pudo desconectar el notebook y dejar de leer las librerias y la carga del dataset, siempre que realicemos cambios o no nos funcione el dataset debemos correr todo el codigo (**Cell-> Run All**).\n",
    "</div>\n",
    "\n",
    "\n",
    "<div class=\"alert alert-block alert-success\">\n",
    "\n",
    "<b>Comentario del revisor #2</b> <a class=\"tocSkip\"></a>\n",
    "\n",
    "Corregido.\n",
    "\n",
    "</div>"
   ]
  },
  {
   "cell_type": "markdown",
   "id": "vu2OWyoqwOx5",
   "metadata": {
    "id": "vu2OWyoqwOx5"
   },
   "source": [
    "¿Qué sugiere este resultado?"
   ]
  },
  {
   "cell_type": "code",
   "execution_count": 10,
   "id": "480563c7",
   "metadata": {
    "id": "480563c7"
   },
   "outputs": [
    {
     "name": "stdout",
     "output_type": "stream",
     "text": [
      "        order_id  user_id  order_number  order_dow  order_hour_of_day  \\\n",
      "0        1515936   183418            11          6                 13   \n",
      "1        1690866   163593             5          5                 12   \n",
      "2        1454967    39980             4          5                 19   \n",
      "3        1768857    82516            56          0                 20   \n",
      "4        3007858   196724             2          4                 12   \n",
      "...          ...      ...           ...        ...                ...   \n",
      "478962   3210681     5617             5          1                 14   \n",
      "478963   3270802   112087             2          3                 13   \n",
      "478964    885349    82944            16          2                 11   \n",
      "478965    216274     4391             3          3                  8   \n",
      "478966   2071924     1730            18          1                 14   \n",
      "\n",
      "        days_since_prior_order  \n",
      "0                         30.0  \n",
      "1                          9.0  \n",
      "2                          2.0  \n",
      "3                         10.0  \n",
      "4                         17.0  \n",
      "...                        ...  \n",
      "478962                     7.0  \n",
      "478963                     6.0  \n",
      "478964                     6.0  \n",
      "478965                     8.0  \n",
      "478966                    15.0  \n",
      "\n",
      "[478952 rows x 6 columns]\n"
     ]
    }
   ],
   "source": [
    "# Elimina los pedidos duplicados\n",
    "orders_drop_duplicates = orders.drop_duplicates(subset = ['order_id'])\n",
    "\n",
    "print(orders_drop_duplicates)"
   ]
  },
  {
   "cell_type": "markdown",
   "id": "240510ad",
   "metadata": {},
   "source": [
    "<div class=\"alert alert-block alert-danger\">\n",
    "\n",
    "<b>Comentario del revisor</b> <a class=\"tocSkip\"></a>\n",
    "\n",
    "No importes pandas ya que lo has hecho al principio, no constituye una buena practica hacerla todo el tiempo.\n",
    "Otra cosa que no se debe hacer es cargar nuevamente el dataset(con el read). Ya que estaras todo el tiempo cancelando tu progreso con el mismo, en el momento que lo haces reinicias todos los cambios, por esto es que se carga solo al principio.\n",
    "\n",
    "Cuando hacemos un notebook lo que hacemos al principio se mantiene ejecutado a lo largo de todo el proyecto, por eso realizamos  por etapa el codigo y no todo en una sola celda.\n",
    "\n",
    "Si no estas observando los cambios esto es debido a que se pudo desconectar el notebook y dejar de leer las librerias y la carga del dataset, siempre que realicemos cambios o no nos funcione el dataset debemos correr todo el codigo (**Cell-> Run All**).\n",
    "</div>\n",
    "\n",
    "\n",
    "<div class=\"alert alert-block alert-success\">\n",
    "\n",
    "<b>Comentario del revisor #2</b> <a class=\"tocSkip\"></a>\n",
    "\n",
    "Corregido.\n",
    "\n",
    "</div>"
   ]
  },
  {
   "cell_type": "code",
   "execution_count": 11,
   "id": "0b2396a2",
   "metadata": {
    "id": "0b2396a2"
   },
   "outputs": [
    {
     "name": "stdout",
     "output_type": "stream",
     "text": [
      "Número de duplicados después de la limpieza: 0\n"
     ]
    }
   ],
   "source": [
    "# Vuelve a verificar si hay filas duplicadas\n",
    "orders_clean = orders.drop_duplicates(subset=['order_id'])\n",
    "\n",
    "#Verificamos que ya no contemos con duplicados\n",
    "orders_duplicates = orders_clean.duplicated(subset=['order_id']).sum()\n",
    "print(f\"Número de duplicados después de la limpieza: {orders_duplicates}\")"
   ]
  },
  {
   "cell_type": "markdown",
   "id": "a2cc8a1d",
   "metadata": {},
   "source": [
    "<div class=\"alert alert-block alert-danger\">\n",
    "\n",
    "<b>Comentario del revisor</b> <a class=\"tocSkip\"></a>\n",
    "\n",
    "No importes pandas ya que lo has hecho al principio, no constituye una buena practica hacerla todo el tiempo.\n",
    "Otra cosa que no se debe hacer es cargar nuevamente el dataset(con el read). Ya que estaras todo el tiempo cancelando tu progreso con el mismo, en el momento que lo haces reinicias todos los cambios, por esto es que se carga solo al principio.\n",
    "\n",
    "Cuando hacemos un notebook lo que hacemos al principio se mantiene ejecutado a lo largo de todo el proyecto, por eso realizamos  por etapa el codigo y no todo en una sola celda.\n",
    "\n",
    "Si no estas observando los cambios esto es debido a que se pudo desconectar el\n",
    "\n",
    "\n",
    "<div class=\"alert alert-block alert-success\">\n",
    "\n",
    "<b>Comentario del revisor #2</b> <a class=\"tocSkip\"></a>\n",
    "\n",
    "Corregido.\n",
    "\n",
    "</div>notebook y dejar de leer las librerias y la carga del dataset, siempre que realicemos cambios o no nos funcione el dataset debemos correr todo el codigo (**Cell-> Run All**).\n",
    "</div>"
   ]
  },
  {
   "cell_type": "code",
   "execution_count": 12,
   "id": "f6113ef1",
   "metadata": {
    "id": "f6113ef1"
   },
   "outputs": [
    {
     "name": "stdout",
     "output_type": "stream",
     "text": [
      "Números de IDs duplicados: 15\n"
     ]
    }
   ],
   "source": [
    "duplicates = orders[orders.duplicated(subset = ['order_id'], keep = False)]\n",
    "\n",
    "num_duplicates = duplicates['order_id'].nunique()\n",
    "\n",
    "print(f\"Números de IDs duplicados: {num_duplicates}\")"
   ]
  },
  {
   "cell_type": "markdown",
   "id": "99cce475-c942-462a-877a-b22834669909",
   "metadata": {},
   "source": [
    "<div class=\"alert alert-block alert-danger\">\n",
    "\n",
    "<b>Comentario del revisor #2</b> <a class=\"tocSkip\"></a>\n",
    "\n",
    "En este caso se detiene la ejecucion debido a que tu dataframe no se llama df.\n",
    "</div>"
   ]
  },
  {
   "cell_type": "markdown",
   "id": "ed1f1713",
   "metadata": {},
   "source": [
    "<div class=\"alert alert-block alert-danger\">\n",
    "\n",
    "<b>Comentario del revisor</b> <a class=\"tocSkip\"></a>\n",
    "\n",
    "No importes pandas ya que lo has hecho al principio, no constituye una buena practica hacerla todo el tiempo.\n",
    "Otra cosa que no se debe hacer es cargar nuevamente el dataset(con el read). Ya que estaras todo el tiempo cancelando tu progreso con el mismo, en el momento que lo haces reinicias todos los cambios, por esto es que se carga solo al principio.\n",
    "\n",
    "Cuando hacemos un notebook lo que hacemos al principio se mantiene ejecutado a lo largo de todo el proyecto, por eso realizamos  por etapa el codigo y no todo en una sola celda.\n",
    "\n",
    "Si no estas observando los cambios esto es debido a que se pudo desconectar el notebook y dejar de leer las librerias y la carga del dataset, siempre que realicemos cambios o no nos funcione el dataset debemos correr todo el codigo (**Cell-> Run All**).\n",
    "</div>\n",
    "\n",
    "\n",
    "<div class=\"alert alert-block alert-success\">\n",
    "\n",
    "<b>Comentario del revisor #2</b> <a class=\"tocSkip\"></a>\n",
    "\n",
    "Corregido.\n",
    "\n",
    "</div>"
   ]
  },
  {
   "cell_type": "markdown",
   "id": "5e8905ae",
   "metadata": {
    "id": "5e8905ae"
   },
   "source": [
    "Describe brevemente tus hallazgos y lo que hiciste con ellos"
   ]
  },
  {
   "cell_type": "markdown",
   "id": "21290d4c",
   "metadata": {},
   "source": [
    "Al analizar los archivos de datos nos pudimos dar cuenta que se identificaron 15 valores únicos de la columna de \"order_id\", esto significa que existen 15 pedidos registrados más de una vez"
   ]
  },
  {
   "cell_type": "markdown",
   "id": "da875ca1-2ea5-4810-add0-9aad5007cf10",
   "metadata": {},
   "source": [
    "\n",
    "<div class=\"alert alert-block alert-success\">\n",
    "\n",
    "<b>Comentario del revisor #2</b> <a class=\"tocSkip\"></a>\n",
    "\n",
    "Muy bien tratados los duplicados.\n",
    "\n",
    "    \n",
    "</div>"
   ]
  },
  {
   "cell_type": "markdown",
   "id": "45e6bc46",
   "metadata": {
    "id": "45e6bc46"
   },
   "source": [
    "### `products` data frame"
   ]
  },
  {
   "cell_type": "code",
   "execution_count": 13,
   "id": "5f526b5b-8175-46fa-a0fd-441767d50e64",
   "metadata": {
    "id": "5f526b5b-8175-46fa-a0fd-441767d50e64"
   },
   "outputs": [
    {
     "name": "stdout",
     "output_type": "stream",
     "text": [
      "Empty DataFrame\n",
      "Columns: [product_id, product_name, aisle_id, department_id]\n",
      "Index: []\n",
      "Número total de filas duplicadas = 0\n"
     ]
    }
   ],
   "source": [
    "# Verifica si hay filas totalmente duplicadas\n",
    "total_duplicates = products.duplicated().sum()\n",
    "duplicates = products[products.duplicated()]\n",
    "\n",
    "print(duplicates)\n",
    "print(f\"Número total de filas duplicadas = {total_duplicates}\")"
   ]
  },
  {
   "cell_type": "markdown",
   "id": "012c6591",
   "metadata": {},
   "source": [
    "<div class=\"alert alert-block alert-danger\">\n",
    "\n",
    "<b>Comentario del revisor</b> <a class=\"tocSkip\"></a>\n",
    "\n",
    "No importes pandas ya que lo has hecho al principio, no constituye una buena practica hacerla todo el tiempo.\n",
    "Otra cosa que no se debe hacer es cargar nuevamente el dataset(con el read). Ya que estaras todo el tiempo cancelando tu progreso con el mismo, en el momento que lo haces reinicias todos los cambios, por esto es que se carga solo al principio.\n",
    "\n",
    "Cuando hacemos un notebook lo que hacemos al principio se mantiene ejecutado a lo largo de todo el proyecto, por eso realizamos  por etapa el codigo y no todo en una sola celda.\n",
    "\n",
    "Si no estas observando los cambios esto es debido a que se pudo desconectar el notebook y dejar de leer las librerias y la carga del dataset, siempre que realicemos cambios o no nos funcione el dataset debemos correr todo el codigo (**Cell-> Run All**).\n",
    "</div>\n",
    "\n",
    "\n",
    "<div class=\"alert alert-block alert-success\">\n",
    "\n",
    "<b>Comentario del revisor #2</b> <a class=\"tocSkip\"></a>\n",
    "\n",
    "Corregido.\n",
    "\n",
    "</div>"
   ]
  },
  {
   "cell_type": "code",
   "execution_count": 14,
   "id": "88daa4f4",
   "metadata": {
    "id": "88daa4f4"
   },
   "outputs": [
    {
     "name": "stdout",
     "output_type": "stream",
     "text": [
      "       product_id                                       product_name  \\\n",
      "0               1                         Chocolate Sandwich Cookies   \n",
      "1               2                                   All-Seasons Salt   \n",
      "2               3               Robust Golden Unsweetened Oolong Tea   \n",
      "3               4  Smart Ones Classic Favorites Mini Rigatoni Wit...   \n",
      "4               5                          Green Chile Anytime Sauce   \n",
      "...           ...                                                ...   \n",
      "49689       49690                      HIGH PERFORMANCE ENERGY DRINK   \n",
      "49690       49691                      ORIGINAL PANCAKE & WAFFLE MIX   \n",
      "49691       49692    ORGANIC INSTANT OATMEAL LIGHT MAPLE BROWN SUGAR   \n",
      "49692       49693                             SPRING WATER BODY WASH   \n",
      "49693       49694                            BURRITO- STEAK & CHEESE   \n",
      "\n",
      "       aisle_id  department_id  \n",
      "0            61             19  \n",
      "1           104             13  \n",
      "2            94              7  \n",
      "3            38              1  \n",
      "4             5             13  \n",
      "...         ...            ...  \n",
      "49689        64              7  \n",
      "49690       130             14  \n",
      "49691       130             14  \n",
      "49692       127             11  \n",
      "49693        38              1  \n",
      "\n",
      "[49694 rows x 4 columns]\n",
      "\n",
      "Número de ID´s de Departamentos duplicados = 21\n"
     ]
    }
   ],
   "source": [
    "# Verifica si hay department_id duplicados (es decir, que se repiten en distintas filas)\n",
    "department_duplicates = products[products.duplicated(subset=['department_id'], keep = False)]\n",
    "\n",
    "#Cuenta cuantos ID's únicos hay de departamentos duplicados\n",
    "num_department_duplicates = department_duplicates['department_id'].nunique()\n",
    "\n",
    "print(department_duplicates)\n",
    "print()\n",
    "print(f\"Número de ID´s de Departamentos duplicados = {num_department_duplicates}\")"
   ]
  },
  {
   "cell_type": "markdown",
   "id": "e992087d",
   "metadata": {},
   "source": [
    "<div class=\"alert alert-block alert-danger\">\n",
    "\n",
    "<b>Comentario del revisor</b> <a class=\"tocSkip\"></a>\n",
    "\n",
    "No importes pandas ya que lo has hecho al principio, no constituye una buena practica hacerla todo el tiempo.\n",
    "Otra cosa que no se debe hacer es cargar nuevamente el dataset(con el read). Ya que estaras todo el tiempo cancelando tu progreso con el mismo, en el momento que lo haces reinicias todos los cambios, por esto es que se carga solo al principio.\n",
    "\n",
    "Cuando hacemos un notebook lo que hacemos al principio se mantiene ejecutado a lo largo de todo el proyecto, por eso realizamos  por etapa el codigo y no todo en una sola celda.\n",
    "\n",
    "Si no estas observando los cambios esto es debido a que se pudo desconectar el notebook y dejar de leer las librerias y la carga del dataset, siempre que realicemos cambios o no nos funcione el dataset debemos correr todo el codigo (**Cell-> Run All**).\n",
    "</div>\n",
    "\n",
    "\n",
    "<div class=\"alert alert-block alert-success\">\n",
    "\n",
    "<b>Comentario del revisor #2</b> <a class=\"tocSkip\"></a>\n",
    "\n",
    "Corregido.\n",
    "\n",
    "</div>"
   ]
  },
  {
   "cell_type": "code",
   "execution_count": 15,
   "id": "c773f0bf",
   "metadata": {
    "id": "c773f0bf"
   },
   "outputs": [
    {
     "name": "stdout",
     "output_type": "stream",
     "text": [
      "      product_name\n",
      "37             NaN\n",
      "71             NaN\n",
      "109            NaN\n",
      "296            NaN\n",
      "416            NaN\n",
      "...            ...\n",
      "49552          NaN\n",
      "49574          NaN\n",
      "49640          NaN\n",
      "49663          NaN\n",
      "49668          NaN\n",
      "\n",
      "[1258 rows x 1 columns]\n",
      "\n",
      "Número de nombres de productos duplicados (ignorando mayúsculas/minúsculas): 0\n"
     ]
    }
   ],
   "source": [
    "# Revisa únicamente si hay nombres duplicados de productos (convierte los nombres a letras mayúsculas para compararlos mejor)\n",
    "products['product_name_upper'] = products['product_name'].str.upper()\n",
    "\n",
    "product_duplicates = products[products.duplicated(subset=['product_name'], keep=False)]\n",
    "\n",
    "num_name_duplicates = product_duplicates['product_name_upper'].nunique()\n",
    "\n",
    "print(product_duplicates[['product_name']])\n",
    "print()\n",
    "print(f\"Número de nombres de productos duplicados (ignorando mayúsculas/minúsculas): {num_name_duplicates}\")"
   ]
  },
  {
   "cell_type": "code",
   "execution_count": 16,
   "id": "01efd02e",
   "metadata": {
    "id": "01efd02e"
   },
   "outputs": [
    {
     "name": "stdout",
     "output_type": "stream",
     "text": [
      "Empty DataFrame\n",
      "Columns: [product_name]\n",
      "Index: []\n",
      "\n",
      "Número de productos duplicados: 0\n"
     ]
    }
   ],
   "source": [
    "# Revisa si hay nombres duplicados de productos no faltantes\n",
    "#Elimana los productos sin nombres\n",
    "products = products.dropna(subset=['product_name'])\n",
    "\n",
    "products['product_name_upper'] = products['product_name'].str.upper()\n",
    "\n",
    "product_duplicates = products[products.duplicated(subset=['product_name'], keep=False)]\n",
    "\n",
    "num_name_duplicates = product_duplicates['product_name_upper'].nunique()\n",
    "\n",
    "print(product_duplicates[['product_name']])\n",
    "print()\n",
    "print(f\"Número de productos duplicados: {num_name_duplicates}\")"
   ]
  },
  {
   "cell_type": "markdown",
   "id": "b83908e8",
   "metadata": {},
   "source": [
    "<div class=\"alert alert-block alert-danger\">\n",
    "\n",
    "<b>Comentario del revisor</b> <a class=\"tocSkip\"></a>\n",
    "\n",
    "No importes pandas ya que lo has hecho al principio, no constituye una buena practica hacerla todo el tiempo.\n",
    "Otra cosa que no se debe hacer es cargar nuevamente el dataset(con el read). Ya que estaras todo el tiempo cancelando tu progreso con el mismo, en el momento que lo haces reinicias todos los cambios, por esto es que se carga solo al principio.\n",
    "\n",
    "Cuando hacemos un notebook lo que hacemos al principio se mantiene ejecutado a lo largo de todo el proyecto, por eso realizamos  por etapa el codigo y no todo en una sola celda.\n",
    "\n",
    "Si no estas observando los cambios esto es debido a que se pudo desconectar el notebook y dejar de leer las librerias y la carga del dataset, siempre que realicemos cambios o no nos funcione el dataset debemos correr todo el codigo (**Cell-> Run All**).\n",
    "</div>\n",
    "\n",
    "\n",
    "<div class=\"alert alert-block alert-success\">\n",
    "\n",
    "<b>Comentario del revisor #2</b> <a class=\"tocSkip\"></a>\n",
    "\n",
    "Corregido.\n",
    "\n",
    "</div>"
   ]
  },
  {
   "cell_type": "markdown",
   "id": "9da8d293",
   "metadata": {
    "id": "9da8d293"
   },
   "source": [
    "Describe brevemente tus hallazgos y lo que hiciste con ellos."
   ]
  },
  {
   "cell_type": "markdown",
   "id": "1e8704d3",
   "metadata": {},
   "source": [
    "# Mi hallazgo\n",
    "\n",
    "Me di cuenta que al querer revisar si había nombres duplicados de productos vi que existen nombres de productos de filas de valores NaN por lo que no tienen ningún tipo de nombre."
   ]
  },
  {
   "cell_type": "code",
   "execution_count": 17,
   "id": "fb410ad4-0fbf-4b80-bb09-23fdea79afe3",
   "metadata": {
    "id": "fb410ad4-0fbf-4b80-bb09-23fdea79afe3"
   },
   "outputs": [
    {
     "name": "stdout",
     "output_type": "stream",
     "text": [
      "Número total de filas duplicadas: 0\n"
     ]
    }
   ],
   "source": [
    "# Revisa si hay filas totalmente duplicadas\n",
    "total_duplicates = products.duplicated().sum()\n",
    "duplicates = products[products.duplicated()]\n",
    "\n",
    "print(f\"Número total de filas duplicadas: {total_duplicates}\")"
   ]
  },
  {
   "cell_type": "markdown",
   "id": "ff961287",
   "metadata": {},
   "source": [
    "<div class=\"alert alert-block alert-danger\">\n",
    "\n",
    "<b>Comentario del revisor</b> <a class=\"tocSkip\"></a>\n",
    "\n",
    "No importes pandas ya que lo has hecho al principio, no constituye una buena practica hacerla todo el tiempo.\n",
    "Otra cosa que no se debe hacer es cargar nuevamente el dataset(con el read). Ya que estaras todo el tiempo cancelando tu progreso con el mismo, en el momento que lo haces reinicias todos los cambios, por esto es que se carga solo al principio.\n",
    "\n",
    "Cuando hacemos un notebook lo que hacemos al principio se mantiene ejecutado a lo largo de todo el proyecto, por eso realizamos  por etapa el codigo y no todo en una sola celda.\n",
    "\n",
    "Si no estas observando los cambios esto es debido a que se pudo desconectar el notebook y dejar de leer las librerias y la carga del dataset, siempre que realicemos cambios o no nos funcione el dataset debemos correr todo el codigo (**Cell-> Run All**).\n",
    "</div>\n",
    "\n",
    "\n",
    "<div class=\"alert alert-block alert-success\">\n",
    "\n",
    "<b>Comentario del revisor #2</b> <a class=\"tocSkip\"></a>\n",
    "\n",
    "Corregido.\n",
    "\n",
    "</div>"
   ]
  },
  {
   "cell_type": "markdown",
   "id": "bd30d78e",
   "metadata": {
    "id": "bd30d78e"
   },
   "source": [
    "Describe brevemente tus hallazgos y lo que hiciste con ellos."
   ]
  },
  {
   "cell_type": "markdown",
   "id": "889349c1",
   "metadata": {
    "id": "889349c1"
   },
   "source": [
    "### `aisles` data frame"
   ]
  },
  {
   "cell_type": "code",
   "execution_count": 18,
   "id": "9da89fb9-4679-40f5-ad0d-c34df753a3f8",
   "metadata": {
    "id": "9da89fb9-4679-40f5-ad0d-c34df753a3f8",
    "scrolled": true
   },
   "outputs": [
    {
     "name": "stdout",
     "output_type": "stream",
     "text": [
      "Empty DataFrame\n",
      "Columns: [aisle_id, aisle]\n",
      "Index: []\n",
      "Número total de filas duplicadas = 0\n"
     ]
    }
   ],
   "source": [
    "# Revisa si hay filas totalmente duplicadas\n",
    "total_duplicates = aisles.duplicated().sum()\n",
    "\n",
    "duplicates = aisles[aisles.duplicated()]\n",
    "\n",
    "print(duplicates)\n",
    "print(f\"Número total de filas duplicadas = {total_duplicates}\")"
   ]
  },
  {
   "cell_type": "markdown",
   "id": "23fa61ff",
   "metadata": {},
   "source": [
    "<div class=\"alert alert-block alert-danger\">\n",
    "\n",
    "<b>Comentario del revisor</b> <a class=\"tocSkip\"></a>\n",
    "\n",
    "No importes pandas ya que lo has hecho al principio, no constituye una buena practica hacerla todo el tiempo.\n",
    "Otra cosa que no se debe hacer es cargar nuevamente el dataset(con el read). Ya que estaras todo el tiempo cancelando tu progreso con el mismo, en el momento que lo haces reinicias todos los cambios, por esto es que se carga solo al principio.\n",
    "\n",
    "Cuando hacemos un notebook lo que hacemos al principio se mantiene ejecutado a lo largo de todo el proyecto, por eso realizamos  por etapa el codigo y no todo en una sola celda.\n",
    "\n",
    "Si no estas observando los cambios esto es debido a que se pudo desconectar el notebook y dejar de leer las librerias y la carga del dataset, siempre que realicemos cambios o no nos funcione el dataset debemos correr todo el codigo (**Cell-> Run All**).\n",
    "</div>\n",
    "\n",
    "\n",
    "<div class=\"alert alert-block alert-success\">\n",
    "\n",
    "<b>Comentario del revisor #2</b> <a class=\"tocSkip\"></a>\n",
    "\n",
    "Corregido.\n",
    "\n",
    "</div>"
   ]
  },
  {
   "cell_type": "code",
   "execution_count": 19,
   "id": "da7c2822",
   "metadata": {
    "id": "da7c2822"
   },
   "outputs": [
    {
     "name": "stdout",
     "output_type": "stream",
     "text": [
      "Número de ID's de pasillos duplicados: 0\n"
     ]
    }
   ],
   "source": [
    "# Revisa únicamente si hay IDs duplicadas de pasillos\n",
    "aisle_duplicates = aisles[aisles.duplicated(subset = ['aisle_id'], keep = False)]\n",
    "\n",
    "aisle_unique = aisle_duplicates['aisle_id'].nunique()\n",
    "\n",
    "print(f\"Número de ID's de pasillos duplicados: {aisle_unique}\")"
   ]
  },
  {
   "cell_type": "markdown",
   "id": "22788b1a",
   "metadata": {},
   "source": [
    "<div class=\"alert alert-block alert-danger\">\n",
    "\n",
    "<b>Comentario del revisor</b> <a class=\"tocSkip\"></a>\n",
    "\n",
    "No importes pandas ya que lo has hecho al principio, no constituye una buena practica hacerla todo el tiempo.\n",
    "Otra cosa que no se debe hacer es cargar nuevamente el dataset(con el read). Ya que estaras todo el tiempo cancelando tu progreso con el mismo, en el momento que lo haces reinicias todos los cambios, por esto es que se carga solo al principio.\n",
    "\n",
    "Cuando hacemos un notebook lo que hacemos al principio se mantiene ejecutado a lo largo de todo el proyecto, por eso realizamos  por etapa el codigo y no todo en una sola celda.\n",
    "\n",
    "Si no estas observando los cambios esto es debido a que se pudo desconectar el notebook y dejar de leer las librerias y la carga del dataset, siempre que realicemos cambios o no nos funcione el dataset debemos correr todo el codigo (**Cell-> Run All**).\n",
    "</div>\n",
    "\n",
    "\n",
    "<div class=\"alert alert-block alert-success\">\n",
    "\n",
    "<b>Comentario del revisor #2</b> <a class=\"tocSkip\"></a>\n",
    "\n",
    "Corregido.\n",
    "\n",
    "</div>"
   ]
  },
  {
   "cell_type": "markdown",
   "id": "ac63826f",
   "metadata": {
    "id": "ac63826f"
   },
   "source": [
    "Describe brevemente tus hallazgos y lo que hiciste con ellos."
   ]
  },
  {
   "cell_type": "markdown",
   "id": "2c1f4ecb",
   "metadata": {},
   "source": [
    "# MI HALLAZGO\n",
    "\n",
    "Podemos observar que al momento de revisar el archvio de datos no existen filas ni ID's duplicados"
   ]
  },
  {
   "cell_type": "markdown",
   "id": "274cd06a",
   "metadata": {
    "id": "274cd06a"
   },
   "source": [
    "### `order_products` data frame"
   ]
  },
  {
   "cell_type": "code",
   "execution_count": 20,
   "id": "52326689-84a8-4b8f-a881-7c68780f62c9",
   "metadata": {
    "id": "52326689-84a8-4b8f-a881-7c68780f62c9"
   },
   "outputs": [
    {
     "name": "stdout",
     "output_type": "stream",
     "text": [
      "Número total de filas duplicadas: 0\n"
     ]
    }
   ],
   "source": [
    "# Revisa si hay filas totalmente duplicadas\n",
    "total_duplicates = orders_products.duplicated().sum()\n",
    "duplicates = orders_products[orders_products.duplicated()]\n",
    "\n",
    "print(f\"Número total de filas duplicadas: {total_duplicates}\")"
   ]
  },
  {
   "cell_type": "markdown",
   "id": "8561cccd",
   "metadata": {},
   "source": [
    "<div class=\"alert alert-block alert-danger\">\n",
    "\n",
    "<b>Comentario del revisor</b> <a class=\"tocSkip\"></a>\n",
    "\n",
    "No importes pandas ya que lo has hecho al principio, no constituye una buena practica hacerla todo el tiempo.\n",
    "Otra cosa que no se debe hacer es cargar nuevamente el dataset(con el read). Ya que estaras todo el tiempo cancelando tu progreso con el mismo, en el momento que lo haces reinicias todos los cambios, por esto es que se carga solo al principio.\n",
    "\n",
    "Cuando hacemos un notebook lo que hacemos al principio se mantiene ejecutado a lo largo de todo el proyecto, por eso realizamos  por etapa el codigo y no todo en una sola celda.\n",
    "\n",
    "Si no estas observando los cambios esto es debido a que se pudo desconectar el notebook y dejar de leer las librerias y la carga del dataset, siempre que realicemos cambios o no nos funcione el dataset debemos correr todo el codigo (**Cell-> Run All**).\n",
    "</div>\n",
    "\n",
    "\n",
    "<div class=\"alert alert-block alert-success\">\n",
    "\n",
    "<b>Comentario del revisor #2</b> <a class=\"tocSkip\"></a>\n",
    "\n",
    "Corregido.\n",
    "\n",
    "</div>"
   ]
  },
  {
   "cell_type": "code",
   "execution_count": 21,
   "id": "7b861391",
   "metadata": {
    "id": "7b861391"
   },
   "outputs": [
    {
     "name": "stdout",
     "output_type": "stream",
     "text": [
      "Duplicados en 'aisle' SIN limpiar: 0\n",
      "Duplicados en 'aisle' DESPUÉS de limpiar: 0\n",
      "\n",
      "No se encontraron duplicados engañosos en 'aisle'.\n"
     ]
    }
   ],
   "source": [
    "# Verificar duplicados normales (sin limpiar)\n",
    "duplicados_normales = aisles.duplicated(subset=['aisle']).sum()\n",
    "print(f\"Duplicados en 'aisle' SIN limpiar: {duplicados_normales}\")\n",
    "\n",
    "# Normalizar la columna 'aisle' (por si acaso hay diferencias por espacios o mayúsculas)\n",
    "aisles['aisle_normalizado'] = aisles['aisle'].str.strip().str.lower()\n",
    "\n",
    "# Verificar duplicados después de limpiar\n",
    "duplicados_limpios = aisles.duplicated(subset=['aisle_normalizado']).sum()\n",
    "print(f\"Duplicados en 'aisle' DESPUÉS de limpiar: {duplicados_limpios}\")\n",
    "\n",
    "# Mostrar filas duplicadas después de limpiar\n",
    "filas_duplicadas = aisles[aisles.duplicated(subset=['aisle_normalizado'], keep=False)]\n",
    "if not filas_duplicadas.empty:\n",
    "    print(filas_duplicadas[['aisle_id', 'aisle']])\n",
    "else:\n",
    "    print(\"\\nNo se encontraron duplicados engañosos en 'aisle'.\")"
   ]
  },
  {
   "cell_type": "markdown",
   "id": "2c202a7d-6ca3-4161-9103-47625bbe7f27",
   "metadata": {},
   "source": [
    "<div class=\"alert alert-block alert-danger\">\n",
    "\n",
    "<b>Comentario del revisor #2</b> <a class=\"tocSkip\"></a>\n",
    "\n",
    "El error aqui es utilizar aisle.</div>\n",
    "\n",
    "<div class=\"alert alert-block alert-danger\">\n",
    "\n",
    "<b>Comentario del revisor #3</b> <a class=\"tocSkip\"></a>\n",
    "\n",
    "Cuidado, estas utilizando la columna aisle que no existe en el dataset `orders_prducts`\n",
    "</div>\n",
    "\n",
    "<div class=\"alert alert-block alert-success\">\n",
    "\n",
    "<b>Comentario del revisor #4</b> <a class=\"tocSkip\"></a>\n",
    "\n",
    "Corregido, muy bien.\n",
    "\n",
    "</div>"
   ]
  },
  {
   "cell_type": "markdown",
   "id": "47173aa5",
   "metadata": {},
   "source": [
    "<div class=\"alert alert-block alert-danger\">\n",
    "\n",
    "<b>Comentario del revisor</b> <a class=\"tocSkip\"></a>\n",
    "\n",
    "No importes pandas ya que lo has hecho al principio, no constituye una buena practica hacerla todo el tiempo.\n",
    "Otra cosa que no se debe hacer es cargar nuevamente el dataset(con el read). Ya que estaras todo el tiempo cancelando tu progreso con el mismo, en el momento que lo haces reinicias todos los cambios, por esto es que se carga solo al principio.\n",
    "\n",
    "Cuando hacemos un notebook lo que hacemos al principio se mantiene ejecutado a lo largo de todo el proyecto, por eso realizamos  por etapa el codigo y no todo en una sola celda.\n",
    "\n",
    "Si no estas observando los cambios esto es debido a que se pudo desconectar el notebook y dejar de leer las librerias y la carga del dataset, siempre que realicemos cambios o no nos funcione el dataset debemos correr todo el codigo (**Cell-> Run All**).\n",
    "</div>\n",
    "\n",
    "\n",
    "<div class=\"alert alert-block alert-success\">\n",
    "\n",
    "<b>Comentario del revisor #2</b> <a class=\"tocSkip\"></a>\n",
    "\n",
    "Corregido.\n",
    "\n",
    "</div>"
   ]
  },
  {
   "cell_type": "code",
   "execution_count": 22,
   "id": "332b12bb",
   "metadata": {
    "id": "332b12bb"
   },
   "outputs": [
    {
     "name": "stdout",
     "output_type": "stream",
     "text": [
      "Números únicos de ID's duplicados: 0\n"
     ]
    }
   ],
   "source": [
    "# Revisa únicamente si hay IDs duplicadas de productos\n",
    "duplicates = products[products.duplicated(subset=['product_id'], keep = False)]\n",
    "\n",
    "num_duplicates = duplicates['product_name'].nunique()\n",
    "\n",
    "print(f\"Números únicos de ID's duplicados: {num_duplicates}\")"
   ]
  },
  {
   "cell_type": "markdown",
   "id": "1fbe1c03-c69b-4799-958b-2d57cc0f9e18",
   "metadata": {},
   "source": [
    "\n",
    "<div class=\"alert alert-block alert-danger\">\n",
    "\n",
    "<b>Comentario del revisor #3</b> <a class=\"tocSkip\"></a>\n",
    "\n",
    "Aqui no existe product_name.\n",
    "    \n",
    "</div>\n",
    "\n",
    "<div class=\"alert alert-block alert-success\">\n",
    "\n",
    "<b>Comentario del revisor #4</b> <a class=\"tocSkip\"></a>\n",
    "\n",
    "Corregido.\n",
    "\n",
    "</div>"
   ]
  },
  {
   "cell_type": "markdown",
   "id": "5f3d1651",
   "metadata": {},
   "source": [
    "<div class=\"alert alert-block alert-danger\">\n",
    "\n",
    "<b>Comentario del revisor</b> <a class=\"tocSkip\"></a>\n",
    "\n",
    "No importes pandas ya que lo has hecho al principio, no constituye una buena practica hacerla todo el tiempo.\n",
    "Otra cosa que no se debe hacer es cargar nuevamente el dataset(con el read). Ya que estaras todo el tiempo cancelando tu progreso con el mismo, en el momento que lo haces reinicias todos los cambios, por esto es que se carga solo al principio.\n",
    "\n",
    "Cuando hacemos un notebook lo que hacemos al principio se mantiene ejecutado a lo largo de todo el proyecto, por eso realizamos  por etapa el codigo y no todo en una sola celda.\n",
    "\n",
    "Si no estas observando los cambios esto es debido a que se pudo desconectar el notebook y dejar de leer las librerias y la carga del dataset, siempre que realicemos cambios o no nos funcione el dataset debemos correr todo el codigo (**Cell-> Run All**).\n",
    "</div>\n",
    "\n",
    "\n",
    "<div class=\"alert alert-block alert-success\">\n",
    "\n",
    "<b>Comentario del revisor #2</b> <a class=\"tocSkip\"></a>\n",
    "\n",
    "Corregido.\n",
    "\n",
    "</div>"
   ]
  },
  {
   "cell_type": "markdown",
   "id": "0b890492",
   "metadata": {
    "id": "0b890492"
   },
   "source": [
    "Describe brevemente tus hallazgos y lo que hiciste con ellos."
   ]
  },
  {
   "cell_type": "markdown",
   "id": "6e6c34c8",
   "metadata": {},
   "source": [
    "# MI HALLAZGO\n",
    "\n",
    "Podemos observar que no existen duplicados "
   ]
  },
  {
   "cell_type": "markdown",
   "id": "1e46de76",
   "metadata": {
    "id": "1e46de76"
   },
   "source": [
    "## Encuentra y elimina los valores ausentes\n",
    "\n",
    "Al trabajar con valores duplicados, pudimos observar que también nos falta investigar valores ausentes:\n",
    "\n",
    "* La columna `'product_name'` de la tabla products.\n",
    "* La columna `'days_since_prior_order'` de la tabla orders.\n",
    "* La columna `'add_to_cart_order'` de la tabla order_productos."
   ]
  },
  {
   "cell_type": "markdown",
   "id": "c0aebd78",
   "metadata": {
    "id": "c0aebd78"
   },
   "source": [
    "### `products` data frame"
   ]
  },
  {
   "cell_type": "code",
   "execution_count": 23,
   "id": "fe4a8b0f",
   "metadata": {
    "id": "fe4a8b0f"
   },
   "outputs": [
    {
     "name": "stdout",
     "output_type": "stream",
     "text": [
      "Empty DataFrame\n",
      "Columns: [product_id, product_name, aisle_id, department_id, product_name_upper]\n",
      "Index: []\n"
     ]
    }
   ],
   "source": [
    "# Encuentra los valores ausentes en la columna 'product_name'\n",
    "na_name = products[products['product_name'].isnull()]\n",
    "\n",
    "print(na_name.head(10))"
   ]
  },
  {
   "cell_type": "markdown",
   "id": "5114c0c1",
   "metadata": {},
   "source": [
    "<div class=\"alert alert-block alert-danger\">\n",
    "\n",
    "<b>Comentario del revisor</b> <a class=\"tocSkip\"></a>\n",
    "\n",
    "No importes pandas ya que lo has hecho al principio, no constituye una buena practica hacerla todo el tiempo.\n",
    "Otra cosa que no se debe hacer es cargar nuevamente el dataset(con el read). Ya que estaras todo el tiempo cancelando tu progreso con el mismo, en el momento que lo haces reinicias todos los cambios, por esto es que se carga solo al principio.\n",
    "\n",
    "Cuando hacemos un notebook lo que hacemos al principio se mantiene ejecutado a lo largo de todo el proyecto, por eso realizamos  por etapa el codigo y no todo en una sola celda.\n",
    "\n",
    "Si no estas observando los cambios esto es debido a que se pudo desconectar el notebook y dejar de leer las librerias y la carga del dataset, siempre que realicemos cambios o no nos funcione el dataset debemos correr todo el codigo (**Cell-> Run All**).\n",
    "</div>\n",
    "\n",
    "\n",
    "<div class=\"alert alert-block alert-success\">\n",
    "\n",
    "<b>Comentario del revisor #2</b> <a class=\"tocSkip\"></a>\n",
    "\n",
    "Corregido.\n",
    "\n",
    "</div>"
   ]
  },
  {
   "cell_type": "markdown",
   "id": "-A6x1AbJhjkp",
   "metadata": {
    "id": "-A6x1AbJhjkp"
   },
   "source": [
    "Describe brevemente cuáles son tus hallazgos."
   ]
  },
  {
   "cell_type": "markdown",
   "id": "7d4b1796",
   "metadata": {},
   "source": [
    "# Hallazgo\n",
    "\n",
    "Encontre que las primeras 10 filas de la columna 'product_name' son nulas, para poder hacer esto se tuvo que usar el método isnull()"
   ]
  },
  {
   "cell_type": "code",
   "execution_count": 24,
   "id": "5d9e4877",
   "metadata": {
    "id": "e96167bc"
   },
   "outputs": [
    {
     "name": "stdout",
     "output_type": "stream",
     "text": [
      "Todos los productos sin nombres están en el pasillo 100.\n"
     ]
    }
   ],
   "source": [
    "#  ¿Todos los nombres de productos ausentes están relacionados con el pasillo con ID 100?\n",
    "na_name = products[products['product_name'].isnull()]\n",
    "\n",
    "aisle_100 = (na_name['aisle_id'] == 100).all()\n",
    "\n",
    "if aisle_100:\n",
    "    print(\"Todos los productos sin nombres están en el pasillo 100.\")\n",
    "else:\n",
    "    print(\"Hay productos sin nombre que NO están en el pasillo 100.\")"
   ]
  },
  {
   "cell_type": "markdown",
   "id": "3452b441",
   "metadata": {},
   "source": [
    "<div class=\"alert alert-block alert-danger\">\n",
    "\n",
    "<b>Comentario del revisor</b> <a class=\"tocSkip\"></a>\n",
    "\n",
    "No importes pandas ya que lo has hecho al principio, no constituye una buena practica hacerla todo el tiempo.\n",
    "Otra cosa que no se debe hacer es cargar nuevamente el dataset(con el read). Ya que estaras todo el tiempo cancelando tu progreso con el mismo, en el momento que lo haces reinicias todos los cambios, por esto es que se carga solo al principio.\n",
    "\n",
    "Cuando hacemos un notebook lo que hacemos al principio se mantiene ejecutado a lo largo de todo el proyecto, por eso realizamos  por etapa el codigo y no todo en una sola celda.\n",
    "\n",
    "Si no estas observando los cambios esto es debido a que se pudo desconectar el notebook y dejar de leer las librerias y la carga del dataset, siempre que realicemos cambios o no nos funcione el dataset debemos correr todo el codigo (**Cell-> Run All**).\n",
    "</div>\n",
    "\n",
    "\n",
    "<div class=\"alert alert-block alert-success\">\n",
    "\n",
    "<b>Comentario del revisor #2</b> <a class=\"tocSkip\"></a>\n",
    "\n",
    "Corregido.\n",
    "\n",
    "</div>"
   ]
  },
  {
   "cell_type": "markdown",
   "id": "WRpIfXRphpSL",
   "metadata": {
    "id": "WRpIfXRphpSL"
   },
   "source": [
    "Describe brevemente cuáles son tus hallazgos."
   ]
  },
  {
   "cell_type": "markdown",
   "id": "929f42ab",
   "metadata": {},
   "source": [
    "# Hallazgo 2\n",
    "Podemos ver que al mandar a llamar la columna 'aisle_id' nos arroja que todos los productos SIN nombres se encuentran en ese pasillo.\n",
    "Se utiliza 'if' y 'else' para validar que esto se correcto"
   ]
  },
  {
   "cell_type": "code",
   "execution_count": 25,
   "id": "8fd0a541",
   "metadata": {
    "id": "8fd0a541"
   },
   "outputs": [
    {
     "name": "stdout",
     "output_type": "stream",
     "text": [
      "Todos los productos sin nombres están en el departamento 21.\n"
     ]
    }
   ],
   "source": [
    "# ¿Todos los nombres de productos ausentes están relacionados con el departamento con ID 21?\n",
    "na_name = products[products['product_name'].isnull()]\n",
    "\n",
    "department_21 = (na_name['department_id'] == 21).all()\n",
    "\n",
    "if department_21:\n",
    "    print(\"Todos los productos sin nombres están en el departamento 21.\")\n",
    "else:\n",
    "    print(\"Hay productos sin nombre que NO están en el departamento 21.\")"
   ]
  },
  {
   "cell_type": "markdown",
   "id": "13968bda",
   "metadata": {},
   "source": [
    "<div class=\"alert alert-block alert-danger\">\n",
    "\n",
    "<b>Comentario del revisor</b> <a class=\"tocSkip\"></a>\n",
    "\n",
    "No importes pandas ya que lo has hecho al principio, no constituye una buena practica hacerla todo el tiempo.\n",
    "Otra cosa que no se debe hacer es cargar nuevamente el dataset(con el read). Ya que estaras todo el tiempo cancelando tu progreso con el mismo, en el momento que lo haces reinicias todos los cambios, por esto es que se carga solo al principio.\n",
    "\n",
    "Cuando hacemos un notebook lo que hacemos al principio se mantiene ejecutado a lo largo de todo el proyecto, por eso realizamos  por etapa el codigo y no todo en una sola celda.\n",
    "\n",
    "Si no estas observando los cambios esto es debido a que se pudo desconectar el notebook y dejar de leer las librerias y la carga del dataset, siempre que realicemos cambios o no nos funcione el dataset debemos correr todo el codigo (**Cell-> Run All**).\n",
    "</div>\n",
    "\n",
    "\n",
    "<div class=\"alert alert-block alert-success\">\n",
    "\n",
    "<b>Comentario del revisor #2</b> <a class=\"tocSkip\"></a>\n",
    "\n",
    "Corregido.\n",
    "\n",
    "</div>"
   ]
  },
  {
   "cell_type": "markdown",
   "id": "qDpdYn1Fht_I",
   "metadata": {
    "id": "qDpdYn1Fht_I"
   },
   "source": [
    "Describe brevemente cuáles son tus hallazgos."
   ]
  },
  {
   "cell_type": "markdown",
   "id": "ffc2dc50",
   "metadata": {},
   "source": [
    "# Hallazgo 3\n",
    "Tomamos el mismo código que hicimos en el anterior, la única diferencia será que estaremos mandando a llamar la columna 'department_id'"
   ]
  },
  {
   "cell_type": "code",
   "execution_count": 26,
   "id": "325c3464",
   "metadata": {
    "id": "325c3464"
   },
   "outputs": [
    {
     "name": "stdout",
     "output_type": "stream",
     "text": [
      "\n",
      "Datos del pasillo con ID 100: \n",
      "    aisle_id    aisle aisle_normalizado\n",
      "99       100  missing           missing\n",
      "\n",
      "Datos del departamento con ID 21:\n",
      "    department_id department\n",
      "20             21    missing\n"
     ]
    }
   ],
   "source": [
    "# Usa las tablas department y aisle para revisar los datos del pasillo con ID 100 y el departamento con ID 21.\n",
    "aisle_100 = aisles[aisles['aisle_id'] == 100]\n",
    "print(\"\\nDatos del pasillo con ID 100: \")\n",
    "print(aisle_100)\n",
    "\n",
    "departament_21 = departments[departments['department_id'] == 21]\n",
    "print(\"\\nDatos del departamento con ID 21:\")\n",
    "print(departament_21)"
   ]
  },
  {
   "cell_type": "markdown",
   "id": "8184fcce",
   "metadata": {},
   "source": [
    "<div class=\"alert alert-block alert-danger\">\n",
    "\n",
    "<b>Comentario del revisor</b> <a class=\"tocSkip\"></a>\n",
    "\n",
    "No importes pandas ya que lo has hecho al principio, no constituye una buena practica hacerla todo el tiempo.\n",
    "Otra cosa que no se debe hacer es cargar nuevamente el dataset(con el read). Ya que estaras todo el tiempo cancelando tu progreso con el mismo, en el momento que lo haces reinicias todos los cambios, por esto es que se carga solo al principio.\n",
    "\n",
    "Cuando hacemos un notebook lo que hacemos al principio se mantiene ejecutado a lo largo de todo el proyecto, por eso realizamos  por etapa el codigo y no todo en una sola celda.\n",
    "\n",
    "Si no estas observando los cambios esto es debido a que se pudo desconectar el notebook y dejar de leer las librerias y la carga del dataset, siempre que realicemos cambios o no nos funcione el dataset debemos correr todo el codigo (**Cell-> Run All**).\n",
    "</div>\n",
    "\n",
    "\n",
    "<div class=\"alert alert-block alert-success\">\n",
    "\n",
    "<b>Comentario del revisor #2</b> <a class=\"tocSkip\"></a>\n",
    "\n",
    "Corregido.\n",
    "\n",
    "</div>"
   ]
  },
  {
   "cell_type": "markdown",
   "id": "nqhSTUPhhvEJ",
   "metadata": {
    "id": "nqhSTUPhhvEJ"
   },
   "source": [
    "Describe brevemente cuáles son tus hallazgos."
   ]
  },
  {
   "cell_type": "code",
   "execution_count": 27,
   "id": "6b295120",
   "metadata": {
    "id": "6b295120"
   },
   "outputs": [
    {
     "name": "stdout",
     "output_type": "stream",
     "text": [
      "0\n"
     ]
    }
   ],
   "source": [
    "# Reemplazar valores nulos en 'product_name' por 'Unknown'\n",
    "products['product_name'] = products['product_name'].fillna('Unknown')\n",
    "\n",
    "#Verificar que ya no haya valores nulos\n",
    "print(products['product_name'].isnull().sum())"
   ]
  },
  {
   "cell_type": "markdown",
   "id": "d529d708-b8cf-4bd6-8a3f-9668b12de352",
   "metadata": {},
   "source": [
    "<div class=\"alert alert-block alert-danger\">\n",
    "\n",
    "<b>Comentario del revisor #2</b> <a class=\"tocSkip\"></a>\n",
    "\n",
    "En este caso el dataframe df no existe, utiliza   el dataset correspondiente.\n",
    "\n",
    "</div>\n",
    "\n",
    "\n",
    "<div class=\"alert alert-block alert-danger\">\n",
    "\n",
    "<b>Comentario del revisor #3</b> <a class=\"tocSkip\"></a>\n",
    "\n",
    "Se mantiene la correccion.\n",
    "\n",
    "</div>\n",
    "\n",
    "<div class=\"alert alert-block alert-success\">\n",
    "\n",
    "<b>Comentario del revisor #4</b> <a class=\"tocSkip\"></a>\n",
    "\n",
    "Corregido.\n",
    "\n",
    "</div>"
   ]
  },
  {
   "cell_type": "markdown",
   "id": "c2b683a1",
   "metadata": {},
   "source": [
    "<div class=\"alert alert-block alert-danger\">\n",
    "\n",
    "<b>Comentario del revisor</b> <a class=\"tocSkip\"></a>\n",
    "\n",
    "No importes pandas ya que lo has hecho al principio, no constituye una buena practica hacerla todo el tiempo.\n",
    "Otra cosa que no se debe hacer es cargar nuevamente el dataset(con el read). Ya que estaras todo el tiempo cancelando tu progreso con el mismo, en el momento que lo haces reinicias todos los cambios, por esto es que se carga solo al principio.\n",
    "\n",
    "Cuando hacemos un notebook lo que hacemos al principio se mantiene ejecutado a lo largo de todo el proyecto, por eso realizamos  por etapa el codigo y no todo en una sola celda.\n",
    "\n",
    "Si no estas observando los cambios esto es debido a que se pudo desconectar el notebook y dejar de leer las librerias y la carga del dataset, siempre que realicemos cambios o no nos funcione el dataset debemos correr todo el codigo (**Cell-> Run All**).\n",
    "</div>\n",
    "\n",
    "\n",
    "<div class=\"alert alert-block alert-success\">\n",
    "\n",
    "<b>Comentario del revisor #2</b> <a class=\"tocSkip\"></a>\n",
    "\n",
    "Corregido.\n",
    "\n",
    "</div>"
   ]
  },
  {
   "cell_type": "markdown",
   "id": "fc70e5ad",
   "metadata": {
    "id": "fc70e5ad"
   },
   "source": [
    "Describe brevemente tus hallazgos y lo que hiciste con ellos."
   ]
  },
  {
   "cell_type": "markdown",
   "id": "c85e687c-5473-4a39-a79b-81197df63577",
   "metadata": {},
   "source": [
    "\n",
    "<div class=\"alert alert-block alert-success\">\n",
    "\n",
    "<b>Comentario del revisor #2</b> <a class=\"tocSkip\"></a>\n",
    "\n",
    "Muy bien encontrado el patron de estos nulos.\n",
    "</div>"
   ]
  },
  {
   "cell_type": "markdown",
   "id": "7eb45c86",
   "metadata": {
    "id": "7eb45c86"
   },
   "source": [
    "### `orders` data frame"
   ]
  },
  {
   "cell_type": "code",
   "execution_count": 28,
   "id": "93e41d96",
   "metadata": {
    "id": "93e41d96"
   },
   "outputs": [
    {
     "name": "stdout",
     "output_type": "stream",
     "text": [
      "order_id                      0\n",
      "user_id                       0\n",
      "order_number                  0\n",
      "order_dow                     0\n",
      "order_hour_of_day             0\n",
      "days_since_prior_order    28819\n",
      "dtype: int64\n"
     ]
    }
   ],
   "source": [
    "# Encontrar cuántos valores ausentes hay en cada columna\n",
    "missing_values = orders.isnull().sum()\n",
    "\n",
    "# Mostrar los valores ausentes\n",
    "print(missing_values)"
   ]
  },
  {
   "cell_type": "markdown",
   "id": "ab0e240b",
   "metadata": {},
   "source": [
    "<div class=\"alert alert-block alert-danger\">\n",
    "\n",
    "<b>Comentario del revisor</b> <a class=\"tocSkip\"></a>\n",
    "\n",
    "No importes pandas ya que lo has hecho al principio, no constituye una buena practica hacerla todo el tiempo.\n",
    "Otra cosa que no se debe hacer es cargar nuevamente el dataset(con el read). Ya que estaras todo el tiempo cancelando tu progreso con el mismo, en el momento que lo haces reinicias todos los cambios, por esto es que se carga solo al principio.\n",
    "\n",
    "Cuando hacemos un notebook lo que hacemos al principio se mantiene ejecutado a lo largo de todo el proyecto, por eso realizamos  por etapa el codigo y no todo en una sola celda.\n",
    "\n",
    "Si no estas observando los cambios esto es debido a que se pudo desconectar el notebook y dejar de leer las librerias y la carga del dataset, siempre que realicemos cambios o no nos funcione el dataset debemos correr todo el codigo (**Cell-> Run All**).\n",
    "</div>\n",
    "\n",
    "\n",
    "<div class=\"alert alert-block alert-success\">\n",
    "\n",
    "<b>Comentario del revisor #2</b> <a class=\"tocSkip\"></a>\n",
    "\n",
    "Corregido.\n",
    "\n",
    "</div>"
   ]
  },
  {
   "cell_type": "code",
   "execution_count": 29,
   "id": "166e5a86",
   "metadata": {
    "id": "166e5a86"
   },
   "outputs": [
    {
     "name": "stdout",
     "output_type": "stream",
     "text": [
      "Empty DataFrame\n",
      "Columns: [order_id, user_id, order_number, order_dow, order_hour_of_day, days_since_prior_order]\n",
      "Index: []\n"
     ]
    }
   ],
   "source": [
    "# ¿Hay algún valor ausente que no sea el primer pedido del cliente?\n",
    "# Filtrar filas con valores nulos que no sean del primer pedido\n",
    "missing_not_first = orders[orders.isnull().any(axis=1) & (orders['order_number'] != 1)]\n",
    "\n",
    "# Mostrar las filas encontradas\n",
    "print(missing_not_first)"
   ]
  },
  {
   "cell_type": "markdown",
   "id": "a46d8bf8-eebf-43c3-aa95-95a56440dc16",
   "metadata": {},
   "source": [
    "<div class=\"alert alert-block alert-danger\">\n",
    "\n",
    "<b>Comentario del revisor #2</b> <a class=\"tocSkip\"></a>\n",
    "\n",
    "En este caso el dataframe df no existe, utiliza   el dataset correspondiente.\n",
    "\n",
    "</div>"
   ]
  },
  {
   "cell_type": "markdown",
   "id": "c15f8a03",
   "metadata": {},
   "source": [
    "<div class=\"alert alert-block alert-danger\">\n",
    "\n",
    "<b>Comentario del revisor</b> <a class=\"tocSkip\"></a>\n",
    "\n",
    "No importes pandas ya que lo has hecho al principio, no constituye una buena practica hacerla todo el tiempo.\n",
    "Otra cosa que no se debe hacer es cargar nuevamente el dataset(con el read). Ya que estaras todo el tiempo cancelando tu progreso con el mismo, en el momento que lo haces reinicias todos los cambios, por esto es que se carga solo al principio.\n",
    "\n",
    "Cuando hacemos un notebook lo que hacemos al principio se mantiene ejecutado a lo largo de todo el proyecto, por eso realizamos  por etapa el codigo y no todo en una sola celda.\n",
    "\n",
    "Si no estas observando los cambios esto es debido a que se pudo desconectar el notebook y dejar de leer las librerias y la carga del dataset, siempre que realicemos cambios o no nos funcione el dataset debemos correr todo el codigo (**Cell-> Run All**).\n",
    "</div>\n",
    "\n",
    "\n",
    "<div class=\"alert alert-block alert-success\">\n",
    "\n",
    "<b>Comentario del revisor #2</b> <a class=\"tocSkip\"></a>\n",
    "\n",
    "Corregido.\n",
    "\n",
    "</div>"
   ]
  },
  {
   "cell_type": "markdown",
   "id": "4e23d089",
   "metadata": {
    "id": "4e23d089"
   },
   "source": [
    "Describe brevemente tus hallazgos y lo que hiciste con ellos."
   ]
  },
  {
   "cell_type": "markdown",
   "id": "5cf9646f",
   "metadata": {},
   "source": [
    "# Mi hallazgo\n",
    "\n",
    "Se puede validar que en el ejercicio número dos filtramos las filas con los valores nulos que no sean el primer pedido y observamos que no existe ningún valor nulo fuera del pedido uno. Es decir, todos se encuentran en ese pedido"
   ]
  },
  {
   "cell_type": "markdown",
   "id": "9e2de5fc-faa0-4b53-a6ee-80de1d9fde35",
   "metadata": {},
   "source": [
    "\n",
    "<div class=\"alert alert-block alert-success\">\n",
    "\n",
    "<b>Comentario del revisor #2</b> <a class=\"tocSkip\"></a>\n",
    "\n",
    "Perfecto entendiendo los nulos de este dataset.\n",
    "    \n",
    "</div>"
   ]
  },
  {
   "cell_type": "markdown",
   "id": "69dc9ca4",
   "metadata": {
    "id": "69dc9ca4"
   },
   "source": [
    "### `order_products` data frame"
   ]
  },
  {
   "cell_type": "code",
   "execution_count": 30,
   "id": "b8240253",
   "metadata": {
    "id": "b8240253"
   },
   "outputs": [
    {
     "name": "stdout",
     "output_type": "stream",
     "text": [
      "order_id               0\n",
      "product_id             0\n",
      "add_to_cart_order    836\n",
      "reordered              0\n",
      "dtype: int64\n"
     ]
    }
   ],
   "source": [
    "# Encuentra los valores ausentes\n",
    "missing_values = orders_products.isnull().sum()\n",
    "\n",
    "print(missing_values)"
   ]
  },
  {
   "cell_type": "markdown",
   "id": "d9dabc5f",
   "metadata": {},
   "source": [
    "<div class=\"alert alert-block alert-danger\">\n",
    "\n",
    "<b>Comentario del revisor</b> <a class=\"tocSkip\"></a>\n",
    "\n",
    "No importes pandas ya que lo has hecho al principio, no constituye una buena practica hacerla todo el tiempo.\n",
    "Otra cosa que no se debe hacer es cargar nuevamente el dataset(con el read). Ya que estaras todo el tiempo cancelando tu progreso con el mismo, en el momento que lo haces reinicias todos los cambios, por esto es que se carga solo al principio.\n",
    "\n",
    "Cuando hacemos un notebook lo que hacemos al principio se mantiene ejecutado a lo largo de todo el proyecto, por eso realizamos  por etapa el codigo y no todo en una sola celda.\n",
    "\n",
    "Si no estas observando los cambios esto es debido a que se pudo desconectar el notebook y dejar de leer las librerias y la carga del dataset, siempre que realicemos cambios o no nos funcione el dataset debemos correr todo el codigo (**Cell-> Run All**).\n",
    "</div>\n",
    "\n",
    "\n",
    "<div class=\"alert alert-block alert-success\">\n",
    "\n",
    "<b>Comentario del revisor #2</b> <a class=\"tocSkip\"></a>\n",
    "\n",
    "Corregido.\n",
    "\n",
    "</div>"
   ]
  },
  {
   "cell_type": "code",
   "execution_count": 31,
   "id": "9a78e5ee",
   "metadata": {
    "id": "9a78e5ee"
   },
   "outputs": [
    {
     "name": "stdout",
     "output_type": "stream",
     "text": [
      "Valor minimo:  1.0\n",
      "Valor maximo:  64.0\n"
     ]
    }
   ],
   "source": [
    "# ¿Cuáles son los valores mínimos y máximos en esta columna?\n",
    "print(\"Valor minimo: \", orders_products['add_to_cart_order'].min())\n",
    "print(\"Valor maximo: \", orders_products['add_to_cart_order'].max())"
   ]
  },
  {
   "cell_type": "markdown",
   "id": "66ce57f8",
   "metadata": {},
   "source": [
    "<div class=\"alert alert-block alert-danger\">\n",
    "\n",
    "<b>Comentario del revisor</b> <a class=\"tocSkip\"></a>\n",
    "\n",
    "No importes pandas ya que lo has hecho al principio, no constituye una buena practica hacerla todo el tiempo.\n",
    "Otra cosa que no se debe hacer es cargar nuevamente el dataset(con el read). Ya que estaras todo el tiempo cancelando tu progreso con el mismo, en el momento que lo haces reinicias todos los cambios, por esto es que se carga solo al principio.\n",
    "\n",
    "Cuando hacemos un notebook lo que hacemos al principio se mantiene ejecutado a lo largo de todo el proyecto, por eso realizamos  por etapa el codigo y no todo en una sola celda.\n",
    "\n",
    "Si no estas observando los cambios esto es debido a que se pudo desconectar el notebook y dejar de leer las librerias y la carga del dataset, siempre que realicemos cambios o no nos funcione el dataset debemos correr todo el codigo (**Cell-> Run All**).\n",
    "</div>\n",
    "\n",
    "\n",
    "<div class=\"alert alert-block alert-success\">\n",
    "\n",
    "<b>Comentario del revisor #2</b> <a class=\"tocSkip\"></a>\n",
    "\n",
    "Corregido.\n",
    "\n",
    "</div>"
   ]
  },
  {
   "cell_type": "markdown",
   "id": "-Z2Ja215jW78",
   "metadata": {
    "id": "-Z2Ja215jW78"
   },
   "source": [
    "Describe brevemente cuáles son tus hallazgos."
   ]
  },
  {
   "cell_type": "markdown",
   "id": "d25c89f2",
   "metadata": {},
   "source": [
    "# Mi hallazgo\n",
    "\n",
    "Podemos observar que al momento de encontrar valores ausentes tenemos que la columan \"add_to_cart_order\" cuenta con 836 valores ausentes y un máximo de 64 con un minimo de 1"
   ]
  },
  {
   "cell_type": "code",
   "execution_count": 32,
   "id": "ab9d0c2b",
   "metadata": {
    "id": "ab9d0c2b"
   },
   "outputs": [
    {
     "name": "stdout",
     "output_type": "stream",
     "text": [
      "737        2449164\n",
      "9926       1968313\n",
      "14394      2926893\n",
      "16418      1717990\n",
      "30114      1959075\n",
      "            ...   \n",
      "4505662    1800005\n",
      "4511400    1633337\n",
      "4517562     404157\n",
      "4534112    1673227\n",
      "4535739    1832957\n",
      "Name: order_id, Length: 836, dtype: int64\n"
     ]
    }
   ],
   "source": [
    "# Guarda todas las IDs de pedidos que tengan un valor ausente en 'add_to_cart_order'\n",
    "# Filtrar las filas con valor ausente en 'add_to_cart_order'\n",
    "missing_orders = orders_products[orders_products['add_to_cart_order'].isnull()]\n",
    "\n",
    "# Obtener las IDs de pedido\n",
    "order_ids_with_missing = missing_orders['order_id']\n",
    "\n",
    "# Mostrar las IDs\n",
    "print(order_ids_with_missing)\n"
   ]
  },
  {
   "cell_type": "markdown",
   "id": "bf4f15e9",
   "metadata": {},
   "source": [
    "<div class=\"alert alert-block alert-danger\">\n",
    "\n",
    "<b>Comentario del revisor</b> <a class=\"tocSkip\"></a>\n",
    "\n",
    "No importes pandas ya que lo has hecho al principio, no constituye una buena practica hacerla todo el tiempo.\n",
    "Otra cosa que no se debe hacer es cargar nuevamente el dataset(con el read). Ya que estaras todo el tiempo cancelando tu progreso con el mismo, en el momento que lo haces reinicias todos los cambios, por esto es que se carga solo al principio.\n",
    "\n",
    "Cuando hacemos un notebook lo que hacemos al principio se mantiene ejecutado a lo largo de todo el proyecto, por eso realizamos  por etapa el codigo y no todo en una sola celda.\n",
    "\n",
    "Si no estas observando los cambios esto es debido a que se pudo desconectar el notebook y dejar de leer las librerias y la carga del dataset, siempre que realicemos cambios o no nos funcione el dataset debemos correr todo el codigo (**Cell-> Run All**).\n",
    "</div>\n",
    "\n",
    "\n",
    "<div class=\"alert alert-block alert-success\">\n",
    "\n",
    "<b>Comentario del revisor #2</b> <a class=\"tocSkip\"></a>\n",
    "\n",
    "Corregido.\n",
    "\n",
    "</div>"
   ]
  },
  {
   "cell_type": "code",
   "execution_count": 33,
   "id": "54c31695",
   "metadata": {
    "id": "54c31695"
   },
   "outputs": [
    {
     "name": "stdout",
     "output_type": "stream",
     "text": [
      "Cantidad mínima de productos en pedidos con datos ausentes: 1\n"
     ]
    }
   ],
   "source": [
    "# ¿Todos los pedidos con valores ausentes tienen más de 64 productos?\n",
    "# Agrupa todos los pedidos con datos ausentes por su ID de pedido.\n",
    "# Cuenta el número de 'product_id' en cada pedido y revisa el valor mínimo del conteo.\n",
    "# Filtrar las filas con valor ausente en 'add_to_cart_order'\n",
    "missing_orders = orders_products[orders_products['add_to_cart_order'].isnull()]\n",
    "\n",
    "# Agrupar por 'order_id' y contar cuántos 'product_id' hay por pedido\n",
    "product_counts = missing_orders.groupby('order_id')['product_id'].count()\n",
    "\n",
    "# Mostrar el valor mínimo del conteo\n",
    "print(\"Cantidad mínima de productos en pedidos con datos ausentes:\", product_counts.min())"
   ]
  },
  {
   "cell_type": "markdown",
   "id": "be5c3872",
   "metadata": {},
   "source": [
    "<div class=\"alert alert-block alert-danger\">\n",
    "\n",
    "<b>Comentario del revisor</b> <a class=\"tocSkip\"></a>\n",
    "\n",
    "No importes pandas ya que lo has hecho al principio, no constituye una buena practica hacerla todo el tiempo.\n",
    "Otra cosa que no se debe hacer es cargar nuevamente el dataset(con el read). Ya que estaras todo el tiempo cancelando tu progreso con el mismo, en el momento que lo haces reinicias todos los cambios, por esto es que se carga solo al principio.\n",
    "\n",
    "Cuando hacemos un notebook lo que hacemos al principio se mantiene ejecutado a lo largo de todo el proyecto, por eso realizamos  por etapa el codigo y no todo en una sola celda.\n",
    "\n",
    "Si no estas observando los cambios esto es debido a que se pudo desconectar el notebook y dejar de leer las librerias y la carga del dataset, siempre que realicemos cambios o no nos funcione el dataset debemos correr todo el codigo (**Cell-> Run All**).\n",
    "</div>\n",
    "\n",
    "\n",
    "<div class=\"alert alert-block alert-success\">\n",
    "\n",
    "<b>Comentario del revisor #2</b> <a class=\"tocSkip\"></a>\n",
    "\n",
    "Corregido.\n",
    "\n",
    "</div>"
   ]
  },
  {
   "cell_type": "markdown",
   "id": "p9V6pddtjglj",
   "metadata": {
    "id": "p9V6pddtjglj"
   },
   "source": [
    "Describe brevemente cuáles son tus hallazgos."
   ]
  },
  {
   "cell_type": "markdown",
   "id": "ecbce1e5",
   "metadata": {},
   "source": [
    "# Mi hallazgo"
   ]
  },
  {
   "cell_type": "code",
   "execution_count": 34,
   "id": "7a987d08",
   "metadata": {
    "id": "7a987d08"
   },
   "outputs": [
    {
     "name": "stdout",
     "output_type": "stream",
     "text": [
      "0    17\n",
      "1     1\n",
      "2     1\n",
      "3    35\n",
      "4     5\n",
      "Name: add_to_cart_order, dtype: int64\n"
     ]
    }
   ],
   "source": [
    "# Remplaza los valores ausentes en la columna 'add_to_cart? con 999 y convierte la columna al tipo entero.\n",
    "# Reemplazar valores ausentes con 999\n",
    "orders_products['add_to_cart_order'] = orders_products['add_to_cart_order'].fillna(999)\n",
    "\n",
    "# Convertir la columna al tipo entero\n",
    "orders_products['add_to_cart_order'] = orders_products['add_to_cart_order'].astype(int)\n",
    "\n",
    "# Verificamos que se aplicó correctamente\n",
    "print(orders_products['add_to_cart_order'].head())"
   ]
  },
  {
   "cell_type": "markdown",
   "id": "dc2e1dd7",
   "metadata": {},
   "source": [
    "<div class=\"alert alert-block alert-danger\">\n",
    "\n",
    "<b>Comentario del revisor</b> <a class=\"tocSkip\"></a>\n",
    "\n",
    "No importes pandas ya que lo has hecho al principio, no constituye una buena practica hacerla todo el tiempo.\n",
    "Otra cosa que no se debe hacer es cargar nuevamente el dataset(con el read). Ya que estaras todo el tiempo cancelando tu progreso con el mismo, en el momento que lo haces reinicias todos los cambios, por esto es que se carga solo al principio.\n",
    "\n",
    "Cuando hacemos un notebook lo que hacemos al principio se mantiene ejecutado a lo largo de todo el proyecto, por eso realizamos  por etapa el codigo y no todo en una sola celda.\n",
    "\n",
    "Si no estas observando los cambios esto es debido a que se pudo desconectar el notebook y dejar de leer las librerias y la carga del dataset, siempre que realicemos cambios o no nos funcione el dataset debemos correr todo el codigo (**Cell-> Run All**).\n",
    "</div>\n",
    "\n",
    "\n",
    "<div class=\"alert alert-block alert-success\">\n",
    "\n",
    "<b>Comentario del revisor #2</b> <a class=\"tocSkip\"></a>\n",
    "\n",
    "Corregido.\n",
    "\n",
    "</div>"
   ]
  },
  {
   "cell_type": "markdown",
   "id": "fea4bcc7",
   "metadata": {
    "id": "fea4bcc7"
   },
   "source": [
    "Describe brevemente tus hallazgos y lo que hiciste con ellos."
   ]
  },
  {
   "cell_type": "markdown",
   "id": "4e9352d7",
   "metadata": {},
   "source": [
    "# Mi hallazgo\n",
    "\n",
    "Al analizar la columna 'add_to_cart_order' del archivo order_products.csv, se identificaron valores ausentes únicamente en pedidos con más de 64 productos. Estos valores fueron reemplazados por 999, y la columna fue convertida al tipo entero para facilitar futuros análisis. Esto sugiere que los valores nulos podrían deberse a errores de registro en pedidos de gran tamaño."
   ]
  },
  {
   "cell_type": "markdown",
   "id": "RnplPFY1gSrb",
   "metadata": {
    "id": "RnplPFY1gSrb"
   },
   "source": [
    "## Conclusiones\n",
    "\n",
    "Escribe aquí tus conclusiones intermedias sobre el Paso 2. Preprocesamiento de los datos\n"
   ]
  },
  {
   "cell_type": "markdown",
   "id": "UjrOIwTcz3ri",
   "metadata": {
    "id": "UjrOIwTcz3ri"
   },
   "source": [
    "# Paso 3. Análisis de los datos\n",
    "\n",
    "Una vez los datos estén procesados y listos, haz el siguiente análisis:"
   ]
  },
  {
   "cell_type": "markdown",
   "id": "turkish-kidney",
   "metadata": {
    "id": "turkish-kidney"
   },
   "source": [
    "# [A] Fácil (deben completarse todos para aprobar)\n",
    "\n",
    "1. Verifica que los valores en las columnas `'order_hour_of_day'` y `'order_dow'` en la tabla orders sean razonables (es decir, `'order_hour_of_day'` oscile entre 0 y 23 y `'order_dow'` oscile entre 0 y 6).\n",
    "2. Crea un gráfico que muestre el número de personas que hacen pedidos dependiendo de la hora del día.\n",
    "3. Crea un gráfico que muestre qué día de la semana la gente hace sus compras.\n",
    "4. Crea un gráfico que muestre el tiempo que la gente espera hasta hacer su siguiente pedido, y comenta sobre los valores mínimos y máximos."
   ]
  },
  {
   "cell_type": "markdown",
   "id": "short-capability",
   "metadata": {
    "id": "short-capability"
   },
   "source": [
    "### [A1] Verifica que los valores sean sensibles"
   ]
  },
  {
   "cell_type": "code",
   "execution_count": 35,
   "id": "growing-fruit",
   "metadata": {
    "id": "growing-fruit"
   },
   "outputs": [
    {
     "name": "stdout",
     "output_type": "stream",
     "text": [
      "Valores únicos en 'order_hour_of_day':  [0, 1, 2, 3, 4, 5, 6, 7, 8, 9, 10, 11, 12, 13, 14, 15, 16, 17, 18, 19, 20, 21, 22, 23]\n"
     ]
    }
   ],
   "source": [
    "# Mostrar valores únicos en 'order_hour_of_day'\n",
    "print(\"Valores únicos en 'order_hour_of_day': \", sorted(orders['order_hour_of_day'].unique()))"
   ]
  },
  {
   "cell_type": "markdown",
   "id": "64160b6d",
   "metadata": {},
   "source": [
    "<div class=\"alert alert-block alert-danger\">\n",
    "\n",
    "<b>Comentario del revisor</b> <a class=\"tocSkip\"></a>\n",
    "\n",
    "No importes pandas ya que lo has hecho al principio, no constituye una buena practica hacerla todo el tiempo.\n",
    "Otra cosa que no se debe hacer es cargar nuevamente el dataset(con el read). Ya que estaras todo el tiempo cancelando tu progreso con el mismo, en el momento que lo haces reinicias todos los cambios, por esto es que se carga solo al principio.\n",
    "\n",
    "Cuando hacemos un notebook lo que hacemos al principio se mantiene ejecutado a lo largo de todo el proyecto, por eso realizamos  por etapa el codigo y no todo en una sola celda.\n",
    "\n",
    "Si no estas observando los cambios esto es debido a que se pudo desconectar el notebook y dejar de leer las librerias y la carga del dataset, siempre que realicemos cambios o no nos funcione el dataset debemos correr todo el codigo (**Cell-> Run All**).\n",
    "</div>\n",
    "\n",
    "<div class=\"alert alert-block alert-danger\">\n",
    "\n",
    "<b>Comentario del revisor #2</b> <a class=\"tocSkip\"></a>\n",
    "\n",
    "\n",
    "Se mantiene la correccion.\n",
    "\n",
    "\n",
    "</div>\n",
    "\n",
    "\n",
    "<div class=\"alert alert-block alert-success\">\n",
    "\n",
    "<b>Comentario del revisor #2</b> <a class=\"tocSkip\"></a>\n",
    "\n",
    "Corregido.\n",
    "\n",
    "</div>\n"
   ]
  },
  {
   "cell_type": "code",
   "execution_count": 36,
   "id": "accessory-malaysia",
   "metadata": {
    "id": "accessory-malaysia"
   },
   "outputs": [
    {
     "name": "stdout",
     "output_type": "stream",
     "text": [
      "Valores únicos en 'order_dow':  [0, 1, 2, 3, 4, 5, 6]\n"
     ]
    }
   ],
   "source": [
    "# Mostrar valores únicos en 'order_dow'\n",
    "print(\"Valores únicos en 'order_dow': \", sorted(orders['order_dow'].unique()))"
   ]
  },
  {
   "cell_type": "markdown",
   "id": "7d59fa91",
   "metadata": {},
   "source": [
    "<div class=\"alert alert-block alert-danger\">\n",
    "\n",
    "<b>Comentario del revisor</b> <a class=\"tocSkip\"></a>\n",
    "\n",
    "No cargues nuevamente el dataset(con el read). Ya que estaras todo el tiempo cancelando tu progreso con el mismo, en el momento que lo haces reinicias todos los cambios, por esto es que se carga solo al principio.\n",
    "\n",
    "Cuando hacemos un notebook lo que hacemos al principio se mantiene ejecutado a lo largo de todo el proyecto, por eso realizamos  por etapa el codigo y no todo en una sola celda.\n",
    "\n",
    "Si no estas observando los cambios esto es debido a que se pudo desconectar el notebook y dejar de leer las librerias y la carga del dataset, siempre que realicemos cambios o no nos funcione el dataset debemos correr todo el codigo (**Cell-> Run All**).\n",
    "</div>\n",
    "\n",
    "<div class=\"alert alert-block alert-danger\">\n",
    "\n",
    "<b>Comentario del revisor #2</b> <a class=\"tocSkip\"></a>\n",
    "\n",
    "\n",
    "Se mantiene la correccion.\n",
    "\n",
    "\n",
    "</div>\n",
    "<div class=\"alert alert-block alert-success\">\n",
    "\n",
    "<b>Comentario del revisor #2</b> <a class=\"tocSkip\"></a>\n",
    "\n",
    "Corregido.\n",
    "\n",
    "</div>"
   ]
  },
  {
   "cell_type": "markdown",
   "id": "hmR2GNQ6lCsX",
   "metadata": {
    "id": "hmR2GNQ6lCsX"
   },
   "source": [
    "Escribe aquí tus conclusiones"
   ]
  },
  {
   "cell_type": "markdown",
   "id": "892e572c-df2b-44d0-ad35-4e62ccd84839",
   "metadata": {},
   "source": [
    "<div class=\"alert alert-block alert-danger\">\n",
    "\n",
    "<b>Comentario del revisor #4</b> <a class=\"tocSkip\"></a>\n",
    "\n",
    "Recorda dejar tus conclusiones sobre esta extracción, podes comentar acerca de lo donde se produce el común de los resultados.</div>\n",
    "\n",
    "<div class=\"alert alert-block alert-success\">\n",
    "\n",
    "<b>Comentario del revisor #5</b> <a class=\"tocSkip\"></a>\n",
    "\n",
    "Corregido, muy bien.\n",
    "\n",
    "</div>"
   ]
  },
  {
   "cell_type": "markdown",
   "id": "d7470738-16d4-4a74-acd7-8350f1d25903",
   "metadata": {},
   "source": [
    "### Conclusiones\n",
    "La columna 'order_dow' contiene valores del 0 al 6, lo que indica que hay pedidos registrados todos los días de la semana."
   ]
  },
  {
   "cell_type": "markdown",
   "id": "a6743a70",
   "metadata": {
    "id": "a6743a70"
   },
   "source": [
    "### [A2] Para cada hora del día, ¿cuántas personas hacen órdenes?"
   ]
  },
  {
   "cell_type": "code",
   "execution_count": 37,
   "id": "a36cca27",
   "metadata": {
    "id": "a36cca27"
   },
   "outputs": [
    {
     "data": {
      "image/png": "[encoded data removed]",
      "text/plain": [
       "<Figure size 640x480 with 1 Axes>"
      ]
     },
     "metadata": {},
     "output_type": "display_data"
    }
   ],
   "source": [
    "\n",
    "# Cargar el dataset\n",
    "\n",
    "# Agrupar por 'order_hour_of_day' y contar cuántas órdenes hay por hora\n",
    "order_counts = orders['order_hour_of_day'].value_counts().sort_index()\n",
    "\n",
    "# Graficar los conteos\n",
    "order_counts.plot(kind='bar',\n",
    "    title='Para cada hora del día, ¿cuántas personas hacen órdenes?',\n",
    "    xlabel='Hora del día',\n",
    "    ylabel='Cantidad de órdenes')\n",
    "\n",
    "plt.show()\n"
   ]
  },
  {
   "cell_type": "markdown",
   "id": "b8b23354",
   "metadata": {},
   "source": [
    "<div class=\"alert alert-block alert-danger\">\n",
    "\n",
    "<b>Comentario del revisor</b> <a class=\"tocSkip\"></a>\n",
    "\n",
    "En este caso el notebook se rompe debido a que queres graficar todo el dataset sin enmascarar lo que hace saturar el kernel. (`478967`  barras)\n",
    "\n",
    "Asi, aqui deberias crear una nueva variable que contenga un **conteo de valores** de la columna `order_hour_of_day` y sobre esa variable si graficar el barplot.</div>\n",
    "<div class=\"alert alert-block alert-success\">\n",
    "\n",
    "<b>Comentario del revisor #2</b> <a class=\"tocSkip\"></a>\n",
    "\n",
    "Corregido, muy buen grafico..\n",
    "\n",
    "</div>"
   ]
  },
  {
   "cell_type": "markdown",
   "id": "65b3297b",
   "metadata": {},
   "source": [
    "<div class=\"alert alert-block alert-danger\">\n",
    "\n",
    "<b>Comentario del revisor</b> <a class=\"tocSkip\"></a>\n",
    "\n",
    "No importes pandas ya que lo has hecho al principio, no constituye una buena practica hacerla todo el tiempo.\n",
    "Otra cosa que no se debe hacer es cargar nuevamente el dataset(con el read). Ya que estaras todo el tiempo cancelando tu progreso con el mismo, en el momento que lo haces reinicias todos los cambios, por esto es que se carga solo al principio.\n",
    "\n",
    "Cuando hacemos un notebook lo que hacemos al principio se mantiene ejecutado a lo largo de todo el proyecto, por eso realizamos  por etapa el codigo y no todo en una sola celda.\n",
    "\n",
    "Si no estas observando los cambios esto es debido a que se pudo desconectar el notebook y dejar de leer las librerias y la carga del dataset, siempre que realicemos cambios o no nos funcione el dataset debemos correr todo el codigo (**Cell-> Run All**).\n",
    "</div>\n",
    "\n",
    "<div class=\"alert alert-block alert-danger\">\n",
    "\n",
    "<b>Comentario del revisor #2</b> <a class=\"tocSkip\"></a>\n",
    "\n",
    "\n",
    "Se mantiene la correccion.\n",
    "\n",
    "\n",
    "</div>\n",
    "<div class=\"alert alert-block alert-danger\">\n",
    "\n",
    "<b>Comentario del revisor #4</b> <a class=\"tocSkip\"></a>\n",
    "\n",
    "Corregiste  muy bien ese punto pero no importes nuevamente `matplotlib`.\n",
    "</div>\n",
    "\n",
    "<div class=\"alert alert-block alert-success\">\n",
    "\n",
    "<b>Comentario del revisor #5</b> <a class=\"tocSkip\"></a>\n",
    "\n",
    "Corregido.\n",
    "\n",
    "</div>"
   ]
  },
  {
   "cell_type": "markdown",
   "id": "11270eed",
   "metadata": {
    "id": "11270eed"
   },
   "source": [
    "Escribe aquí tus conclusiones"
   ]
  },
  {
   "cell_type": "markdown",
   "id": "d95b6378-f8a2-420a-9fbc-f9044c151110",
   "metadata": {},
   "source": [
    "<div class=\"alert alert-block alert-danger\">\n",
    "\n",
    "<b>Comentario del revisor #4</b> <a class=\"tocSkip\"></a>\n",
    "\n",
    "Recorda dejar tus conclusiones sobre esta extracción, podes comentar acerca de lo donde se produce el común de los resultados.</div>\n",
    "\n",
    "<div class=\"alert alert-block alert-success\">\n",
    "\n",
    "<b>Comentario del revisor #5</b> <a class=\"tocSkip\"></a>\n",
    "\n",
    "Corregido.\n",
    "\n",
    "</div>"
   ]
  },
  {
   "cell_type": "markdown",
   "id": "b06d971d-4338-4b60-b725-b2c8db7e00f4",
   "metadata": {},
   "source": [
    "# Mis conclusiones\n",
    "Como podemos ver hay una gran diferencia de cantidades de ordenes de 0 a 6 horas y un aumento demasiado grande de 9 a 18 horas, después de eso observo que va disminuyendo mientras va pasando el día"
   ]
  },
  {
   "cell_type": "markdown",
   "id": "documented-command",
   "metadata": {
    "id": "documented-command"
   },
   "source": [
    "### [A3] ¿Qué día de la semana compran víveres las personas?"
   ]
  },
  {
   "cell_type": "code",
   "execution_count": 38,
   "id": "chief-digit",
   "metadata": {
    "id": "chief-digit"
   },
   "outputs": [
    {
     "data": {
      "image/png": "[encoded data removed]",
      "text/plain": [
       "<Figure size 640x480 with 1 Axes>"
      ]
     },
     "metadata": {},
     "output_type": "display_data"
    }
   ],
   "source": [
    "# Cargar el dataset\n",
    "# Agrupar por 'order_hour_of_day' y contar cuántas órdenes hay por hora\n",
    "order_counts = orders['order_dow'].value_counts().sort_index()\n",
    "\n",
    "# Graficar los conteos\n",
    "order_counts.plot(kind='bar',\n",
    "    title='¿Qué día de la semana compran víveres las personas?',\n",
    "    xlabel='Dias de la semana',\n",
    "    ylabel='Cantidad de víveres vendidos')\n",
    "\n",
    "plt.show()"
   ]
  },
  {
   "cell_type": "markdown",
   "id": "dominant-lightning",
   "metadata": {
    "id": "dominant-lightning"
   },
   "source": [
    "Escribe aquí tus conclusiones"
   ]
  },
  {
   "cell_type": "markdown",
   "id": "985c0307-af7a-454f-b541-ef32ab361dfd",
   "metadata": {},
   "source": [
    "# Conclusión\n",
    "Podemos observar que el día de la semana que más víveres compran las personas es el domingo y el lunes, ya que son los días con mas cantidad de víveres vendidos"
   ]
  },
  {
   "cell_type": "markdown",
   "id": "85920ea0-3a7f-420c-83fb-5a4e54ad4e76",
   "metadata": {},
   "source": [
    "<div class=\"alert alert-block alert-success\">\n",
    "\n",
    "<b>Comentario del revisor #4</b> <a class=\"tocSkip\"></a>\n",
    "\n",
    "Buen grafico\n",
    "</div>"
   ]
  },
  {
   "cell_type": "markdown",
   "id": "cutting-concert",
   "metadata": {
    "id": "cutting-concert"
   },
   "source": [
    "### [A4] ¿Cuánto tiempo esperan las personas hasta hacer otro pedido? Comenta sobre los valores mínimos y máximos."
   ]
  },
  {
   "cell_type": "code",
   "execution_count": 39,
   "id": "c231f523",
   "metadata": {
    "id": "c231f523"
   },
   "outputs": [
    {
     "data": {
      "image/png": "[encoded data removed]",
      "text/plain": [
       "<Figure size 1000x500 with 1 Axes>"
      ]
     },
     "metadata": {},
     "output_type": "display_data"
    }
   ],
   "source": [
    "# Eliminar valores nulos (el primer pedido de cada usuario no tiene valor)\n",
    "days_between_orders = orders['days_since_prior_order'].dropna()\n",
    "\n",
    "# Crear histograma\n",
    "plt.figure(figsize=(10, 5))\n",
    "plt.hist(days_between_orders, bins=range(0, 32), edgecolor='black', align='left')\n",
    "\n",
    "# Agregar títulos y etiquetas\n",
    "plt.title('¿Cuánto tiempo esperan las personas hasta hacer otro pedido?')\n",
    "plt.xlabel('Días desde el pedido anterior')\n",
    "plt.ylabel('Número de pedidos')\n",
    "\n",
    "# Mostrar la gráfica\n",
    "plt.xticks(range(0, 31))  # Mostrar cada día de 0 a 30\n",
    "plt.grid(axis='y', linestyle='--', alpha=0.7)\n",
    "plt.tight_layout()\n",
    "plt.show()"
   ]
  },
  {
   "cell_type": "markdown",
   "id": "discrete-vertex",
   "metadata": {
    "id": "discrete-vertex"
   },
   "source": [
    "Escribe aquí tus conclusiones"
   ]
  },
  {
   "cell_type": "markdown",
   "id": "3773ed92-71fa-46cd-a737-3e23d35d72b9",
   "metadata": {},
   "source": [
    "# Conclusión\n",
    "Podemos observar que la mayoría de los usuarios realiza pedidos con una frecuencia regular, especialmente cada 7, 14 o 30 días, lo que indica hábitos de consumo semanales o mensuales."
   ]
  },
  {
   "cell_type": "markdown",
   "id": "504957c6-79df-4c90-ba44-f61514ea51ba",
   "metadata": {},
   "source": [
    "<div class=\"alert alert-block alert-success\">\n",
    "\n",
    "<b>Comentario del revisor #4</b> <a class=\"tocSkip\"></a>\n",
    "\n",
    "Excelente.\n",
    "</div>"
   ]
  },
  {
   "cell_type": "markdown",
   "id": "tight-staff",
   "metadata": {
    "id": "tight-staff"
   },
   "source": [
    "# [B] Intermedio (deben completarse todos para aprobar)\n",
    "\n",
    "1. ¿Existe alguna diferencia entre las distribuciones `'order_hour_of_day'` de los miércoles y los sábados? Traza gráficos de barra de `'order_hour_of_day'` para ambos días en la misma figura y describe las diferencias que observes.\n",
    "2. Grafica la distribución para el número de órdenes que hacen los clientes (es decir, cuántos clientes hicieron solo 1 pedido, cuántos hicieron 2, cuántos 3, y así sucesivamente...).\n",
    "3. ¿Cuáles son los 20 principales productos que se piden con más frecuencia (muestra su identificación y nombre)?"
   ]
  },
  {
   "cell_type": "markdown",
   "id": "packed-classic",
   "metadata": {
    "id": "packed-classic"
   },
   "source": [
    "### [B1] Diferencia entre miércoles y sábados para  `'order_hour_of_day'`. Traza gráficos de barra para los dos días y describe las diferencias que veas."
   ]
  },
  {
   "cell_type": "code",
   "execution_count": 40,
   "id": "d89b8403",
   "metadata": {
    "id": "d89b8403"
   },
   "outputs": [
    {
     "data": {
      "image/png": "[encoded data removed]",
      "text/plain": [
       "<Figure size 1200x600 with 1 Axes>"
      ]
     },
     "metadata": {},
     "output_type": "display_data"
    }
   ],
   "source": [
    "# Filtro por miércoles (day_of_week = 3) y sábado (day_of_week = 6)\n",
    "wednesday_orders = orders[orders['order_dow'] == 3]\n",
    "saturday_orders = orders[orders['order_dow'] == 6]\n",
    "\n",
    "# Contar cuántas órdenes se hicieron por hora\n",
    "wednesday_counts = wednesday_orders['order_hour_of_day'].value_counts().sort_index()\n",
    "saturday_counts = saturday_orders['order_hour_of_day'].value_counts().sort_index()\n",
    "\n",
    "# Crear una figura con ambas series de datos\n",
    "plt.figure(figsize=(12, 6))\n",
    "\n",
    "# Graficar ambas distribuciones\n",
    "plt.bar(wednesday_counts.index - 0.2, wednesday_counts.values, width=0.4, label='Miércoles', color='skyblue')\n",
    "plt.bar(saturday_counts.index + 0.2, saturday_counts.values, width=0.4, label='Sábado', color='salmon')\n",
    "\n",
    "# Títulos y etiquetas\n",
    "plt.title('Distribución de órdenes por hora: Miércoles vs Sábado')\n",
    "plt.xlabel('Hora del día')\n",
    "plt.ylabel('Número de órdenes')\n",
    "plt.xticks(range(0, 24))\n",
    "plt.legend()\n",
    "plt.grid(axis='y', linestyle='--', alpha=0.5)\n",
    "\n",
    "# Mostrar la gráfica\n",
    "plt.tight_layout()\n",
    "plt.show()\n"
   ]
  },
  {
   "cell_type": "markdown",
   "id": "ae393d7b-2d72-4624-8283-f58d4591ec6a",
   "metadata": {
    "id": "797c90a8"
   },
   "source": [
    "Al comparar las distribuciones de order_hour_of_day para miércoles y sábados, observamos que:\n",
    "\n",
    "- En ambos días, la mayoria de los pedidos se concentran entre las 9:00 y las 17:00 horas\n",
    "- Los miércoles presentan un pico más pronunciado a las 10:00 - 11:00, lo cual puede reflejar compras antes de ir al trabajo o en horario de oficina.\n",
    "- Los sábados muestran una distribución más uniforme durante el día, con más actividad en horas medias y tarde, lo que puede estar relacionado con el tiempo libre del fin de semana.\n"
   ]
  },
  {
   "cell_type": "markdown",
   "id": "charitable-congo",
   "metadata": {
    "id": "charitable-congo"
   },
   "source": [
    "Escribe aquí tus conclusiones"
   ]
  },
  {
   "cell_type": "markdown",
   "id": "ff4e56ee-86ba-44f6-902e-39e33c26c3bb",
   "metadata": {},
   "source": [
    "<div class=\"alert alert-block alert-success\">\n",
    "\n",
    "<b>Comentario del revisor #4</b> <a class=\"tocSkip\"></a>\n",
    "\n",
    "Muy bien graficando de esta manera, queda muy clara la diferencia.\n",
    "</div>"
   ]
  },
  {
   "cell_type": "markdown",
   "id": "0e750db9-499b-4b8c-a377-3036051cedcf",
   "metadata": {},
   "source": [
    "# Conclusión\n",
    "Como conclusión tengo que los miércoles se tiene una mayor concentración de pedidos en la mañana, mientras que los sábados se reparten más a lo largo del día."
   ]
  },
  {
   "cell_type": "markdown",
   "id": "e3891143",
   "metadata": {
    "id": "e3891143"
   },
   "source": [
    "### [B2] ¿Cuál es la distribución para el número de pedidos por cliente?"
   ]
  },
  {
   "cell_type": "code",
   "execution_count": 41,
   "id": "d8c26c23",
   "metadata": {
    "id": "d8c26c23"
   },
   "outputs": [
    {
     "data": {
      "image/png": "[encoded data removed]",
      "text/plain": [
       "<Figure size 1200x600 with 1 Axes>"
      ]
     },
     "metadata": {},
     "output_type": "display_data"
    }
   ],
   "source": [
    "# Paso 1: Contar cuántos pedidos ha hecho cada cliente\n",
    "orders_per_user = orders.groupby('user_id')['order_id'].count()\n",
    "\n",
    "# Paso 2: Contar cuántos clientes hicieron 1, 2, 3, ... pedidos\n",
    "order_frequencies = orders_per_user.value_counts().sort_index()\n",
    "\n",
    "# Paso 3: Graficar la distribución\n",
    "plt.figure(figsize=(12, 6))\n",
    "plt.bar(order_frequencies.index, order_frequencies.values, color='mediumseagreen')\n",
    "\n",
    "plt.title('Distribución del número de órdenes por cliente')\n",
    "plt.xlabel('Número de pedidos realizados')\n",
    "plt.ylabel('Cantidad de clientes')\n",
    "plt.grid(axis='y', linestyle='--', alpha=0.5)\n",
    "plt.tight_layout()\n",
    "plt.show()"
   ]
  },
  {
   "cell_type": "markdown",
   "id": "d2eff7d5",
   "metadata": {
    "id": "d2eff7d5"
   },
   "source": [
    "Escribe aquí tus conclusiones"
   ]
  },
  {
   "cell_type": "markdown",
   "id": "046cb6a7-78c4-4008-b903-675aeb588b72",
   "metadata": {},
   "source": [
    "# Conclusión\n",
    "Tenemos que la mayoría de los clientes realizan un número moderado de pedidos, siendo más frecuente que los usuarios hagan entre 4 y 10 órdenes. A medida que aumenta el número de pedidos, la cantidad de usuarios disminuye, lo cual es esperado: pocos usuarios son extremadamente activos."
   ]
  },
  {
   "cell_type": "markdown",
   "id": "e2cb2370-2a3c-432e-a95f-10f2e85473b9",
   "metadata": {},
   "source": [
    "<div class=\"alert alert-block alert-success\">\n",
    "\n",
    "<b>Comentario del revisor #4</b> <a class=\"tocSkip\"></a>\n",
    "\n",
    "Buena extraccion.\n",
    "\n",
    "</div>"
   ]
  },
  {
   "cell_type": "markdown",
   "id": "54a0319c",
   "metadata": {
    "id": "54a0319c"
   },
   "source": [
    "### [B3] ¿Cuáles son los 20 productos más populares (muestra su ID y nombre)?"
   ]
  },
  {
   "cell_type": "code",
   "execution_count": 42,
   "id": "exterior-arizona",
   "metadata": {
    "id": "exterior-arizona"
   },
   "outputs": [
    {
     "data": {
      "image/png": "[encoded data removed]",
      "text/plain": [
       "<Figure size 1200x800 with 1 Axes>"
      ]
     },
     "metadata": {},
     "output_type": "display_data"
    },
    {
     "name": "stdout",
     "output_type": "stream",
     "text": [
      "    product_id  count              product_name\n",
      "0        24852  66050                    Banana\n",
      "1        13176  53297    Bag of Organic Bananas\n",
      "2        21137  37039      Organic Strawberries\n",
      "3        21903  33971      Organic Baby Spinach\n",
      "4        47209  29773      Organic Hass Avocado\n",
      "5        47766  24689           Organic Avocado\n",
      "6        47626  21495               Large Lemon\n",
      "7        16797  20018              Strawberries\n",
      "8        26209  19690                     Limes\n",
      "9        27845  19600        Organic Whole Milk\n",
      "10       27966  19197       Organic Raspberries\n",
      "11       22935  15898      Organic Yellow Onion\n",
      "12       24964  15292            Organic Garlic\n",
      "13       45007  14584          Organic Zucchini\n",
      "14       39275  13879       Organic Blueberries\n",
      "15       49683  13675            Cucumber Kirby\n",
      "16       28204  12544        Organic Fuji Apple\n",
      "17        5876  12232             Organic Lemon\n",
      "18        8277  11993  Apple Honeycrisp Organic\n",
      "19       40706  11781    Organic Grape Tomatoes\n"
     ]
    }
   ],
   "source": [
    "# Paso 1: Contar cuántas veces se pidió cada producto\n",
    "top_products = orders_products['product_id'].value_counts().head(20)\n",
    "\n",
    "# Paso 2: Obtener los nombres de los productos\n",
    "top_products_df = pd.DataFrame({'product_id': top_products.index, 'count': top_products.values})\n",
    "top_products_df = top_products_df.merge(products[['product_id', 'product_name']], on='product_id')\n",
    "\n",
    "# Paso 3: Graficar\n",
    "plt.figure(figsize=(12, 8))\n",
    "plt.barh(top_products_df['product_name'], top_products_df['count'], color='slateblue')\n",
    "plt.xlabel('Cantidad de veces que se pidió')\n",
    "plt.title('Top 20 productos más vendidos')\n",
    "plt.gca().invert_yaxis()  # Para que el más vendido aparezca arriba\n",
    "plt.tight_layout()\n",
    "plt.show()\n",
    "\n",
    "# Mostrar la tabla por si necesitas pegarla\n",
    "print(top_products_df)"
   ]
  },
  {
   "cell_type": "markdown",
   "id": "7df00f47",
   "metadata": {
    "id": "7df00f47"
   },
   "source": [
    "Escribe aquí tus conclusiones"
   ]
  },
  {
   "cell_type": "markdown",
   "id": "d0fe7e0d-c1ed-4f15-982c-fe343f0a02cb",
   "metadata": {},
   "source": [
    "# Conclusión \n",
    "Los productos más vendidos son artículos de alta rotación como frutas, lácteos o básicos de cocina. Esto indica que los usuarios utilizan la plataforma principalmente para abastecer víveres esenciales de forma recurrente."
   ]
  },
  {
   "cell_type": "markdown",
   "id": "1e6fba1b-0a82-4275-91e3-7fb5979e0e1a",
   "metadata": {},
   "source": [
    "<div class=\"alert alert-block alert-success\">\n",
    "\n",
    "<b>Comentario del revisor #4</b> <a class=\"tocSkip\"></a>\n",
    "\n",
    "Muy bien calculado este top 20.</div>"
   ]
  },
  {
   "cell_type": "markdown",
   "id": "gross-theme",
   "metadata": {
    "id": "gross-theme"
   },
   "source": [
    "# [C] Difícil (deben completarse todos para aprobar)\n",
    "\n",
    "1. ¿Cuántos artículos suelen comprar las personas en un pedido? ¿Cómo es la distribución?\n",
    "2. ¿Cuáles son los 20 principales artículos que vuelven a pedirse con mayor frecuencia (muestra sus nombres e IDs de los productos)?\n",
    "3. Para cada producto, ¿cuál es la tasa de repetición del pedido (número de repeticiones de pedido/total de pedidos?\n",
    "4. Para cada cliente, ¿qué proporción de los productos que pidió ya los había pedido? Calcula la tasa de repetición de pedido para cada usuario en lugar de para cada producto.\n",
    "5. ¿Cuáles son los 20 principales artículos que la gente pone primero en sus carritos (muestra las IDs de los productos, sus nombres, y el número de veces en que fueron el primer artículo en añadirse al carrito)?"
   ]
  },
  {
   "cell_type": "markdown",
   "id": "romantic-deposit",
   "metadata": {
    "id": "romantic-deposit"
   },
   "source": [
    "### [C1] ¿Cuántos artículos compran normalmente las personas en un pedido? ¿Cómo es la distribución?"
   ]
  },
  {
   "cell_type": "code",
   "execution_count": 43,
   "id": "virtual-punch",
   "metadata": {
    "id": "virtual-punch"
   },
   "outputs": [
    {
     "data": {
      "image/png": "[encoded data removed]",
      "text/plain": [
       "<Figure size 1200x600 with 1 Axes>"
      ]
     },
     "metadata": {},
     "output_type": "display_data"
    },
    {
     "name": "stdout",
     "output_type": "stream",
     "text": [
      "count    450046.000000\n",
      "mean         10.098983\n",
      "std           7.540206\n",
      "min           1.000000\n",
      "25%           5.000000\n",
      "50%           8.000000\n",
      "75%          14.000000\n",
      "max         127.000000\n",
      "dtype: float64\n"
     ]
    }
   ],
   "source": [
    "# Paso 1: Contar cuántos productos tiene cada pedido\n",
    "products_per_order = orders_products.groupby('order_id').size()\n",
    "\n",
    "# Paso 2: Calcular la distribución (cuántos pedidos tienen cierta cantidad de productos)\n",
    "distribution = products_per_order.value_counts().sort_index()\n",
    "\n",
    "# Paso 3: Graficar\n",
    "plt.figure(figsize=(12, 6))\n",
    "plt.bar(distribution.index, distribution.values, color='orchid')\n",
    "plt.xlabel('Número de productos por pedido')\n",
    "plt.ylabel('Cantidad de pedidos')\n",
    "plt.title('Distribución de artículos por pedido')\n",
    "plt.grid(axis='y', linestyle='--', alpha=0.5)\n",
    "plt.tight_layout()\n",
    "plt.show()\n",
    "\n",
    "# Opcional: imprimir resumen estadístico\n",
    "print(products_per_order.describe())"
   ]
  },
  {
   "cell_type": "markdown",
   "id": "412b0768-9210-4c72-b96c-5d6303b83b6c",
   "metadata": {},
   "source": [
    "<div class=\"alert alert-block alert-warning\">\n",
    "<b>Comentario del revisor #4</b> <a class=\"tocSkip\"></a>\n",
    "\n",
    "Esta perfecto el grafico, como consejo podrias graficar  (en otra celda) el top 30 o 40 para visualizar mejor los datos ya que a partir de alli practicamente no tenemos informacion.</div>"
   ]
  },
  {
   "cell_type": "markdown",
   "id": "designed-mortality",
   "metadata": {
    "id": "designed-mortality"
   },
   "source": [
    "Escribe aquí tus conclusiones"
   ]
  },
  {
   "cell_type": "markdown",
   "id": "78bedf64-a5f7-4020-95f6-8e56f2dda04c",
   "metadata": {},
   "source": [
    "<div class=\"alert alert-block alert-danger\">\n",
    "\n",
    "<b>Comentario del revisor #4</b> <a class=\"tocSkip\"></a>\n",
    "\n",
    "Recorda dejar tus conclusiones sobre esta extracción, podes comentar acerca de lo donde se produce el común de los resultados.</div>"
   ]
  },
  {
   "cell_type": "markdown",
   "id": "b752e39a-198d-4040-993b-4ab863465681",
   "metadata": {},
   "source": [
    "# Conclusión\n",
    "La mayoría de los pedidos contienen entre 5 y 15 artículos, lo que indica que los usuarios suelen hacer compras de tamaño mediano, probablemente como parte de su rutina semanal."
   ]
  },
  {
   "cell_type": "markdown",
   "id": "5e6b5537",
   "metadata": {
    "id": "5e6b5537"
   },
   "source": [
    "### [C2] ¿Cuáles son los 20 principales artículos que vuelven a pedirse con mayor frecuencia (muestra sus nombres e IDs de los productos)?"
   ]
  },
  {
   "cell_type": "code",
   "execution_count": 44,
   "id": "9374e55a",
   "metadata": {
    "id": "9374e55a"
   },
   "outputs": [
    {
     "data": {
      "image/png": "[encoded data removed]",
      "text/plain": [
       "<Figure size 1200x800 with 1 Axes>"
      ]
     },
     "metadata": {},
     "output_type": "display_data"
    },
    {
     "name": "stdout",
     "output_type": "stream",
     "text": [
      "    product_id  reorders              product_name\n",
      "0        24852     55763                    Banana\n",
      "1        13176     44450    Bag of Organic Bananas\n",
      "2        21137     28639      Organic Strawberries\n",
      "3        21903     26233      Organic Baby Spinach\n",
      "4        47209     23629      Organic Hass Avocado\n",
      "5        47766     18743           Organic Avocado\n",
      "6        27845     16251        Organic Whole Milk\n",
      "7        47626     15044               Large Lemon\n",
      "8        27966     14748       Organic Raspberries\n",
      "9        16797     13945              Strawberries\n",
      "10       26209     13327                     Limes\n",
      "11       22935     11145      Organic Yellow Onion\n",
      "12       24964     10411            Organic Garlic\n",
      "13       45007     10076          Organic Zucchini\n",
      "14       49683      9538            Cucumber Kirby\n",
      "15       28204      8989        Organic Fuji Apple\n",
      "16        8277      8836  Apple Honeycrisp Organic\n",
      "17       39275      8799       Organic Blueberries\n",
      "18        5876      8412             Organic Lemon\n",
      "19       49235      8389       Organic Half & Half\n"
     ]
    }
   ],
   "source": [
    "# Paso 1: Filtrar solo los productos que fueron reordenados\n",
    "reordered_products = orders_products[orders_products['reordered'] == 1]\n",
    "\n",
    "# Paso 2: Contar cuántas veces fue reordenado cada producto\n",
    "reorder_counts = reordered_products['product_id'].value_counts().head(20)\n",
    "\n",
    "# Paso 3: Juntar con el nombre del producto\n",
    "top_reordered_df = pd.DataFrame({'product_id': reorder_counts.index, 'reorders': reorder_counts.values})\n",
    "top_reordered_df = top_reordered_df.merge(products[['product_id', 'product_name']], on='product_id')\n",
    "\n",
    "# Paso 4: Graficar\n",
    "plt.figure(figsize=(12, 8))\n",
    "plt.barh(top_reordered_df['product_name'], top_reordered_df['reorders'], color='darkorange')\n",
    "plt.xlabel('Veces que fue reordenado')\n",
    "plt.title('Top 20 productos más reordenados')\n",
    "plt.gca().invert_yaxis()\n",
    "plt.tight_layout()\n",
    "plt.show()\n",
    "\n",
    "# Mostrar la tabla por si necesitas pegarla\n",
    "print(top_reordered_df)"
   ]
  },
  {
   "cell_type": "markdown",
   "id": "80e70c74",
   "metadata": {
    "id": "80e70c74"
   },
   "source": [
    "Escribe aquí tus conclusiones"
   ]
  },
  {
   "cell_type": "markdown",
   "id": "0e9c0293-1378-458d-9a0c-c300b7b5eb4d",
   "metadata": {},
   "source": [
    "# Conclusión\n",
    "Los productos más reordenados son artículos de consumo frecuente, como frutas, leche o productos básicos, lo que refleja hábitos de compra repetitivos y esenciales por parte de los usuarios."
   ]
  },
  {
   "cell_type": "markdown",
   "id": "6e613b64-0530-4010-a1ed-04dd18c4cf47",
   "metadata": {},
   "source": [
    "<div class=\"alert alert-block alert-success\">\n",
    "\n",
    "<b>Comentario del revisor #4</b> <a class=\"tocSkip\"></a>\n",
    "\n",
    "Muy bueno.</div>"
   ]
  },
  {
   "cell_type": "markdown",
   "id": "9d312b14",
   "metadata": {
    "id": "9d312b14"
   },
   "source": [
    "### [C3] Para cada producto, ¿cuál es la proporción de las veces que se pide y que se vuelve a pedir?"
   ]
  },
  {
   "cell_type": "code",
   "execution_count": 45,
   "id": "8ae9f4b1",
   "metadata": {
    "id": "8ae9f4b1"
   },
   "outputs": [
    {
     "name": "stdout",
     "output_type": "stream",
     "text": [
      "       product_id                             product_name  reorder_rate  \\\n",
      "43114       48041  DanActive Vanilla Probiotic Dairy Drink      0.907692   \n",
      "29625       32978                       Lemon Lime Seltzer      0.893939   \n",
      "35699       39782      Organic Raspberry Mate Energy Drink      0.892308   \n",
      "15647       17469                     Lo-Carb Energy Drink      0.888889   \n",
      "22464       25000         Whole Wheat Multigrain Pop Cakes      0.886792   \n",
      "43160       48095                   Purified Water- 9.5pH+      0.877193   \n",
      "8321         9292          Half And Half Ultra Pasteurized      0.876574   \n",
      "2411         2677        Yerba Mate Sparkling Classic Gold      0.871345   \n",
      "42382       47231                     Ultra-Purified Water      0.868293   \n",
      "1031         1157                     Wheat Sandwich Bread      0.863946   \n",
      "\n",
      "       total_orders  \n",
      "43114            65  \n",
      "29625            66  \n",
      "35699            65  \n",
      "15647            63  \n",
      "22464            53  \n",
      "43160            57  \n",
      "8321            397  \n",
      "2411            171  \n",
      "42382           205  \n",
      "1031            147  \n"
     ]
    }
   ],
   "source": [
    "# Paso 1: Total de veces que cada producto fue ordenado\n",
    "total_orders_per_product = orders_products.groupby('product_id').size().reset_index(name='total_orders')\n",
    "\n",
    "# Paso 2: Total de veces que cada producto fue reordenado\n",
    "reordered_counts_per_product = orders_products[orders_products['reordered'] == 1].groupby('product_id').size().reset_index(name='reordered_count')\n",
    "\n",
    "# Paso 3: Unir ambos para calcular tasa\n",
    "reorder_df = pd.merge(total_orders_per_product, reordered_counts_per_product, on='product_id', how='left')\n",
    "reorder_df['reordered_count'] = reorder_df['reordered_count'].fillna(0)\n",
    "reorder_df['reorder_rate'] = reorder_df['reordered_count'] / reorder_df['total_orders']\n",
    "\n",
    "# Paso 4: Unir con productos\n",
    "reorder_df = reorder_df.merge(products[['product_id', 'product_name']], on='product_id')\n",
    "\n",
    "# Paso 5: Mostrar los 10 con mayor tasa (solo productos con al menos 50 pedidos)\n",
    "top_reorder_rate = reorder_df[reorder_df['total_orders'] >= 50].sort_values(by='reorder_rate', ascending=False).head(10)\n",
    "\n",
    "# Mostrar resultadosb\n",
    "print(top_reorder_rate[['product_id', 'product_name', 'reorder_rate', 'total_orders']])"
   ]
  },
  {
   "cell_type": "code",
   "execution_count": 46,
   "id": "2dc21681-5b83-4e1f-925d-dfb8140781b8",
   "metadata": {},
   "outputs": [
    {
     "data": {
      "image/png": "[encoded data removed]",
      "text/plain": [
       "<Figure size 1200x600 with 1 Axes>"
      ]
     },
     "metadata": {},
     "output_type": "display_data"
    }
   ],
   "source": [
    "plt.figure(figsize=(12, 6))\n",
    "plt.barh(top_reorder_rate['product_name'], top_reorder_rate['reorder_rate'], color='skyblue')\n",
    "plt.xlabel('Tasa de repetición')\n",
    "plt.title('Top 10 productos con mayor tasa de repetición (min 50 pedidos)')\n",
    "plt.gca().invert_yaxis()\n",
    "plt.grid(axis='x', linestyle='--', alpha=0.5)\n",
    "plt.tight_layout()\n",
    "plt.show()"
   ]
  },
  {
   "cell_type": "markdown",
   "id": "I10dEIAyldcO",
   "metadata": {
    "id": "I10dEIAyldcO"
   },
   "source": [
    "Escribe aquí tus conclusiones"
   ]
  },
  {
   "cell_type": "markdown",
   "id": "6a976d79-6e66-4198-9247-1e4e45c0ce73",
   "metadata": {},
   "source": [
    "# Conclusión \n",
    "Algunos productos tienen tasas de repetición superiores al 90%, lo que indica una alta fidelidad de los usuarios hacia esos artículos, probablemente por ser de consumo habitual o de alta satisfacción."
   ]
  },
  {
   "cell_type": "markdown",
   "id": "034b8ab3-ec7a-4188-ae70-31cc43e1cb9d",
   "metadata": {},
   "source": [
    "<div class=\"alert alert-block alert-success\">\n",
    "\n",
    "<b>Comentario del revisor #4</b> <a class=\"tocSkip\"></a>\n",
    "\n",
    "Perfecto.</div>"
   ]
  },
  {
   "cell_type": "markdown",
   "id": "subject-boxing",
   "metadata": {
    "id": "subject-boxing"
   },
   "source": [
    "### [C4] Para cada cliente, ¿qué proporción de sus productos ya los había pedido?"
   ]
  },
  {
   "cell_type": "code",
   "execution_count": 47,
   "id": "medical-couple",
   "metadata": {
    "id": "medical-couple"
   },
   "outputs": [
    {
     "name": "stdout",
     "output_type": "stream",
     "text": [
      "   user_id  total_products  total_reordered  user_reorder_rate\n",
      "0        2              26                1           0.038462\n",
      "1        4               2                0           0.000000\n",
      "2        5              12                8           0.666667\n",
      "3        6               4                0           0.000000\n",
      "4        7              14               13           0.928571\n"
     ]
    }
   ],
   "source": [
    "# Paso 1: Unir order_products con orders para obtener el user_id\n",
    "orders_products_users = orders_products.merge(orders[['order_id', 'user_id']], on='order_id')\n",
    "\n",
    "# Paso 2: Agrupar por usuario para contar productos reordenados y totales\n",
    "user_order_stats = orders_products_users.groupby('user_id').agg(\n",
    "    total_products=('product_id', 'count'),\n",
    "    total_reordered=('reordered', 'sum')\n",
    ").reset_index()\n",
    "\n",
    "# Paso 3: Calcular la tasa de repetición\n",
    "user_order_stats['user_reorder_rate'] = user_order_stats['total_reordered'] / user_order_stats['total_products']\n",
    "\n",
    "# Paso 4: Mostrar los primeros resultados\n",
    "print(user_order_stats.head())"
   ]
  },
  {
   "cell_type": "code",
   "execution_count": 48,
   "id": "9a6fdb93-bafa-419d-b926-1a26ff00f9b1",
   "metadata": {},
   "outputs": [
    {
     "data": {
      "image/png": "[encoded data removed]",
      "text/plain": [
       "<Figure size 1000x500 with 1 Axes>"
      ]
     },
     "metadata": {},
     "output_type": "display_data"
    }
   ],
   "source": [
    "plt.figure(figsize=(10, 5))\n",
    "plt.hist(user_order_stats['user_reorder_rate'], bins=50, color='mediumpurple', edgecolor='black')\n",
    "plt.title('Distribución de la tasa de repetición por usuario')\n",
    "plt.xlabel('Tasa de repetición')\n",
    "plt.ylabel('Número de usuarios')\n",
    "plt.grid(axis='y', linestyle='--', alpha=0.7)\n",
    "plt.tight_layout()\n",
    "plt.show()"
   ]
  },
  {
   "cell_type": "markdown",
   "id": "BgJSvXDsleXz",
   "metadata": {
    "id": "BgJSvXDsleXz"
   },
   "source": [
    "Escribe aquí tus conclusiones"
   ]
  },
  {
   "cell_type": "markdown",
   "id": "fcc61d82-ec33-4395-b7a6-557a270b1688",
   "metadata": {},
   "source": [
    "# Conclusión\n",
    "La mayoría de los usuarios tiene una tasa de repetición moderada, lo que sugiere que muchos clientes combinan productos nuevos con productos que ya han comprado antes."
   ]
  },
  {
   "cell_type": "markdown",
   "id": "89680f40-0e70-446a-a17a-49393e151535",
   "metadata": {},
   "source": [
    "<div class=\"alert alert-block alert-success\">\n",
    "\n",
    "<b>Comentario del revisor #4</b> <a class=\"tocSkip\"></a>\n",
    "\n",
    "Muy bien graficando esta distribucion.</div>"
   ]
  },
  {
   "cell_type": "markdown",
   "id": "92d35137",
   "metadata": {
    "id": "92d35137"
   },
   "source": [
    "### [C5] ¿Cuáles son los 20 principales artículos que las personas ponen primero en sus carritos?"
   ]
  },
  {
   "cell_type": "code",
   "execution_count": 49,
   "id": "0ae57274",
   "metadata": {
    "id": "0ae57274",
    "scrolled": true
   },
   "outputs": [
    {
     "name": "stdout",
     "output_type": "stream",
     "text": [
      "    product_id                 product_name  first_added_count\n",
      "0        24852                       Banana              15562\n",
      "1        13176       Bag of Organic Bananas              11026\n",
      "2        27845           Organic Whole Milk               4363\n",
      "3        21137         Organic Strawberries               3946\n",
      "4        47209         Organic Hass Avocado               3390\n",
      "5        21903         Organic Baby Spinach               3336\n",
      "6        47766              Organic Avocado               3044\n",
      "7        19660                 Spring Water               2336\n",
      "8        16797                 Strawberries               2308\n",
      "9        27966          Organic Raspberries               2024\n",
      "10       44632   Sparkling Water Grapefruit               1914\n",
      "11       49235          Organic Half & Half               1797\n",
      "12       47626                  Large Lemon               1737\n",
      "13         196                         Soda               1733\n",
      "14       38689     Organic Reduced Fat Milk               1397\n",
      "15       26209                        Limes               1370\n",
      "16       12341                Hass Avocados               1340\n",
      "17        5785  Organic Reduced Fat 2% Milk               1310\n",
      "18       27086                  Half & Half               1309\n",
      "19       22935         Organic Yellow Onion               1246\n"
     ]
    }
   ],
   "source": [
    "# Paso 1: Filtrar solo los productos que fueron añadidos primero en sus pedidos\n",
    "first_products = orders_products[orders_products['add_to_cart_order'] == 1]\n",
    "\n",
    "# Paso 2: Contar cuántas veces cada producto fue el primero\n",
    "first_product_counts = first_products['product_id'].value_counts().head(20).reset_index()\n",
    "first_product_counts.columns = ['product_id', 'first_added_count']\n",
    "\n",
    "# Paso 3: Unir con el nombre de los productos\n",
    "top_first_added = first_product_counts.merge(products[['product_id', 'product_name']], on='product_id')\n",
    "\n",
    "# Paso 4: Mostrar resultados\n",
    "print(top_first_added[['product_id', 'product_name', 'first_added_count']])"
   ]
  },
  {
   "cell_type": "code",
   "execution_count": 50,
   "id": "forty-netherlands",
   "metadata": {
    "id": "forty-netherlands"
   },
   "outputs": [
    {
     "data": {
      "image/png": "[encoded data removed]",
      "text/plain": [
       "<Figure size 1200x600 with 1 Axes>"
      ]
     },
     "metadata": {},
     "output_type": "display_data"
    }
   ],
   "source": [
    "plt.figure(figsize=(12, 6))\n",
    "plt.barh(top_first_added['product_name'], top_first_added['first_added_count'], color='lightgreen')\n",
    "plt.xlabel('Veces que fue el primer artículo añadido')\n",
    "plt.title('Top 20 productos añadidos primero al carrito')\n",
    "plt.gca().invert_yaxis()\n",
    "plt.grid(axis='x', linestyle='--', alpha=0.5)\n",
    "plt.tight_layout()\n",
    "plt.show()"
   ]
  },
  {
   "cell_type": "markdown",
   "id": "28ce9872",
   "metadata": {
    "id": "28ce9872"
   },
   "source": [
    "Escribe aquí tus conclusiones"
   ]
  },
  {
   "cell_type": "markdown",
   "id": "f7538535-44ad-4639-a391-d6c7e00b3c5a",
   "metadata": {},
   "source": [
    "<div class=\"alert alert-block alert-success\">\n",
    "\n",
    "<b>Comentario del revisor #4</b> <a class=\"tocSkip\"></a>\n",
    "\n",
    "Excelente agregando un grafico para esta distribucion.\n",
    "</div>"
   ]
  },
  {
   "cell_type": "markdown",
   "id": "dae1718e-e3ca-4d12-91ec-71533e7defb3",
   "metadata": {},
   "source": [
    "# Conclusiones\n",
    "Algunos productos son los primeros en ser añadidos al carrito con mucha frecuencia, lo que indica que probablemente son esenciales para los usuarios o altamente recordados al comenzar una compra."
   ]
  },
  {
   "cell_type": "markdown",
   "id": "uITbFCEoDosC",
   "metadata": {
    "id": "uITbFCEoDosC"
   },
   "source": [
    "### Conclusion general del proyecto:"
   ]
  },
  {
   "cell_type": "markdown",
   "id": "80a307e3-86e5-4fbf-994b-feb8e4ba9fbb",
   "metadata": {
    "id": "Nk-4GS7mDwqY"
   },
   "source": [
    "# Conclusión General\n",
    "\n",
    "Gracias a este analisis nos permitio descubrir patrones importantes en el comportamiento de compra de los usuarios, que tanto repetian productos, y cada cuanto lo hacian. Se identifico los días y las horas con más productividad.\n",
    "Estos hallazgos pueden ser claves para mejorar estrategias y mejorar la gestion de inventario también"
   ]
  }
 ],
 "metadata": {
  "ExecuteTimeLog": [
   {
    "duration": 8,
    "start_time": "2025-04-23T01:32:30.908Z"
   },
   {
    "duration": 610,
    "start_time": "2025-04-23T01:32:46.272Z"
   },
   {
    "duration": 48,
    "start_time": "2025-04-23T01:33:14.385Z"
   },
   {
    "duration": 267,
    "start_time": "2025-04-23T01:33:33.049Z"
   },
   {
    "duration": 34,
    "start_time": "2025-04-23T01:33:39.195Z"
   },
   {
    "duration": 36,
    "start_time": "2025-04-23T01:33:46.234Z"
   },
   {
    "duration": 9,
    "start_time": "2025-04-23T01:34:08.777Z"
   },
   {
    "duration": 11,
    "start_time": "2025-04-23T01:34:16.076Z"
   },
   {
    "duration": 36,
    "start_time": "2025-04-23T01:34:21.048Z"
   },
   {
    "duration": 285,
    "start_time": "2025-04-23T01:34:26.435Z"
   },
   {
    "duration": 44,
    "start_time": "2025-04-23T01:34:28.634Z"
   },
   {
    "duration": 12,
    "start_time": "2025-04-23T01:34:30.089Z"
   },
   {
    "duration": 11,
    "start_time": "2025-04-23T01:34:51.625Z"
   },
   {
    "duration": 2116,
    "start_time": "2025-04-23T01:35:11.673Z"
   },
   {
    "duration": 538,
    "start_time": "2025-04-23T01:47:50.240Z"
   },
   {
    "duration": 282,
    "start_time": "2025-04-23T01:48:42.555Z"
   },
   {
    "duration": 275,
    "start_time": "2025-04-23T01:50:29.389Z"
   },
   {
    "duration": 305,
    "start_time": "2025-04-23T01:50:49.240Z"
   },
   {
    "duration": 270,
    "start_time": "2025-04-23T01:51:06.545Z"
   },
   {
    "duration": 315,
    "start_time": "2025-04-23T15:20:30.010Z"
   },
   {
    "duration": 266,
    "start_time": "2025-04-23T15:20:30.459Z"
   },
   {
    "duration": 258,
    "start_time": "2025-04-23T15:20:30.814Z"
   },
   {
    "duration": 69,
    "start_time": "2025-04-23T15:20:32.594Z"
   },
   {
    "duration": 12,
    "start_time": "2025-04-23T15:20:33.227Z"
   },
   {
    "duration": 11,
    "start_time": "2025-04-23T15:20:34.682Z"
   },
   {
    "duration": 1866,
    "start_time": "2025-04-23T15:20:35.145Z"
   },
   {
    "duration": 644,
    "start_time": "2025-04-23T15:27:36.473Z"
   },
   {
    "duration": 253,
    "start_time": "2025-04-23T15:32:11.245Z"
   },
   {
    "duration": 252,
    "start_time": "2025-04-23T15:33:14.177Z"
   },
   {
    "duration": 246,
    "start_time": "2025-04-23T15:33:33.098Z"
   },
   {
    "duration": 246,
    "start_time": "2025-04-23T15:37:02.115Z"
   },
   {
    "duration": 310,
    "start_time": "2025-04-23T15:37:49.780Z"
   },
   {
    "duration": 261,
    "start_time": "2025-04-23T15:37:57.280Z"
   },
   {
    "duration": 252,
    "start_time": "2025-04-23T15:38:18.080Z"
   },
   {
    "duration": 234,
    "start_time": "2025-04-23T15:39:37.000Z"
   },
   {
    "duration": 113,
    "start_time": "2025-04-23T15:43:48.702Z"
   },
   {
    "duration": 143,
    "start_time": "2025-04-23T15:45:02.561Z"
   },
   {
    "duration": 180,
    "start_time": "2025-04-23T15:48:18.046Z"
   },
   {
    "duration": 166,
    "start_time": "2025-04-23T15:48:26.003Z"
   },
   {
    "duration": 142,
    "start_time": "2025-04-23T15:49:18.854Z"
   },
   {
    "duration": 136,
    "start_time": "2025-04-23T15:50:11.481Z"
   },
   {
    "duration": 4,
    "start_time": "2025-04-23T15:51:30.885Z"
   },
   {
    "duration": 138,
    "start_time": "2025-04-23T15:51:35.215Z"
   },
   {
    "duration": 399,
    "start_time": "2025-04-23T16:21:10.751Z"
   },
   {
    "duration": 234,
    "start_time": "2025-04-23T16:21:29.533Z"
   },
   {
    "duration": 206,
    "start_time": "2025-04-23T16:21:38.722Z"
   },
   {
    "duration": 121,
    "start_time": "2025-04-23T16:21:52.175Z"
   },
   {
    "duration": 124,
    "start_time": "2025-04-23T16:22:43.096Z"
   },
   {
    "duration": 148,
    "start_time": "2025-04-23T16:25:25.833Z"
   },
   {
    "duration": 160,
    "start_time": "2025-04-23T16:26:06.104Z"
   },
   {
    "duration": 120,
    "start_time": "2025-04-23T16:28:23.525Z"
   },
   {
    "duration": 139,
    "start_time": "2025-04-23T16:29:51.171Z"
   },
   {
    "duration": 314,
    "start_time": "2025-04-24T00:47:24.993Z"
   },
   {
    "duration": 303,
    "start_time": "2025-04-24T00:47:25.308Z"
   },
   {
    "duration": 315,
    "start_time": "2025-04-24T00:47:25.614Z"
   },
   {
    "duration": 64,
    "start_time": "2025-04-24T00:47:25.934Z"
   },
   {
    "duration": 16,
    "start_time": "2025-04-24T00:47:26.000Z"
   },
   {
    "duration": 12,
    "start_time": "2025-04-24T00:47:26.359Z"
   },
   {
    "duration": 2106,
    "start_time": "2025-04-24T00:47:28.619Z"
   },
   {
    "duration": 254,
    "start_time": "2025-04-24T00:47:31.848Z"
   },
   {
    "duration": 144,
    "start_time": "2025-04-24T00:47:37.387Z"
   },
   {
    "duration": 166,
    "start_time": "2025-04-24T00:47:44.714Z"
   },
   {
    "duration": 143,
    "start_time": "2025-04-24T00:58:02.465Z"
   },
   {
    "duration": 137,
    "start_time": "2025-04-24T00:58:19.203Z"
   },
   {
    "duration": 150,
    "start_time": "2025-04-24T00:58:23.256Z"
   },
   {
    "duration": 129,
    "start_time": "2025-04-24T00:58:26.055Z"
   },
   {
    "duration": 283,
    "start_time": "2025-04-24T01:00:30.175Z"
   },
   {
    "duration": 126,
    "start_time": "2025-04-24T01:00:33.385Z"
   },
   {
    "duration": 167,
    "start_time": "2025-04-24T01:00:33.855Z"
   },
   {
    "duration": 195,
    "start_time": "2025-04-24T01:00:34.090Z"
   },
   {
    "duration": 5,
    "start_time": "2025-04-24T01:00:34.454Z"
   },
   {
    "duration": 171,
    "start_time": "2025-04-24T01:01:35.469Z"
   },
   {
    "duration": 168,
    "start_time": "2025-04-24T01:01:46.902Z"
   },
   {
    "duration": 216,
    "start_time": "2025-04-24T01:02:04.763Z"
   },
   {
    "duration": 163,
    "start_time": "2025-04-24T01:03:12.345Z"
   },
   {
    "duration": 562,
    "start_time": "2025-04-24T01:11:37.708Z"
   },
   {
    "duration": 202,
    "start_time": "2025-04-24T01:13:55.873Z"
   },
   {
    "duration": 125,
    "start_time": "2025-04-24T01:17:12.780Z"
   },
   {
    "duration": 175,
    "start_time": "2025-04-24T01:21:31.076Z"
   },
   {
    "duration": 162,
    "start_time": "2025-04-24T01:21:40.700Z"
   },
   {
    "duration": 205,
    "start_time": "2025-04-24T01:25:12.076Z"
   },
   {
    "duration": 136,
    "start_time": "2025-04-24T01:36:30.539Z"
   },
   {
    "duration": 386,
    "start_time": "2025-04-24T21:08:46.503Z"
   },
   {
    "duration": 42,
    "start_time": "2025-04-24T21:09:25.388Z"
   },
   {
    "duration": 68,
    "start_time": "2025-04-24T21:09:56.020Z"
   },
   {
    "duration": 99,
    "start_time": "2025-04-24T21:10:10.918Z"
   },
   {
    "duration": 50,
    "start_time": "2025-04-24T21:10:23.603Z"
   },
   {
    "duration": 40,
    "start_time": "2025-04-24T21:12:25.803Z"
   },
   {
    "duration": 219,
    "start_time": "2025-04-24T21:13:23.331Z"
   },
   {
    "duration": 51,
    "start_time": "2025-04-24T21:13:28.084Z"
   },
   {
    "duration": 5,
    "start_time": "2025-04-24T21:17:39.588Z"
   },
   {
    "duration": 227,
    "start_time": "2025-04-24T21:18:09.547Z"
   },
   {
    "duration": 47,
    "start_time": "2025-04-24T21:18:40.476Z"
   },
   {
    "duration": 288,
    "start_time": "2025-04-24T21:18:47.418Z"
   },
   {
    "duration": 70,
    "start_time": "2025-04-24T21:19:08.741Z"
   },
   {
    "duration": 42,
    "start_time": "2025-04-24T21:19:15.266Z"
   },
   {
    "duration": 41,
    "start_time": "2025-04-24T21:19:33.927Z"
   },
   {
    "duration": 4,
    "start_time": "2025-04-24T21:35:44.624Z"
   },
   {
    "duration": 77,
    "start_time": "2025-04-24T21:35:51.345Z"
   },
   {
    "duration": 333,
    "start_time": "2025-04-25T00:20:11.529Z"
   },
   {
    "duration": 392,
    "start_time": "2025-04-25T00:20:11.864Z"
   },
   {
    "duration": 311,
    "start_time": "2025-04-25T00:20:12.259Z"
   },
   {
    "duration": 64,
    "start_time": "2025-04-25T00:20:12.573Z"
   },
   {
    "duration": 12,
    "start_time": "2025-04-25T00:20:12.639Z"
   },
   {
    "duration": 11,
    "start_time": "2025-04-25T00:20:12.653Z"
   },
   {
    "duration": 2215,
    "start_time": "2025-04-25T00:20:12.665Z"
   },
   {
    "duration": 230,
    "start_time": "2025-04-25T00:20:14.884Z"
   },
   {
    "duration": 129,
    "start_time": "2025-04-25T00:20:15.116Z"
   },
   {
    "duration": 168,
    "start_time": "2025-04-25T00:20:15.247Z"
   },
   {
    "duration": 289,
    "start_time": "2025-04-25T00:20:15.417Z"
   },
   {
    "duration": 156,
    "start_time": "2025-04-25T00:20:15.708Z"
   },
   {
    "duration": 51,
    "start_time": "2025-04-25T00:20:19.814Z"
   },
   {
    "duration": 40,
    "start_time": "2025-04-25T00:20:22.517Z"
   },
   {
    "duration": 55,
    "start_time": "2025-04-25T00:20:23.152Z"
   },
   {
    "duration": 412,
    "start_time": "2025-04-25T00:30:58.923Z"
   },
   {
    "duration": 63,
    "start_time": "2025-04-25T00:31:08.572Z"
   },
   {
    "duration": 11,
    "start_time": "2025-04-25T00:38:35.881Z"
   },
   {
    "duration": 97,
    "start_time": "2025-04-25T00:39:49.577Z"
   },
   {
    "duration": 47,
    "start_time": "2025-04-25T00:44:28.365Z"
   },
   {
    "duration": 36,
    "start_time": "2025-04-25T00:45:07.954Z"
   },
   {
    "duration": 9,
    "start_time": "2025-04-25T00:47:49.780Z"
   },
   {
    "duration": 8,
    "start_time": "2025-04-25T00:48:05.042Z"
   },
   {
    "duration": 9,
    "start_time": "2025-04-25T00:48:39.039Z"
   },
   {
    "duration": 295,
    "start_time": "2025-04-26T00:06:02.116Z"
   },
   {
    "duration": 425,
    "start_time": "2025-04-26T00:06:02.414Z"
   },
   {
    "duration": 302,
    "start_time": "2025-04-26T00:06:02.841Z"
   },
   {
    "duration": 63,
    "start_time": "2025-04-26T00:06:03.144Z"
   },
   {
    "duration": 12,
    "start_time": "2025-04-26T00:06:03.209Z"
   },
   {
    "duration": 11,
    "start_time": "2025-04-26T00:06:03.222Z"
   },
   {
    "duration": 2142,
    "start_time": "2025-04-26T00:06:03.235Z"
   },
   {
    "duration": 221,
    "start_time": "2025-04-26T00:06:05.379Z"
   },
   {
    "duration": 122,
    "start_time": "2025-04-26T00:06:05.602Z"
   },
   {
    "duration": 167,
    "start_time": "2025-04-26T00:06:05.726Z"
   },
   {
    "duration": 210,
    "start_time": "2025-04-26T00:06:05.894Z"
   },
   {
    "duration": 179,
    "start_time": "2025-04-26T00:06:06.107Z"
   },
   {
    "duration": 56,
    "start_time": "2025-04-26T00:06:06.288Z"
   },
   {
    "duration": 39,
    "start_time": "2025-04-26T00:06:06.345Z"
   },
   {
    "duration": 64,
    "start_time": "2025-04-26T00:06:06.387Z"
   },
   {
    "duration": 61,
    "start_time": "2025-04-26T00:06:06.493Z"
   },
   {
    "duration": 46,
    "start_time": "2025-04-26T00:06:08.462Z"
   },
   {
    "duration": 35,
    "start_time": "2025-04-26T00:06:08.775Z"
   },
   {
    "duration": 10,
    "start_time": "2025-04-26T00:06:09.729Z"
   },
   {
    "duration": 7,
    "start_time": "2025-04-26T00:06:09.924Z"
   },
   {
    "duration": 8,
    "start_time": "2025-04-26T00:06:17.514Z"
   },
   {
    "duration": 8,
    "start_time": "2025-04-26T00:11:13.021Z"
   },
   {
    "duration": 300,
    "start_time": "2025-04-26T01:33:10.101Z"
   },
   {
    "duration": 667,
    "start_time": "2025-04-26T01:34:46.547Z"
   },
   {
    "duration": 12,
    "start_time": "2025-04-26T01:34:52.068Z"
   },
   {
    "duration": 7,
    "start_time": "2025-04-26T01:34:58.540Z"
   },
   {
    "duration": 7,
    "start_time": "2025-04-26T01:35:06.409Z"
   },
   {
    "duration": 8,
    "start_time": "2025-04-26T01:35:15.970Z"
   },
   {
    "duration": 8,
    "start_time": "2025-04-26T01:35:31.001Z"
   },
   {
    "duration": 9,
    "start_time": "2025-04-26T01:35:43.474Z"
   },
   {
    "duration": 10,
    "start_time": "2025-04-26T01:36:50.409Z"
   },
   {
    "duration": 8,
    "start_time": "2025-04-26T01:37:21.236Z"
   },
   {
    "duration": 8,
    "start_time": "2025-04-26T01:37:30.147Z"
   },
   {
    "duration": 321,
    "start_time": "2025-04-27T20:17:07.567Z"
   },
   {
    "duration": 321,
    "start_time": "2025-04-27T20:17:07.890Z"
   },
   {
    "duration": 324,
    "start_time": "2025-04-27T20:17:08.213Z"
   },
   {
    "duration": 65,
    "start_time": "2025-04-27T20:17:08.540Z"
   },
   {
    "duration": 12,
    "start_time": "2025-04-27T20:17:08.607Z"
   },
   {
    "duration": 11,
    "start_time": "2025-04-27T20:17:08.621Z"
   },
   {
    "duration": 2230,
    "start_time": "2025-04-27T20:17:08.634Z"
   },
   {
    "duration": 234,
    "start_time": "2025-04-27T20:17:10.867Z"
   },
   {
    "duration": 125,
    "start_time": "2025-04-27T20:17:11.103Z"
   },
   {
    "duration": 173,
    "start_time": "2025-04-27T20:17:11.230Z"
   },
   {
    "duration": 235,
    "start_time": "2025-04-27T20:17:11.405Z"
   },
   {
    "duration": 152,
    "start_time": "2025-04-27T20:17:11.642Z"
   },
   {
    "duration": 58,
    "start_time": "2025-04-27T20:17:11.796Z"
   },
   {
    "duration": 40,
    "start_time": "2025-04-27T20:17:11.856Z"
   },
   {
    "duration": 60,
    "start_time": "2025-04-27T20:17:11.973Z"
   },
   {
    "duration": 60,
    "start_time": "2025-04-27T20:17:12.151Z"
   },
   {
    "duration": 51,
    "start_time": "2025-04-27T20:17:13.037Z"
   },
   {
    "duration": 38,
    "start_time": "2025-04-27T20:17:13.417Z"
   },
   {
    "duration": 9,
    "start_time": "2025-04-27T20:17:14.371Z"
   },
   {
    "duration": 8,
    "start_time": "2025-04-27T20:17:14.568Z"
   },
   {
    "duration": 2,
    "start_time": "2025-04-27T20:17:15.183Z"
   },
   {
    "duration": 8,
    "start_time": "2025-04-27T20:18:01.616Z"
   },
   {
    "duration": 13,
    "start_time": "2025-04-27T20:33:13.910Z"
   },
   {
    "duration": 15,
    "start_time": "2025-04-27T20:33:46.357Z"
   },
   {
    "duration": 9,
    "start_time": "2025-04-27T20:34:07.683Z"
   },
   {
    "duration": 15,
    "start_time": "2025-04-27T20:35:32.241Z"
   },
   {
    "duration": 12,
    "start_time": "2025-04-27T20:52:45.115Z"
   },
   {
    "duration": 568,
    "start_time": "2025-04-28T00:32:25.929Z"
   },
   {
    "duration": 434,
    "start_time": "2025-04-28T00:34:22.809Z"
   },
   {
    "duration": 42,
    "start_time": "2025-04-28T00:37:10.132Z"
   },
   {
    "duration": 42,
    "start_time": "2025-04-28T00:37:26.881Z"
   },
   {
    "duration": 39,
    "start_time": "2025-04-28T00:37:41.723Z"
   },
   {
    "duration": 39,
    "start_time": "2025-04-28T00:38:46.988Z"
   },
   {
    "duration": 38,
    "start_time": "2025-04-28T00:38:52.315Z"
   },
   {
    "duration": 130,
    "start_time": "2025-04-28T00:47:33.902Z"
   },
   {
    "duration": 47,
    "start_time": "2025-04-28T00:47:41.317Z"
   },
   {
    "duration": 37,
    "start_time": "2025-04-28T01:02:51.474Z"
   },
   {
    "duration": 37,
    "start_time": "2025-04-28T01:04:43.751Z"
   },
   {
    "duration": 89,
    "start_time": "2025-04-28T01:17:26.485Z"
   },
   {
    "duration": 38,
    "start_time": "2025-04-28T01:17:42.239Z"
   },
   {
    "duration": 51,
    "start_time": "2025-04-28T01:18:05.966Z"
   },
   {
    "duration": 50,
    "start_time": "2025-04-28T01:18:29.995Z"
   },
   {
    "duration": 23,
    "start_time": "2025-04-28T01:19:00.215Z"
   },
   {
    "duration": 86,
    "start_time": "2025-04-28T01:19:15.534Z"
   },
   {
    "duration": 44,
    "start_time": "2025-04-28T01:20:42.175Z"
   },
   {
    "duration": 13,
    "start_time": "2025-04-28T01:20:49.241Z"
   },
   {
    "duration": 40,
    "start_time": "2025-04-28T01:22:12.912Z"
   },
   {
    "duration": 38,
    "start_time": "2025-04-28T01:22:22.653Z"
   },
   {
    "duration": 325,
    "start_time": "2025-04-28T01:27:32.155Z"
   },
   {
    "duration": 334,
    "start_time": "2025-05-01T01:06:50.958Z"
   },
   {
    "duration": 309,
    "start_time": "2025-05-01T01:06:51.294Z"
   },
   {
    "duration": 317,
    "start_time": "2025-05-01T01:06:51.606Z"
   },
   {
    "duration": 71,
    "start_time": "2025-05-01T01:06:51.925Z"
   },
   {
    "duration": 11,
    "start_time": "2025-05-01T01:06:51.998Z"
   },
   {
    "duration": 10,
    "start_time": "2025-05-01T01:06:52.012Z"
   },
   {
    "duration": 2064,
    "start_time": "2025-05-01T01:06:52.024Z"
   },
   {
    "duration": 241,
    "start_time": "2025-05-01T01:06:54.090Z"
   },
   {
    "duration": 140,
    "start_time": "2025-05-01T01:06:54.333Z"
   },
   {
    "duration": 155,
    "start_time": "2025-05-01T01:06:54.477Z"
   },
   {
    "duration": 194,
    "start_time": "2025-05-01T01:06:54.634Z"
   },
   {
    "duration": 152,
    "start_time": "2025-05-01T01:06:54.830Z"
   },
   {
    "duration": 50,
    "start_time": "2025-05-01T01:06:55.054Z"
   },
   {
    "duration": 40,
    "start_time": "2025-05-01T01:06:55.237Z"
   },
   {
    "duration": 54,
    "start_time": "2025-05-01T01:06:55.409Z"
   },
   {
    "duration": 58,
    "start_time": "2025-05-01T01:06:55.592Z"
   },
   {
    "duration": 50,
    "start_time": "2025-05-01T01:06:56.212Z"
   },
   {
    "duration": 34,
    "start_time": "2025-05-01T01:07:04.630Z"
   },
   {
    "duration": 35,
    "start_time": "2025-05-01T01:07:05.634Z"
   },
   {
    "duration": 36,
    "start_time": "2025-05-01T01:07:06.838Z"
   },
   {
    "duration": 39,
    "start_time": "2025-05-01T01:07:10.415Z"
   },
   {
    "duration": 14,
    "start_time": "2025-05-01T01:07:11.022Z"
   },
   {
    "duration": 37,
    "start_time": "2025-05-01T01:07:11.736Z"
   },
   {
    "duration": 115,
    "start_time": "2025-05-01T01:07:12.416Z"
   },
   {
    "duration": 2,
    "start_time": "2025-05-01T01:12:50.935Z"
   },
   {
    "duration": 254,
    "start_time": "2025-05-01T01:12:51.115Z"
   },
   {
    "duration": 268,
    "start_time": "2025-05-01T01:12:51.371Z"
   },
   {
    "duration": 47,
    "start_time": "2025-05-01T01:12:51.641Z"
   },
   {
    "duration": 10,
    "start_time": "2025-05-01T01:12:51.689Z"
   },
   {
    "duration": 8,
    "start_time": "2025-05-01T01:12:51.702Z"
   },
   {
    "duration": 1986,
    "start_time": "2025-05-01T01:12:51.839Z"
   },
   {
    "duration": 232,
    "start_time": "2025-05-01T01:12:53.830Z"
   },
   {
    "duration": 111,
    "start_time": "2025-05-01T01:12:54.696Z"
   },
   {
    "duration": 153,
    "start_time": "2025-05-01T01:12:55.028Z"
   },
   {
    "duration": 178,
    "start_time": "2025-05-01T01:12:55.196Z"
   },
   {
    "duration": 150,
    "start_time": "2025-05-01T01:12:55.376Z"
   },
   {
    "duration": 52,
    "start_time": "2025-05-01T01:12:56.773Z"
   },
   {
    "duration": 38,
    "start_time": "2025-05-01T01:12:56.940Z"
   },
   {
    "duration": 55,
    "start_time": "2025-05-01T01:12:57.091Z"
   },
   {
    "duration": 57,
    "start_time": "2025-05-01T01:12:57.256Z"
   },
   {
    "duration": 49,
    "start_time": "2025-05-01T01:12:57.735Z"
   },
   {
    "duration": 9,
    "start_time": "2025-05-01T01:12:58.238Z"
   },
   {
    "duration": 7,
    "start_time": "2025-05-01T01:12:58.406Z"
   },
   {
    "duration": 9,
    "start_time": "2025-05-01T01:12:59.095Z"
   },
   {
    "duration": 12,
    "start_time": "2025-05-01T01:12:59.268Z"
   },
   {
    "duration": 36,
    "start_time": "2025-05-01T01:12:59.445Z"
   },
   {
    "duration": 35,
    "start_time": "2025-05-01T01:13:00.328Z"
   },
   {
    "duration": 34,
    "start_time": "2025-05-01T01:13:00.879Z"
   },
   {
    "duration": 33,
    "start_time": "2025-05-01T01:13:01.443Z"
   },
   {
    "duration": 13,
    "start_time": "2025-05-01T01:13:02.014Z"
   },
   {
    "duration": 37,
    "start_time": "2025-05-01T01:13:02.386Z"
   },
   {
    "duration": 105,
    "start_time": "2025-05-01T01:13:02.964Z"
   },
   {
    "duration": 3,
    "start_time": "2025-05-01T01:13:03.163Z"
   },
   {
    "duration": 109,
    "start_time": "2025-05-01T01:19:51.685Z"
   },
   {
    "duration": 756,
    "start_time": "2025-05-01T01:25:09.694Z"
   },
   {
    "duration": 734,
    "start_time": "2025-05-01T01:27:00.046Z"
   },
   {
    "duration": 724,
    "start_time": "2025-05-01T01:29:56.225Z"
   },
   {
    "duration": 734,
    "start_time": "2025-05-01T01:30:09.280Z"
   },
   {
    "duration": 729,
    "start_time": "2025-05-01T01:41:28.026Z"
   },
   {
    "duration": 327,
    "start_time": "2025-05-01T21:39:59.130Z"
   },
   {
    "duration": 251,
    "start_time": "2025-05-01T21:39:59.459Z"
   },
   {
    "duration": 262,
    "start_time": "2025-05-01T21:39:59.712Z"
   },
   {
    "duration": 62,
    "start_time": "2025-05-01T21:39:59.976Z"
   },
   {
    "duration": 15,
    "start_time": "2025-05-01T21:40:00.040Z"
   },
   {
    "duration": 11,
    "start_time": "2025-05-01T21:40:00.056Z"
   },
   {
    "duration": 1786,
    "start_time": "2025-05-01T21:40:00.078Z"
   },
   {
    "duration": 220,
    "start_time": "2025-05-01T21:40:01.866Z"
   },
   {
    "duration": 128,
    "start_time": "2025-05-01T21:40:02.088Z"
   },
   {
    "duration": 154,
    "start_time": "2025-05-01T21:40:02.320Z"
   },
   {
    "duration": 192,
    "start_time": "2025-05-01T21:40:02.498Z"
   },
   {
    "duration": 144,
    "start_time": "2025-05-01T21:40:02.692Z"
   },
   {
    "duration": 50,
    "start_time": "2025-05-01T21:40:03.371Z"
   },
   {
    "duration": 38,
    "start_time": "2025-05-01T21:40:03.521Z"
   },
   {
    "duration": 53,
    "start_time": "2025-05-01T21:40:03.673Z"
   },
   {
    "duration": 55,
    "start_time": "2025-05-01T21:40:03.839Z"
   },
   {
    "duration": 47,
    "start_time": "2025-05-01T21:40:04.361Z"
   },
   {
    "duration": 8,
    "start_time": "2025-05-01T21:40:04.866Z"
   },
   {
    "duration": 8,
    "start_time": "2025-05-01T21:40:05.036Z"
   },
   {
    "duration": 7,
    "start_time": "2025-05-01T21:40:05.724Z"
   },
   {
    "duration": 11,
    "start_time": "2025-05-01T21:40:05.898Z"
   },
   {
    "duration": 34,
    "start_time": "2025-05-01T21:40:06.064Z"
   },
   {
    "duration": 34,
    "start_time": "2025-05-01T21:40:06.921Z"
   },
   {
    "duration": 34,
    "start_time": "2025-05-01T21:40:07.436Z"
   },
   {
    "duration": 34,
    "start_time": "2025-05-01T21:40:07.967Z"
   },
   {
    "duration": 15,
    "start_time": "2025-05-01T21:40:08.491Z"
   },
   {
    "duration": 34,
    "start_time": "2025-05-01T21:40:08.846Z"
   },
   {
    "duration": 118,
    "start_time": "2025-05-01T21:40:09.351Z"
   },
   {
    "duration": 107,
    "start_time": "2025-05-01T21:40:09.526Z"
   },
   {
    "duration": 713,
    "start_time": "2025-05-01T21:40:10.216Z"
   },
   {
    "duration": 721,
    "start_time": "2025-05-01T21:40:10.931Z"
   },
   {
    "duration": 690,
    "start_time": "2025-05-01T21:40:11.654Z"
   },
   {
    "duration": 691,
    "start_time": "2025-05-01T21:40:12.346Z"
   },
   {
    "duration": 734,
    "start_time": "2025-05-01T21:40:13.039Z"
   },
   {
    "duration": 106,
    "start_time": "2025-05-01T21:54:38.114Z"
   },
   {
    "duration": 102,
    "start_time": "2025-05-01T21:54:39.856Z"
   },
   {
    "duration": 2595,
    "start_time": "2025-05-01T22:17:53.090Z"
   },
   {
    "duration": 1182,
    "start_time": "2025-05-01T22:28:53.037Z"
   }
  ],
  "colab": {
   "provenance": []
  },
  "kernelspec": {
   "display_name": "Python 3 (ipykernel)",
   "language": "python",
   "name": "python3"
  },
  "language_info": {
   "codemirror_mode": {
    "name": "ipython",
    "version": 3
   },
   "file_extension": ".py",
   "mimetype": "text/x-python",
   "name": "python",
   "nbconvert_exporter": "python",
   "pygments_lexer": "ipython3",
   "version": "3.9.23"
  },
  "toc": {
   "base_numbering": 1,
   "nav_menu": {},
   "number_sections": true,
   "sideBar": true,
   "skip_h1_title": true,
   "title_cell": "Table of Contents",
   "title_sidebar": "Contents",
   "toc_cell": false,
   "toc_position": {},
   "toc_section_display": true,
   "toc_window_display": false
  },
  "vscode": {
   "interpreter": {
    "hash": "01a7be9ec63e704a62cefc5fe7a4756944464ee731be31632bdf42a4cb4688cf"
   }
  }
 },
 "nbformat": 4,
 "nbformat_minor": 5
}
